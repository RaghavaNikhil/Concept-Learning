{
 "cells": [
  {
   "cell_type": "code",
   "execution_count": 1,
   "metadata": {},
   "outputs": [
    {
     "name": "stderr",
     "output_type": "stream",
     "text": [
      "/Users/abhiram/miniconda3/envs/nlp/lib/python3.10/site-packages/tqdm/auto.py:21: TqdmWarning: IProgress not found. Please update jupyter and ipywidgets. See https://ipywidgets.readthedocs.io/en/stable/user_install.html\n",
      "  from .autonotebook import tqdm as notebook_tqdm\n"
     ]
    },
    {
     "data": {
      "text/plain": [
       "KandinskyV22Pipeline {\n",
       "  \"_class_name\": \"KandinskyV22Pipeline\",\n",
       "  \"_diffusers_version\": \"0.18.2\",\n",
       "  \"movq\": [\n",
       "    \"diffusers\",\n",
       "    \"VQModel\"\n",
       "  ],\n",
       "  \"scheduler\": [\n",
       "    \"diffusers\",\n",
       "    \"DDPMScheduler\"\n",
       "  ],\n",
       "  \"unet\": [\n",
       "    \"diffusers\",\n",
       "    \"UNet2DConditionModel\"\n",
       "  ]\n",
       "}"
      ]
     },
     "execution_count": 1,
     "metadata": {},
     "output_type": "execute_result"
    }
   ],
   "source": [
    "from diffusers import KandinskyV22Pipeline, KandinskyV22PriorEmb2EmbPipeline, KandinskyV22PriorPipeline\n",
    "from diffusers.utils import load_image\n",
    "import torch\n",
    "\n",
    "pipe_prior = KandinskyV22PriorEmb2EmbPipeline.from_pretrained(\n",
    "    \"kandinsky-community/kandinsky-2-2-prior\", torch_dtype=torch.float16\n",
    ")\n",
    "\n",
    "pipe_prior.to(\"cuda:0\")\n",
    "\n",
    "pipe = KandinskyV22Pipeline.from_pretrained(\n",
    "    \"kandinsky-community/kandinsky-2-2-decoder\", torch_dtype=torch.float16\n",
    ")\n",
    "\n",
    "pipe.to(\"cuda:0\")\n"
   ]
  },
  {
   "cell_type": "code",
   "execution_count": 2,
   "metadata": {},
   "outputs": [],
   "source": [
    "prompt = \"\"\n",
    "source_img1 = load_image(\n",
    "    \"../assets/dog2.png\"  # provide the path to the image\n",
    ")\n",
    "source_img2 = load_image(\n",
    "    \"../assets/dog2_with_toy.png\"  # provide the path to the image\n",
    ")"
   ]
  },
  {
   "cell_type": "code",
   "execution_count": 3,
   "metadata": {},
   "outputs": [],
   "source": [
    "source_img1_feats = pipe_prior._encode_image([source_img1], device=\"cuda:0\", num_images_per_prompt=1)\n",
    "source_img2_feats = pipe_prior._encode_image([source_img2], device=\"cuda:0\", num_images_per_prompt=1)\n",
    "\n",
    "# get the edit direction --> edit = feat(image2) - feat(image1)\n",
    "edit_direction = source_img2_feats - source_img1_feats"
   ]
  },
  {
   "cell_type": "code",
   "execution_count": 6,
   "metadata": {},
   "outputs": [],
   "source": [
    "target_img = load_image(\n",
    "    \"../assets/cat1.png\"  # provide the path to the image\n",
    ")\n"
   ]
  },
  {
   "cell_type": "code",
   "execution_count": 7,
   "metadata": {},
   "outputs": [
    {
     "name": "stderr",
     "output_type": "stream",
     "text": [
      "python(17615) MallocStackLogging: can't turn off malloc stack logging because it was not enabled.\n",
      "100%|██████████| 2/2 [00:11<00:00,  5.75s/it]\n"
     ]
    }
   ],
   "source": [
    "target_image_emb, target_negative_image_emb = pipe_prior(prompt, image=target_img, strength=0.1).to_tuple()"
   ]
  },
  {
   "cell_type": "code",
   "execution_count": 8,
   "metadata": {},
   "outputs": [],
   "source": [
    "target_image_emb = target_image_emb + edit_direction"
   ]
  },
  {
   "cell_type": "code",
   "execution_count": null,
   "metadata": {},
   "outputs": [],
   "source": [
    "image = pipe(\n",
    "    image_embeds=target_image_emb,\n",
    "    negative_image_embeds=target_negative_image_emb,\n",
    "    height=768,\n",
    "    width=768,\n",
    "    num_inference_steps=100,\n",
    ").images\n",
    "\n"
   ]
  },
  {
   "cell_type": "code",
   "execution_count": 10,
   "metadata": {},
   "outputs": [],
   "source": [
    "image[0].save(\"../data/tests/test.png\")"
   ]
  },
  {
   "cell_type": "code",
   "execution_count": null,
   "metadata": {},
   "outputs": [],
   "source": []
  }
 ],
 "metadata": {
  "kernelspec": {
   "display_name": "nlp",
   "language": "python",
   "name": "python3"
  },
  "language_info": {
   "codemirror_mode": {
    "name": "ipython",
    "version": 3
   },
   "file_extension": ".py",
   "mimetype": "text/x-python",
   "name": "python",
   "nbconvert_exporter": "python",
   "pygments_lexer": "ipython3",
   "version": "3.10.13"
  }
 },
 "nbformat": 4,
 "nbformat_minor": 2
}
