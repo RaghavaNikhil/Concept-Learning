{
 "cells": [
  {
   "cell_type": "code",
   "execution_count": 1,
   "metadata": {},
   "outputs": [
    {
     "name": "stderr",
     "output_type": "stream",
     "text": [
      "/home/nkusumba/.conda/envs/nlp-project/lib/python3.10/site-packages/tqdm/auto.py:21: TqdmWarning: IProgress not found. Please update jupyter and ipywidgets. See https://ipywidgets.readthedocs.io/en/stable/user_install.html\n",
      "  from .autonotebook import tqdm as notebook_tqdm\n"
     ]
    }
   ],
   "source": [
    "from PIL import Image\n",
    "import requests\n",
    "import torch\n",
    "from diffusers import StableDiffusionInstructPix2PixPipeline\n"
   ]
  },
  {
   "cell_type": "code",
   "execution_count": 2,
   "metadata": {},
   "outputs": [
    {
     "name": "stderr",
     "output_type": "stream",
     "text": [
      "Downloading model_index.json: 100%|████████████| 616/616 [00:00<00:00, 5.16MB/s]\n",
      "Fetching 15 files:   0%|                                 | 0/15 [00:00<?, ?it/s]\n",
      "Downloading (…)rocessor_config.json: 100%|█████| 518/518 [00:00<00:00, 5.38MB/s]\u001b[A\n",
      "\n",
      "Downloading (…)_checker/config.json: 100%|█| 4.91k/4.91k [00:00<00:00, 57.0MB/s]\u001b[A\n",
      "\n",
      "Downloading (…)_encoder/config.json: 100%|█████| 617/617 [00:00<00:00, 7.59MB/s]\u001b[A\n",
      "Fetching 15 files:   7%|█▋                       | 1/15 [00:00<00:02,  5.58it/s]\n",
      "Downloading (…)cheduler_config.json: 100%|█████| 569/569 [00:00<00:00, 5.64MB/s]\u001b[A\n",
      "\n",
      "Downloading tokenizer/merges.txt:   0%|              | 0.00/525k [00:00<?, ?B/s]\u001b[A\n",
      "\n",
      "Downloading (…)cial_tokens_map.json: 100%|█████| 472/472 [00:00<00:00, 4.95MB/s]\u001b[A\u001b[A\n",
      "\n",
      "Downloading tokenizer/merges.txt: 100%|██████| 525k/525k [00:00<00:00, 4.70MB/s]\u001b[A\n",
      "\n",
      "\n",
      "\n",
      "Downloading tokenizer/vocab.json:   0%|             | 0.00/1.06M [00:00<?, ?B/s]\u001b[A\u001b[A\u001b[A\n",
      "\n",
      "Downloading (…)okenizer_config.json: 100%|█████| 806/806 [00:00<00:00, 10.0MB/s]\u001b[A\u001b[A\n",
      "\n",
      "Downloading unet/config.json: 100%|████████| 1.02k/1.02k [00:00<00:00, 13.9MB/s]\u001b[A\n",
      "\n",
      "Downloading model.safetensors:   0%|                 | 0.00/492M [00:00<?, ?B/s]\u001b[A\n",
      "\n",
      "Downloading (…)ch_model.safetensors:   0%|          | 0.00/3.44G [00:00<?, ?B/s]\u001b[A\u001b[A\n",
      "\n",
      "\n",
      "\n",
      "Downloading model.safetensors:   0%|                | 0.00/1.22G [00:00<?, ?B/s]\u001b[A\u001b[A\u001b[A\u001b[A\n",
      "Downloading model.safetensors:   2%|▏       | 10.5M/492M [00:00<00:05, 88.6MB/s]\u001b[A\n",
      "\n",
      "\n",
      "\n",
      "\n",
      "Downloading (…)ch_model.safetensors:   0%|           | 0.00/335M [00:00<?, ?B/s]\u001b[A\u001b[A\u001b[A\u001b[A\u001b[A\n",
      "\n",
      "\n",
      "Downloading tokenizer/vocab.json: 100%|████| 1.06M/1.06M [00:00<00:00, 4.67MB/s]\u001b[A\u001b[A\u001b[A\n",
      "\n",
      "\n",
      "\n",
      "Downloading vae/config.json: 100%|█████████████| 553/553 [00:00<00:00, 5.89MB/s]\u001b[A\u001b[A\u001b[A\n",
      "\n",
      "\n",
      "Downloading (…)ch_model.safetensors:   1%| | 21.0M/3.44G [00:00<00:40, 83.6MB/s]\u001b[A\u001b[A\n",
      "Downloading model.safetensors:   4%|▎       | 21.0M/492M [00:00<00:06, 76.4MB/s]\u001b[A\n",
      "\n",
      "\n",
      "\n",
      "Downloading model.safetensors:   1%|       | 10.5M/1.22G [00:00<00:26, 45.0MB/s]\u001b[A\u001b[A\u001b[A\u001b[A\n",
      "\n",
      "\n",
      "\n",
      "\n",
      "Downloading (…)ch_model.safetensors:   3%|  | 10.5M/335M [00:00<00:03, 87.7MB/s]\u001b[A\u001b[A\u001b[A\u001b[A\u001b[A\n",
      "\n",
      "Downloading (…)ch_model.safetensors:   1%| | 31.5M/3.44G [00:00<00:40, 83.3MB/s]\u001b[A\u001b[A\n",
      "Downloading model.safetensors:   6%|▌       | 31.5M/492M [00:00<00:05, 80.3MB/s]\u001b[A\n",
      "\n",
      "\n",
      "\n",
      "\n",
      "Downloading (…)ch_model.safetensors:   6%|▏ | 21.0M/335M [00:00<00:03, 89.5MB/s]\u001b[A\u001b[A\u001b[A\u001b[A\u001b[A\n",
      "\n",
      "\n",
      "\n",
      "Downloading model.safetensors:   2%|       | 21.0M/1.22G [00:00<00:25, 46.6MB/s]\u001b[A\u001b[A\u001b[A\u001b[A\n",
      "\n",
      "Downloading (…)ch_model.safetensors:   1%| | 41.9M/3.44G [00:00<00:44, 76.2MB/s]\u001b[A\u001b[A\n",
      "Downloading model.safetensors:   9%|▋       | 41.9M/492M [00:00<00:06, 73.4MB/s]\u001b[A\n",
      "\n",
      "\n",
      "\n",
      "\n",
      "Downloading (…)ch_model.safetensors:   9%|▏ | 31.5M/335M [00:00<00:03, 75.9MB/s]\u001b[A\u001b[A\u001b[A\u001b[A\u001b[A\n",
      "\n",
      "\n",
      "\n",
      "Downloading model.safetensors:   3%|▏      | 31.5M/1.22G [00:00<00:22, 53.8MB/s]\u001b[A\u001b[A\u001b[A\u001b[A\n",
      "\n",
      "Downloading (…)ch_model.safetensors:   2%| | 52.4M/3.44G [00:00<00:43, 77.2MB/s]\u001b[A\u001b[A\n",
      "Downloading model.safetensors:  11%|▊       | 52.4M/492M [00:00<00:06, 71.7MB/s]\u001b[A\n",
      "\n",
      "\n",
      "\n",
      "\n",
      "Downloading (…)ch_model.safetensors:  13%|▎ | 41.9M/335M [00:00<00:03, 75.3MB/s]\u001b[A\u001b[A\u001b[A\u001b[A\u001b[A\n",
      "\n",
      "\n",
      "\n",
      "Downloading model.safetensors:   3%|▏      | 41.9M/1.22G [00:00<00:18, 62.7MB/s]\u001b[A\u001b[A\u001b[A\u001b[A\n",
      "\n",
      "Downloading (…)ch_model.safetensors:   2%| | 62.9M/3.44G [00:00<00:41, 81.0MB/s]\u001b[A\u001b[A\n",
      "Downloading model.safetensors:  13%|█       | 62.9M/492M [00:00<00:05, 79.0MB/s]\u001b[A\n",
      "\n",
      "\n",
      "\n",
      "\n",
      "Downloading (…)ch_model.safetensors:  16%|▎ | 52.4M/335M [00:00<00:03, 82.7MB/s]\u001b[A\u001b[A\u001b[A\u001b[A\u001b[A\n",
      "\n",
      "\n",
      "\n",
      "Downloading model.safetensors:   4%|▎      | 52.4M/1.22G [00:00<00:16, 71.2MB/s]\u001b[A\u001b[A\u001b[A\u001b[A\n",
      "\n",
      "Downloading (…)ch_model.safetensors:   2%| | 73.4M/3.44G [00:00<00:41, 82.0MB/s]\u001b[A\u001b[A\n",
      "Downloading model.safetensors:  15%|█▏      | 73.4M/492M [00:00<00:05, 79.8MB/s]\u001b[A\n",
      "\n",
      "\n",
      "\n",
      "\n",
      "Downloading (…)ch_model.safetensors:  19%|▍ | 62.9M/335M [00:00<00:03, 81.2MB/s]\u001b[A\u001b[A\u001b[A\u001b[A\u001b[A\n",
      "\n",
      "\n",
      "\n",
      "Downloading model.safetensors:   5%|▎      | 62.9M/1.22G [00:00<00:15, 76.6MB/s]\u001b[A\u001b[A\u001b[A\u001b[A\n",
      "\n",
      "Downloading (…)ch_model.safetensors:   2%| | 83.9M/3.44G [00:01<00:39, 84.6MB/s]\u001b[A\u001b[A\n",
      "Downloading model.safetensors:  17%|█▎      | 83.9M/492M [00:01<00:05, 77.5MB/s]\u001b[A\n",
      "\n",
      "\n",
      "\n",
      "\n",
      "Downloading (…)ch_model.safetensors:  22%|▍ | 73.4M/335M [00:00<00:03, 79.5MB/s]\u001b[A\u001b[A\u001b[A\u001b[A\u001b[A\n",
      "\n",
      "\n",
      "\n",
      "Downloading model.safetensors:   6%|▍      | 73.4M/1.22G [00:01<00:14, 76.9MB/s]\u001b[A\u001b[A\u001b[A\u001b[A\n",
      "\n",
      "Downloading (…)ch_model.safetensors:   3%| | 94.4M/3.44G [00:01<00:38, 85.8MB/s]\u001b[A\u001b[A\n",
      "Downloading model.safetensors:  19%|█▌      | 94.4M/492M [00:01<00:04, 82.9MB/s]\u001b[A\n",
      "\n",
      "\n",
      "\n",
      "\n",
      "Downloading (…)ch_model.safetensors:  25%|▌ | 83.9M/335M [00:01<00:02, 84.7MB/s]\u001b[A\u001b[A\u001b[A\u001b[A\u001b[A\n",
      "\n",
      "\n",
      "\n",
      "Downloading model.safetensors:   7%|▍      | 83.9M/1.22G [00:01<00:13, 81.3MB/s]\u001b[A\u001b[A\u001b[A\u001b[A\n",
      "\n",
      "Downloading (…)ch_model.safetensors:   3%|  | 105M/3.44G [00:01<00:40, 83.1MB/s]\u001b[A\u001b[A\n",
      "Downloading model.safetensors:  21%|█▉       | 105M/492M [00:01<00:04, 81.8MB/s]\u001b[A\n",
      "\n",
      "\n",
      "\n",
      "\n",
      "Downloading (…)ch_model.safetensors:  28%|▌ | 94.4M/335M [00:01<00:03, 79.1MB/s]\u001b[A\u001b[A\u001b[A\u001b[A\u001b[A\n",
      "\n",
      "\n",
      "\n",
      "Downloading model.safetensors:   8%|▌      | 94.4M/1.22G [00:01<00:13, 83.7MB/s]\u001b[A\u001b[A\u001b[A\u001b[A\n",
      "\n",
      "Downloading (…)ch_model.safetensors:   3%|  | 115M/3.44G [00:01<00:38, 85.9MB/s]\u001b[A\u001b[A\n",
      "Downloading model.safetensors:  23%|██       | 115M/492M [00:01<00:04, 78.8MB/s]\u001b[A\n",
      "\n",
      "\n",
      "\n",
      "Downloading model.safetensors:   9%|▋       | 105M/1.22G [00:01<00:13, 85.3MB/s]\u001b[A\u001b[A\u001b[A\u001b[A\n",
      "\n",
      "\n",
      "\n",
      "\n",
      "Downloading (…)ch_model.safetensors:  31%|▉  | 105M/335M [00:01<00:02, 79.1MB/s]\u001b[A\u001b[A\u001b[A\u001b[A\u001b[A\n",
      "\n",
      "Downloading (…)ch_model.safetensors:   4%|  | 126M/3.44G [00:01<00:38, 85.3MB/s]\u001b[A\u001b[A\n",
      "Downloading model.safetensors:  26%|██▎      | 126M/492M [00:01<00:04, 82.0MB/s]\u001b[A\n",
      "\n",
      "\n",
      "\n",
      "Downloading model.safetensors:   9%|▊       | 115M/1.22G [00:01<00:12, 85.9MB/s]\u001b[A\u001b[A\u001b[A\u001b[A\n",
      "\n",
      "\n",
      "\n",
      "\n",
      "Downloading (…)ch_model.safetensors:  34%|█  | 115M/335M [00:01<00:02, 78.5MB/s]\u001b[A\u001b[A\u001b[A\u001b[A\u001b[A\n",
      "\n",
      "Downloading (…)ch_model.safetensors:   4%|  | 136M/3.44G [00:01<00:40, 81.4MB/s]\u001b[A\u001b[A\n",
      "Downloading model.safetensors:  28%|██▍      | 136M/492M [00:01<00:04, 78.9MB/s]\u001b[A\n",
      "\n",
      "\n",
      "\n",
      "Downloading model.safetensors:  10%|▊       | 126M/1.22G [00:01<00:13, 83.8MB/s]\u001b[A\u001b[A\u001b[A\u001b[A\n",
      "\n",
      "\n",
      "\n",
      "\n",
      "Downloading (…)ch_model.safetensors:  38%|█▏ | 126M/335M [00:01<00:02, 77.8MB/s]\u001b[A\u001b[A\u001b[A\u001b[A\u001b[A\n",
      "\n",
      "Downloading (…)ch_model.safetensors:   4%|  | 147M/3.44G [00:01<00:40, 81.4MB/s]\u001b[A\u001b[A\n",
      "\n",
      "\n",
      "\n",
      "Downloading model.safetensors:  11%|▉       | 136M/1.22G [00:01<00:12, 86.5MB/s]\u001b[A\u001b[A\u001b[A\u001b[A\n",
      "Downloading model.safetensors:  30%|██▋      | 147M/492M [00:01<00:04, 80.2MB/s]\u001b[A\n",
      "\n",
      "\n",
      "\n",
      "\n",
      "Downloading (…)ch_model.safetensors:  41%|█▏ | 136M/335M [00:01<00:02, 77.7MB/s]\u001b[A\u001b[A\u001b[A\u001b[A\u001b[A\n",
      "\n",
      "Downloading (…)ch_model.safetensors:   5%|  | 157M/3.44G [00:01<00:39, 84.1MB/s]\u001b[A\u001b[A\n",
      "Downloading model.safetensors:  32%|██▉      | 157M/492M [00:01<00:04, 81.8MB/s]\u001b[A\n",
      "\n",
      "\n",
      "\n",
      "Downloading model.safetensors:  12%|▉       | 147M/1.22G [00:01<00:12, 82.5MB/s]\u001b[A\u001b[A\u001b[A\u001b[A\n",
      "\n",
      "\n",
      "\n",
      "\n",
      "Downloading (…)ch_model.safetensors:  44%|█▎ | 147M/335M [00:01<00:02, 79.6MB/s]\u001b[A\u001b[A\u001b[A\u001b[A\u001b[A\n",
      "\n",
      "Downloading (…)ch_model.safetensors:   5%|  | 168M/3.44G [00:02<00:40, 80.8MB/s]\u001b[A\u001b[A\n",
      "\n",
      "\n",
      "\n",
      "Downloading model.safetensors:  13%|█       | 157M/1.22G [00:02<00:12, 83.5MB/s]\u001b[A\u001b[A\u001b[A\u001b[A\n",
      "Downloading model.safetensors:  34%|███      | 168M/492M [00:02<00:04, 78.6MB/s]\u001b[A\n",
      "\n",
      "\n",
      "\n",
      "\n",
      "Downloading (…)ch_model.safetensors:  47%|█▍ | 157M/335M [00:01<00:02, 76.8MB/s]\u001b[A\u001b[A\u001b[A\u001b[A\u001b[A\n",
      "\n",
      "Downloading (…)ch_model.safetensors:   5%|  | 178M/3.44G [00:02<00:40, 81.4MB/s]\u001b[A\u001b[A\n",
      "\n",
      "\n",
      "\n",
      "Downloading model.safetensors:  14%|█       | 168M/1.22G [00:02<00:12, 86.4MB/s]\u001b[A\u001b[A\u001b[A\u001b[A\n",
      "Downloading model.safetensors:  36%|███▎     | 178M/492M [00:02<00:03, 80.6MB/s]\u001b[A\n",
      "\n",
      "\n",
      "\n",
      "\n",
      "Downloading (…)ch_model.safetensors:  50%|█▌ | 168M/335M [00:02<00:02, 80.0MB/s]\u001b[A\u001b[A\u001b[A\u001b[A\u001b[A\n",
      "\n",
      "Downloading (…)ch_model.safetensors:   5%|  | 189M/3.44G [00:02<00:39, 82.2MB/s]\u001b[A\u001b[A\n",
      "\n",
      "\n",
      "\n",
      "Downloading model.safetensors:  15%|█▏      | 178M/1.22G [00:02<00:11, 86.7MB/s]\u001b[A\u001b[A\u001b[A\u001b[A\n",
      "Downloading model.safetensors:  38%|███▍     | 189M/492M [00:02<00:03, 82.6MB/s]\u001b[A\n",
      "\n",
      "Downloading (…)ch_model.safetensors:   6%|  | 199M/3.44G [00:02<00:37, 86.5MB/s]\u001b[A\u001b[A\n",
      "\n",
      "\n",
      "\n",
      "\n",
      "Downloading (…)ch_model.safetensors:  53%|█▌ | 178M/335M [00:02<00:01, 79.4MB/s]\u001b[A\u001b[A\u001b[A\u001b[A\u001b[A\n",
      "\n",
      "\n",
      "\n",
      "Downloading model.safetensors:  16%|█▎      | 199M/1.22G [00:02<00:10, 98.4MB/s]\u001b[A\u001b[A\u001b[A\u001b[A\n",
      "Downloading model.safetensors:  43%|███▊     | 210M/492M [00:02<00:02, 95.0MB/s]\u001b[A\n",
      "\n",
      "Downloading (…)ch_model.safetensors:   6%|▏ | 220M/3.44G [00:02<00:34, 92.4MB/s]\u001b[A\u001b[A\n",
      "\n",
      "\n",
      "\n",
      "\n",
      "Downloading (…)ch_model.safetensors:  60%|█▊ | 199M/335M [00:02<00:01, 86.6MB/s]\u001b[A\u001b[A\u001b[A\u001b[A\u001b[A\n",
      "\n",
      "\n",
      "\n",
      "Downloading model.safetensors:  17%|█▍      | 210M/1.22G [00:02<00:10, 99.6MB/s]\u001b[A\u001b[A\u001b[A\u001b[A\n",
      "Downloading model.safetensors:  45%|████     | 220M/492M [00:02<00:02, 92.7MB/s]\u001b[A\n",
      "\n",
      "Downloading (…)ch_model.safetensors:   7%|▏ | 231M/3.44G [00:02<00:35, 91.1MB/s]\u001b[A\u001b[A\n",
      "\n",
      "\n",
      "\n",
      "Downloading model.safetensors:  18%|█▍      | 220M/1.22G [00:02<00:10, 91.7MB/s]\u001b[A\u001b[A\u001b[A\u001b[A\n",
      "\n",
      "\n",
      "\n",
      "\n",
      "Downloading (…)ch_model.safetensors:  63%|█▉ | 210M/335M [00:02<00:01, 84.3MB/s]\u001b[A\u001b[A\u001b[A\u001b[A\u001b[A\n",
      "Downloading model.safetensors:  47%|████▏    | 231M/492M [00:02<00:03, 84.8MB/s]\u001b[A\n",
      "\n",
      "Downloading (…)ch_model.safetensors:   7%|▏ | 241M/3.44G [00:02<00:37, 84.6MB/s]\u001b[A\u001b[A\n",
      "\n",
      "\n",
      "\n",
      "Downloading model.safetensors:  19%|█▌      | 231M/1.22G [00:02<00:11, 86.0MB/s]\u001b[A\u001b[A\u001b[A\u001b[A\n",
      "\n",
      "\n",
      "\n",
      "\n",
      "Downloading (…)ch_model.safetensors:  66%|█▉ | 220M/335M [00:02<00:01, 78.2MB/s]\u001b[A\u001b[A\u001b[A\u001b[A\u001b[A\n",
      "Downloading model.safetensors:  49%|████▍    | 241M/492M [00:02<00:02, 84.1MB/s]\u001b[A\n",
      "\n",
      "Downloading (…)ch_model.safetensors:   7%|▏ | 252M/3.44G [00:03<00:38, 82.0MB/s]\u001b[A\u001b[A\n",
      "\n",
      "\n",
      "\n",
      "Downloading model.safetensors:  20%|█▌      | 241M/1.22G [00:03<00:11, 84.5MB/s]\u001b[A\u001b[A\u001b[A\u001b[A\n",
      "\n",
      "\n",
      "\n",
      "\n",
      "Downloading (…)ch_model.safetensors:  69%|██ | 231M/335M [00:02<00:01, 73.8MB/s]\u001b[A\u001b[A\u001b[A\u001b[A\u001b[A\n",
      "Downloading model.safetensors:  51%|████▌    | 252M/492M [00:03<00:03, 79.1MB/s]\u001b[A\n",
      "\n",
      "\n",
      "\n",
      "Downloading model.safetensors:  21%|█▋      | 252M/1.22G [00:03<00:11, 84.4MB/s]\u001b[A\u001b[A\u001b[A\u001b[A\n",
      "\n",
      "Downloading (…)ch_model.safetensors:   8%|▏ | 262M/3.44G [00:03<00:40, 79.2MB/s]\u001b[A\u001b[A\n",
      "\n",
      "\n",
      "\n",
      "\n",
      "Downloading (…)ch_model.safetensors:  72%|██▏| 241M/335M [00:03<00:01, 77.7MB/s]\u001b[A\u001b[A\u001b[A\u001b[A\u001b[A\n",
      "Downloading model.safetensors:  53%|████▊    | 262M/492M [00:03<00:02, 82.4MB/s]\u001b[A\n",
      "\n",
      "\n",
      "\n",
      "Downloading model.safetensors:  22%|█▋      | 262M/1.22G [00:03<00:11, 86.5MB/s]\u001b[A\u001b[A\u001b[A\u001b[A\n",
      "\n",
      "Downloading (…)ch_model.safetensors:   8%|▏ | 273M/3.44G [00:03<00:38, 81.4MB/s]\u001b[A\u001b[A\n",
      "\n",
      "\n",
      "\n",
      "\n",
      "Downloading (…)ch_model.safetensors:  75%|██▎| 252M/335M [00:03<00:01, 80.1MB/s]\u001b[A\u001b[A\u001b[A\u001b[A\u001b[A\n",
      "Downloading model.safetensors:  55%|████▉    | 273M/492M [00:03<00:02, 82.4MB/s]\u001b[A\n",
      "\n",
      "\n",
      "\n",
      "Downloading model.safetensors:  22%|█▊      | 273M/1.22G [00:03<00:11, 84.1MB/s]\u001b[A\u001b[A\u001b[A\u001b[A\n",
      "\n",
      "Downloading (…)ch_model.safetensors:   8%|▏ | 283M/3.44G [00:03<00:38, 81.4MB/s]\u001b[A\u001b[A\n",
      "Downloading model.safetensors:  58%|█████▏   | 283M/492M [00:03<00:02, 83.6MB/s]\u001b[A\n",
      "\n",
      "\n",
      "\n",
      "\n",
      "Downloading (…)ch_model.safetensors:  78%|██▎| 262M/335M [00:03<00:00, 75.6MB/s]\u001b[A\u001b[A\u001b[A\u001b[A\u001b[A\n",
      "\n",
      "Downloading (…)ch_model.safetensors:   9%|▏ | 294M/3.44G [00:03<00:38, 82.4MB/s]\u001b[A\u001b[A\n",
      "\n",
      "\n",
      "\n",
      "Downloading model.safetensors:  23%|█▊      | 283M/1.22G [00:03<00:11, 80.9MB/s]\u001b[A\u001b[A\u001b[A\u001b[A\n",
      "Downloading model.safetensors:  60%|█████▎   | 294M/492M [00:03<00:02, 80.7MB/s]\u001b[A\n",
      "\n",
      "\n",
      "\n",
      "\n",
      "Downloading (…)ch_model.safetensors:  81%|██▍| 273M/335M [00:03<00:00, 76.8MB/s]\u001b[A\u001b[A\u001b[A\u001b[A\u001b[A\n",
      "\n",
      "\n",
      "\n",
      "Downloading model.safetensors:  24%|█▉      | 294M/1.22G [00:03<00:11, 82.3MB/s]\u001b[A\u001b[A\u001b[A\u001b[A\n",
      "\n",
      "Downloading (…)ch_model.safetensors:   9%|▏ | 304M/3.44G [00:03<00:40, 78.2MB/s]\u001b[A\u001b[A\n",
      "Downloading model.safetensors:  62%|█████▌   | 304M/492M [00:03<00:02, 82.5MB/s]\u001b[A\n",
      "\n",
      "\n",
      "\n",
      "\n",
      "Downloading (…)ch_model.safetensors:  85%|██▌| 283M/335M [00:03<00:00, 79.7MB/s]\u001b[A\u001b[A\u001b[A\u001b[A\u001b[A\n",
      "\n",
      "\n",
      "\n",
      "Downloading model.safetensors:  25%|██      | 304M/1.22G [00:03<00:11, 79.0MB/s]\u001b[A\u001b[A\u001b[A\u001b[A\n",
      "\n",
      "Downloading (…)ch_model.safetensors:   9%|▏ | 315M/3.44G [00:03<00:40, 76.9MB/s]\u001b[A\u001b[A\n",
      "Downloading model.safetensors:  64%|█████▊   | 315M/492M [00:03<00:02, 78.8MB/s]\u001b[A\n",
      "\n",
      "\n",
      "\n",
      "\n",
      "Downloading (…)ch_model.safetensors:  88%|██▋| 294M/335M [00:03<00:00, 76.8MB/s]\u001b[A\u001b[A\u001b[A\u001b[A\u001b[A\n",
      "\n",
      "\n",
      "\n",
      "Downloading model.safetensors:  26%|██      | 315M/1.22G [00:03<00:11, 80.8MB/s]\u001b[A\u001b[A\u001b[A\u001b[A\n",
      "\n",
      "Downloading (…)ch_model.safetensors:   9%|▏ | 325M/3.44G [00:03<00:37, 82.1MB/s]\u001b[A\u001b[A\n",
      "Downloading model.safetensors:  66%|█████▉   | 325M/492M [00:04<00:02, 79.0MB/s]\u001b[A\n",
      "\n",
      "\n",
      "\n",
      "\n",
      "Downloading (…)ch_model.safetensors:  91%|██▋| 304M/335M [00:03<00:00, 77.7MB/s]\u001b[A\u001b[A\u001b[A\u001b[A\u001b[A\n",
      "\n",
      "\n",
      "\n",
      "Downloading model.safetensors:  27%|██▏     | 325M/1.22G [00:04<00:10, 83.4MB/s]\u001b[A\u001b[A\u001b[A\u001b[A\n",
      "\n",
      "Downloading (…)ch_model.safetensors:  10%|▏ | 336M/3.44G [00:04<00:37, 82.6MB/s]\u001b[A\u001b[A\n",
      "Downloading model.safetensors:  68%|██████▏  | 336M/492M [00:04<00:01, 82.8MB/s]\u001b[A\n",
      "\n",
      "\n",
      "\n",
      "\n",
      "Downloading (…)ch_model.safetensors:  94%|██▊| 315M/335M [00:03<00:00, 80.6MB/s]\u001b[A\u001b[A\u001b[A\u001b[A\u001b[A\n",
      "\n",
      "\n",
      "\n",
      "Downloading model.safetensors:  28%|██▏     | 336M/1.22G [00:04<00:10, 87.5MB/s]\u001b[A\u001b[A\u001b[A\u001b[A\n",
      "\n",
      "Downloading (…)ch_model.safetensors:  10%|▏ | 346M/3.44G [00:04<00:37, 82.2MB/s]\u001b[A\u001b[A\n",
      "Downloading model.safetensors:  70%|██████▎  | 346M/492M [00:04<00:01, 84.3MB/s]\u001b[A\n",
      "\n",
      "\n",
      "\n",
      "Downloading model.safetensors:  28%|██▎     | 346M/1.22G [00:04<00:09, 90.5MB/s]\u001b[A\u001b[A\u001b[A\u001b[A\n",
      "\n",
      "\n",
      "\n",
      "\n",
      "Downloading (…)ch_model.safetensors:  97%|██▉| 325M/335M [00:04<00:00, 79.2MB/s]\u001b[A\u001b[A\u001b[A\u001b[A\u001b[A\n",
      "\n",
      "Downloading (…)ch_model.safetensors:  10%|▏ | 357M/3.44G [00:04<00:37, 83.3MB/s]\u001b[A\u001b[A\n",
      "Downloading model.safetensors:  72%|██████▌  | 357M/492M [00:04<00:01, 83.1MB/s]\u001b[A\n",
      "\n",
      "\n",
      "\n",
      "\n",
      "Downloading (…)ch_model.safetensors: 100%|███| 335M/335M [00:04<00:00, 79.2MB/s]\u001b[A\u001b[A\u001b[A\u001b[A\u001b[A\n",
      "\n",
      "\n",
      "\n",
      "Downloading (…)ch_model.safetensors: 100%|███| 335M/335M [00:04<00:00, 78.6MB/s]\u001b[A\u001b[A\u001b[A\u001b[A\n",
      "\n",
      "\n",
      "Downloading (…)ch_model.safetensors:  11%|▏ | 367M/3.44G [00:04<00:37, 81.0MB/s]\u001b[A\u001b[A\n",
      "Downloading model.safetensors:  75%|██████▋  | 367M/492M [00:04<00:01, 86.2MB/s]\u001b[A\n",
      "\n",
      "\n",
      "\n",
      "Downloading model.safetensors:  30%|██▍     | 367M/1.22G [00:04<00:09, 89.1MB/s]\u001b[A\u001b[A\u001b[A\u001b[A\n",
      "\n",
      "Downloading (…)ch_model.safetensors:  11%|▏ | 388M/3.44G [00:04<00:30, 99.6MB/s]\u001b[A\u001b[A\n",
      "Downloading model.safetensors:  79%|███████▉  | 388M/492M [00:04<00:01, 104MB/s]\u001b[A\n",
      "\n",
      "\n",
      "\n",
      "Downloading model.safetensors:  32%|██▊      | 388M/1.22G [00:04<00:07, 105MB/s]\u001b[A\u001b[A\u001b[A\u001b[A\n",
      "\n",
      "Downloading (…)ch_model.safetensors:  12%|▏ | 398M/3.44G [00:04<00:30, 99.6MB/s]\u001b[A\u001b[A\n",
      "\n",
      "\n",
      "\n",
      "Downloading model.safetensors:  33%|██▉      | 398M/1.22G [00:04<00:07, 103MB/s]\u001b[A\u001b[A\u001b[A\u001b[A\n",
      "\n",
      "Downloading (…)ch_model.safetensors:  12%|▏ | 409M/3.44G [00:04<00:30, 98.7MB/s]\u001b[A\u001b[A\n",
      "Downloading model.safetensors:  83%|████████▎ | 409M/492M [00:04<00:00, 104MB/s]\u001b[A\n",
      "Downloading model.safetensors:  85%|████████▌ | 419M/492M [00:04<00:00, 102MB/s]\u001b[A\n",
      "\n",
      "Downloading (…)ch_model.safetensors:  12%|▏ | 419M/3.44G [00:04<00:31, 96.3MB/s]\u001b[A\u001b[A\n",
      "\n",
      "\n",
      "\n",
      "Downloading model.safetensors:  34%|███      | 419M/1.22G [00:04<00:07, 104MB/s]\u001b[A\u001b[A\u001b[A\u001b[A\n",
      "Downloading model.safetensors:  87%|████████▋ | 430M/492M [00:05<00:00, 102MB/s]\u001b[A\n",
      "\n",
      "Downloading (…)ch_model.safetensors:  13%|▎ | 430M/3.44G [00:05<00:32, 94.0MB/s]\u001b[A\u001b[A\n",
      "\n",
      "\n",
      "\n",
      "Downloading model.safetensors:  35%|███▏     | 430M/1.22G [00:05<00:07, 101MB/s]\u001b[A\u001b[A\u001b[A\u001b[A\n",
      "Downloading model.safetensors:  89%|████████▉ | 440M/492M [00:05<00:00, 100MB/s]\u001b[A\n",
      "\n",
      "Downloading (…)ch_model.safetensors:  13%|▎ | 440M/3.44G [00:05<00:33, 89.3MB/s]\u001b[A\u001b[A\n",
      "Downloading model.safetensors:  92%|█████████▏| 451M/492M [00:05<00:00, 100MB/s]\u001b[A\n",
      "\n",
      "\n",
      "\n",
      "Downloading model.safetensors:  37%|███▎     | 451M/1.22G [00:05<00:07, 102MB/s]\u001b[A\u001b[A\u001b[A\u001b[A\n",
      "Downloading model.safetensors:  94%|████████▍| 461M/492M [00:05<00:00, 97.5MB/s]\u001b[A\n",
      "\n",
      "Downloading (…)ch_model.safetensors:  13%|▎ | 461M/3.44G [00:05<00:30, 96.3MB/s]\u001b[A\u001b[A\n",
      "\n",
      "\n",
      "\n",
      "Downloading model.safetensors:  39%|███▍     | 472M/1.22G [00:05<00:06, 107MB/s]\u001b[A\u001b[A\u001b[A\u001b[A\n",
      "Downloading model.safetensors:  98%|█████████▊| 482M/492M [00:05<00:00, 104MB/s]\u001b[A\n",
      "\n",
      "Downloading (…)ch_model.safetensors:  14%|▎ | 482M/3.44G [00:05<00:30, 96.7MB/s]\u001b[A\u001b[A\n",
      "\n",
      "\n",
      "\n",
      "Downloading model.safetensors: 100%|█████████| 492M/492M [00:05<00:00, 86.2MB/s]\u001b[A\u001b[A\u001b[A\u001b[A\n",
      "\n",
      "\n",
      "Downloading (…)ch_model.safetensors:  14%|▎ | 493M/3.44G [00:05<00:30, 95.3MB/s]\u001b[A\u001b[A\n",
      "\n",
      "\n",
      "\n",
      "Downloading model.safetensors:  42%|███▊     | 514M/1.22G [00:05<00:06, 116MB/s]\u001b[A\u001b[A\u001b[A\u001b[A\n",
      "\n",
      "Downloading (…)ch_model.safetensors:  15%|▍  | 514M/3.44G [00:05<00:27, 108MB/s]\u001b[A\u001b[A\n",
      "\n",
      "\n",
      "\n",
      "Downloading model.safetensors:  44%|███▉     | 535M/1.22G [00:05<00:06, 113MB/s]\u001b[A\u001b[A\u001b[A\u001b[A\n",
      "\n",
      "Downloading (…)ch_model.safetensors:  16%|▍  | 535M/3.44G [00:06<00:26, 108MB/s]\u001b[A\u001b[A\n",
      "\n",
      "\n",
      "\n",
      "Downloading model.safetensors:  46%|████     | 556M/1.22G [00:06<00:05, 119MB/s]\u001b[A\u001b[A\u001b[A\u001b[A\n",
      "\n",
      "Downloading (…)ch_model.safetensors:  16%|▍  | 556M/3.44G [00:06<00:24, 118MB/s]\u001b[A\u001b[A\n",
      "\n",
      "\n",
      "\n",
      "Downloading model.safetensors:  47%|████▎    | 577M/1.22G [00:06<00:04, 129MB/s]\u001b[A\u001b[A\u001b[A\u001b[A\n",
      "\n",
      "Downloading (…)ch_model.safetensors:  17%|▌  | 577M/3.44G [00:06<00:23, 124MB/s]\u001b[A\u001b[A\n",
      "\n",
      "\n",
      "\n",
      "Downloading model.safetensors:  49%|████▍    | 598M/1.22G [00:06<00:04, 133MB/s]\u001b[A\u001b[A\u001b[A\u001b[A\n",
      "\n",
      "Downloading (…)ch_model.safetensors:  17%|▌  | 598M/3.44G [00:06<00:21, 130MB/s]\u001b[A\u001b[A\n",
      "\n",
      "Downloading (…)ch_model.safetensors:  18%|▌  | 619M/3.44G [00:06<00:23, 121MB/s]\u001b[A\u001b[A\n",
      "\n",
      "\n",
      "\n",
      "Downloading model.safetensors:  51%|████▌    | 619M/1.22G [00:06<00:05, 111MB/s]\u001b[A\u001b[A\u001b[A\u001b[A\n",
      "\n",
      "\n",
      "\n",
      "Downloading model.safetensors:  53%|████▋    | 640M/1.22G [00:06<00:04, 117MB/s]\u001b[A\u001b[A\u001b[A\u001b[A\n",
      "\n",
      "Downloading (…)ch_model.safetensors:  19%|▌  | 640M/3.44G [00:06<00:23, 117MB/s]\u001b[A\u001b[A\n",
      "\n",
      "\n",
      "\n",
      "Downloading model.safetensors:  54%|████▉    | 661M/1.22G [00:07<00:04, 117MB/s]\u001b[A\u001b[A\u001b[A\u001b[A\n",
      "\n",
      "Downloading (…)ch_model.safetensors:  19%|▌  | 661M/3.44G [00:07<00:24, 115MB/s]\u001b[A\u001b[A\n",
      "\n",
      "\n",
      "\n",
      "Downloading model.safetensors:  56%|█████    | 682M/1.22G [00:07<00:04, 121MB/s]\u001b[A\u001b[A\u001b[A\u001b[A\n",
      "\n",
      "Downloading (…)ch_model.safetensors:  20%|▌  | 682M/3.44G [00:07<00:23, 116MB/s]\u001b[A\u001b[A\n",
      "\n",
      "\n",
      "\n",
      "Downloading model.safetensors:  58%|█████▏   | 703M/1.22G [00:07<00:04, 120MB/s]\u001b[A\u001b[A\u001b[A\u001b[A\n",
      "\n",
      "Downloading (…)ch_model.safetensors:  20%|▌  | 703M/3.44G [00:07<00:22, 120MB/s]\u001b[A\u001b[A\n",
      "\n",
      "\n",
      "\n",
      "Downloading model.safetensors:  60%|█████▎   | 724M/1.22G [00:07<00:04, 123MB/s]\u001b[A\u001b[A\u001b[A\u001b[A\n",
      "\n",
      "Downloading (…)ch_model.safetensors:  21%|▋  | 724M/3.44G [00:07<00:21, 125MB/s]\u001b[A\u001b[A\n",
      "\n",
      "\n",
      "\n",
      "Downloading model.safetensors:  61%|█████▌   | 744M/1.22G [00:07<00:03, 123MB/s]\u001b[A\u001b[A\u001b[A\u001b[A\n",
      "\n",
      "Downloading (…)ch_model.safetensors:  22%|▋  | 744M/3.44G [00:07<00:21, 127MB/s]\u001b[A\u001b[A\n",
      "\n",
      "Downloading (…)ch_model.safetensors:  22%|▋  | 765M/3.44G [00:07<00:19, 139MB/s]\u001b[A\u001b[A\n",
      "\n",
      "Downloading (…)ch_model.safetensors:  23%|▋  | 786M/3.44G [00:07<00:18, 142MB/s]\u001b[A\u001b[A\n",
      "\n",
      "Downloading (…)ch_model.safetensors:  23%|▋  | 807M/3.44G [00:08<00:17, 148MB/s]\u001b[A\u001b[A\n",
      "\n",
      "\n",
      "\n",
      "Downloading model.safetensors:  63%|█████   | 765M/1.22G [00:08<00:05, 76.4MB/s]\u001b[A\u001b[A\u001b[A\u001b[A\n",
      "\n",
      "Downloading (…)ch_model.safetensors:  24%|▋  | 828M/3.44G [00:08<00:17, 148MB/s]\u001b[A\u001b[A\n",
      "\n",
      "\n",
      "\n",
      "Downloading model.safetensors:  65%|█████▏  | 786M/1.22G [00:08<00:04, 86.7MB/s]\u001b[A\u001b[A\u001b[A\u001b[A\n",
      "\n",
      "Downloading (…)ch_model.safetensors:  25%|▋  | 849M/3.44G [00:08<00:18, 141MB/s]\u001b[A\u001b[A\n",
      "\n",
      "Downloading (…)ch_model.safetensors:  25%|▊  | 870M/3.44G [00:08<00:17, 150MB/s]\u001b[A\u001b[A\n",
      "\n",
      "\n",
      "\n",
      "Downloading model.safetensors:  66%|█████▎  | 807M/1.22G [00:08<00:04, 84.4MB/s]\u001b[A\u001b[A\u001b[A\u001b[A\n",
      "\n",
      "Downloading (…)ch_model.safetensors:  26%|▊  | 891M/3.44G [00:08<00:17, 143MB/s]\u001b[A\u001b[A\n",
      "\n",
      "\n",
      "\n",
      "Downloading model.safetensors:  68%|█████▍  | 828M/1.22G [00:08<00:04, 94.4MB/s]\u001b[A\u001b[A\u001b[A\u001b[A\n",
      "\n",
      "Downloading (…)ch_model.safetensors:  27%|▊  | 912M/3.44G [00:08<00:18, 140MB/s]\u001b[A\u001b[A\n",
      "\n",
      "\n",
      "\n",
      "Downloading model.safetensors:  70%|█████▌  | 849M/1.22G [00:08<00:03, 99.6MB/s]\u001b[A\u001b[A\u001b[A\u001b[A\n",
      "\n",
      "Downloading (…)ch_model.safetensors:  27%|▊  | 933M/3.44G [00:09<00:18, 136MB/s]\u001b[A\u001b[A\n",
      "\n",
      "\n",
      "\n",
      "Downloading model.safetensors:  72%|██████▍  | 870M/1.22G [00:09<00:03, 107MB/s]\u001b[A\u001b[A\u001b[A\u001b[A\n",
      "\n",
      "Downloading (…)ch_model.safetensors:  28%|▊  | 954M/3.44G [00:09<00:18, 135MB/s]\u001b[A\u001b[A\n",
      "\n",
      "\n",
      "\n",
      "Downloading model.safetensors:  73%|██████▌  | 891M/1.22G [00:09<00:02, 110MB/s]\u001b[A\u001b[A\u001b[A\u001b[A\n",
      "\n",
      "Downloading (…)ch_model.safetensors:  28%|▊  | 975M/3.44G [00:09<00:19, 124MB/s]\u001b[A\u001b[A\n",
      "\n",
      "\n",
      "\n",
      "Downloading model.safetensors:  75%|██████▊  | 912M/1.22G [00:09<00:02, 113MB/s]\u001b[A\u001b[A\u001b[A\u001b[A\n",
      "\n",
      "Downloading (…)ch_model.safetensors:  29%|▊  | 996M/3.44G [00:09<00:19, 122MB/s]\u001b[A\u001b[A\n",
      "\n",
      "\n",
      "\n",
      "Downloading model.safetensors:  77%|██████▉  | 933M/1.22G [00:09<00:02, 114MB/s]\u001b[A\u001b[A\u001b[A\u001b[A\n",
      "\n",
      "Downloading (…)ch_model.safetensors:  30%|▌ | 1.02G/3.44G [00:09<00:19, 122MB/s]\u001b[A\u001b[A\n",
      "\n",
      "\n",
      "\n",
      "Downloading model.safetensors:  78%|███████  | 954M/1.22G [00:09<00:02, 122MB/s]\u001b[A\u001b[A\u001b[A\u001b[A\n",
      "\n",
      "Downloading (…)ch_model.safetensors:  30%|▌ | 1.04G/3.44G [00:09<00:19, 121MB/s]\u001b[A\u001b[A\n",
      "\n",
      "\n",
      "\n",
      "Downloading model.safetensors:  80%|███████▏ | 975M/1.22G [00:09<00:01, 129MB/s]\u001b[A\u001b[A\u001b[A\u001b[A\n",
      "\n",
      "Downloading (…)ch_model.safetensors:  31%|▌ | 1.06G/3.44G [00:10<00:18, 126MB/s]\u001b[A\u001b[A\n",
      "\n",
      "\n",
      "\n",
      "Downloading model.safetensors:  82%|███████▎ | 996M/1.22G [00:10<00:01, 135MB/s]\u001b[A\u001b[A\u001b[A\u001b[A\n",
      "\n",
      "Downloading (…)ch_model.safetensors:  31%|▋ | 1.08G/3.44G [00:10<00:18, 129MB/s]\u001b[A\u001b[A\n",
      "\n",
      "\n",
      "\n",
      "Downloading model.safetensors:  84%|██████▋ | 1.02G/1.22G [00:10<00:01, 130MB/s]\u001b[A\u001b[A\u001b[A\u001b[A\n",
      "\n",
      "Downloading (…)ch_model.safetensors:  32%|▋ | 1.10G/3.44G [00:10<00:18, 127MB/s]\u001b[A\u001b[A\n",
      "\n",
      "\n",
      "\n",
      "Downloading model.safetensors:  85%|██████▊ | 1.04G/1.22G [00:10<00:01, 129MB/s]\u001b[A\u001b[A\u001b[A\u001b[A\n",
      "\n",
      "Downloading (…)ch_model.safetensors:  33%|▋ | 1.12G/3.44G [00:10<00:18, 128MB/s]\u001b[A\u001b[A\n",
      "\n",
      "\n",
      "\n",
      "Downloading model.safetensors:  87%|██████▉ | 1.06G/1.22G [00:10<00:01, 127MB/s]\u001b[A\u001b[A\u001b[A\u001b[A\n",
      "\n",
      "Downloading (…)ch_model.safetensors:  33%|▋ | 1.14G/3.44G [00:10<00:18, 126MB/s]\u001b[A\u001b[A\n",
      "\n",
      "\n",
      "\n",
      "Downloading model.safetensors:  89%|███████ | 1.08G/1.22G [00:10<00:01, 115MB/s]\u001b[A\u001b[A\u001b[A\u001b[A\n",
      "\n",
      "Downloading (…)ch_model.safetensors:  34%|▋ | 1.16G/3.44G [00:10<00:17, 128MB/s]\u001b[A\u001b[A\n",
      "\n",
      "Downloading (…)ch_model.safetensors:  34%|▋ | 1.18G/3.44G [00:11<00:16, 135MB/s]\u001b[A\u001b[A\n",
      "\n",
      "\n",
      "\n",
      "Downloading model.safetensors:  91%|███████▏| 1.10G/1.22G [00:11<00:01, 105MB/s]\u001b[A\u001b[A\u001b[A\u001b[A\n",
      "\n",
      "Downloading (…)ch_model.safetensors:  35%|▋ | 1.21G/3.44G [00:11<00:16, 135MB/s]\u001b[A\u001b[A\n",
      "\n",
      "\n",
      "\n",
      "Downloading model.safetensors:  92%|███████▍| 1.12G/1.22G [00:11<00:00, 104MB/s]\u001b[A\u001b[A\u001b[A\u001b[A\n",
      "\n",
      "Downloading (…)ch_model.safetensors:  36%|▋ | 1.23G/3.44G [00:11<00:16, 135MB/s]\u001b[A\u001b[A\n",
      "\n",
      "Downloading (…)ch_model.safetensors:  36%|▋ | 1.25G/3.44G [00:11<00:15, 143MB/s]\u001b[A\u001b[A\n",
      "\n",
      "\n",
      "\n",
      "Downloading model.safetensors:  94%|██████▌| 1.14G/1.22G [00:11<00:00, 96.6MB/s]\u001b[A\u001b[A\u001b[A\u001b[A\n",
      "\n",
      "Downloading (…)ch_model.safetensors:  37%|▋ | 1.27G/3.44G [00:11<00:15, 138MB/s]\u001b[A\u001b[A\n",
      "\n",
      "Downloading (…)ch_model.safetensors:  38%|▊ | 1.29G/3.44G [00:11<00:14, 143MB/s]\u001b[A\u001b[A\n",
      "\n",
      "\n",
      "\n",
      "Downloading model.safetensors:  96%|██████▋| 1.16G/1.22G [00:11<00:00, 93.7MB/s]\u001b[A\u001b[A\u001b[A\u001b[A\n",
      "\n",
      "Downloading (…)ch_model.safetensors:  38%|▊ | 1.31G/3.44G [00:11<00:15, 142MB/s]\u001b[A\u001b[A\n",
      "\n",
      "\n",
      "\n",
      "Downloading model.safetensors:  97%|██████▊| 1.17G/1.22G [00:11<00:00, 93.8MB/s]\u001b[A\u001b[A\u001b[A\u001b[A\n",
      "\n",
      "\n",
      "\n",
      "Downloading model.safetensors:  97%|██████▊| 1.18G/1.22G [00:11<00:00, 95.0MB/s]\u001b[A\u001b[A\u001b[A\u001b[A\n",
      "\n",
      "Downloading (…)ch_model.safetensors:  39%|▊ | 1.33G/3.44G [00:12<00:15, 140MB/s]\u001b[A\u001b[A\n",
      "\n",
      "\n",
      "\n",
      "Downloading model.safetensors:  98%|██████▉| 1.20G/1.22G [00:12<00:00, 89.5MB/s]\u001b[A\u001b[A\u001b[A\u001b[A\n",
      "\n",
      "Downloading (…)ch_model.safetensors:  39%|▊ | 1.35G/3.44G [00:12<00:14, 142MB/s]\u001b[A\u001b[A\n",
      "\n",
      "Downloading (…)ch_model.safetensors:  40%|▊ | 1.37G/3.44G [00:12<00:13, 148MB/s]\u001b[A\u001b[A\n",
      "\n",
      "\n",
      "\n",
      "Downloading model.safetensors: 100%|███████| 1.22G/1.22G [00:12<00:00, 97.9MB/s]\u001b[A\u001b[A\u001b[A\u001b[A\n",
      "\n",
      "\n",
      "Downloading (…)ch_model.safetensors:  41%|▊ | 1.39G/3.44G [00:12<00:14, 144MB/s]\u001b[A\u001b[A\n",
      "\n",
      "Downloading (…)ch_model.safetensors:  41%|▊ | 1.43G/3.44G [00:12<00:16, 121MB/s]\u001b[A\u001b[A\n",
      "\n",
      "Downloading (…)ch_model.safetensors:  42%|▊ | 1.46G/3.44G [00:12<00:14, 137MB/s]\u001b[A\u001b[A\n",
      "\n",
      "Downloading (…)ch_model.safetensors:  43%|▊ | 1.48G/3.44G [00:13<00:13, 148MB/s]\u001b[A\u001b[A\n",
      "\n",
      "Downloading (…)ch_model.safetensors:  44%|▊ | 1.50G/3.44G [00:13<00:12, 158MB/s]\u001b[A\u001b[A\n",
      "\n",
      "Downloading (…)ch_model.safetensors:  44%|▉ | 1.52G/3.44G [00:13<00:11, 169MB/s]\u001b[A\u001b[A\n",
      "\n",
      "Downloading (…)ch_model.safetensors:  45%|▉ | 1.54G/3.44G [00:13<00:10, 176MB/s]\u001b[A\u001b[A\n",
      "\n",
      "Downloading (…)ch_model.safetensors:  45%|▉ | 1.56G/3.44G [00:13<00:10, 181MB/s]\u001b[A\u001b[A\n",
      "\n",
      "Downloading (…)ch_model.safetensors:  46%|▉ | 1.58G/3.44G [00:13<00:10, 184MB/s]\u001b[A\u001b[A\n",
      "\n",
      "Downloading (…)ch_model.safetensors:  47%|▉ | 1.61G/3.44G [00:13<00:09, 193MB/s]\u001b[A\u001b[A\n",
      "\n",
      "Downloading (…)ch_model.safetensors:  48%|▉ | 1.64G/3.44G [00:13<00:09, 193MB/s]\u001b[A\u001b[A\n",
      "\n",
      "Downloading (…)ch_model.safetensors:  48%|▉ | 1.66G/3.44G [00:13<00:09, 194MB/s]\u001b[A\u001b[A\n",
      "\n",
      "Downloading (…)ch_model.safetensors:  49%|▉ | 1.68G/3.44G [00:14<00:08, 198MB/s]\u001b[A\u001b[A\n",
      "\n",
      "Downloading (…)ch_model.safetensors:  50%|▉ | 1.71G/3.44G [00:14<00:07, 222MB/s]\u001b[A\u001b[A\n",
      "\n",
      "Downloading (…)ch_model.safetensors:  51%|█ | 1.74G/3.44G [00:14<00:08, 211MB/s]\u001b[A\u001b[A\n",
      "\n",
      "Downloading (…)ch_model.safetensors:  52%|█ | 1.77G/3.44G [00:14<00:08, 200MB/s]\u001b[A\u001b[A\n",
      "\n",
      "Downloading (…)ch_model.safetensors:  52%|█ | 1.79G/3.44G [00:14<00:08, 191MB/s]\u001b[A\u001b[A\n",
      "\n",
      "Downloading (…)ch_model.safetensors:  53%|█ | 1.81G/3.44G [00:14<00:08, 191MB/s]\u001b[A\u001b[A\n",
      "\n",
      "Downloading (…)ch_model.safetensors:  53%|█ | 1.84G/3.44G [00:14<00:08, 182MB/s]\u001b[A\u001b[A\n",
      "\n",
      "Downloading (…)ch_model.safetensors:  54%|█ | 1.86G/3.44G [00:15<00:08, 182MB/s]\u001b[A\u001b[A\n",
      "\n",
      "Downloading (…)ch_model.safetensors:  55%|█ | 1.88G/3.44G [00:15<00:08, 180MB/s]\u001b[A\u001b[A\n",
      "\n",
      "Downloading (…)ch_model.safetensors:  55%|█ | 1.90G/3.44G [00:15<00:08, 181MB/s]\u001b[A\u001b[A\n",
      "\n",
      "Fetching 15 files:  27%|██████▋                  | 4/15 [00:15<00:47,  4.28s/it]\u001b[A\u001b[A\n",
      "\n",
      "Downloading (…)ch_model.safetensors:  56%|█▏| 1.94G/3.44G [00:15<00:09, 161MB/s]\u001b[A\u001b[A\n",
      "\n",
      "Downloading (…)ch_model.safetensors:  57%|█▏| 1.97G/3.44G [00:15<00:08, 175MB/s]\u001b[A\u001b[A\n",
      "\n",
      "Downloading (…)ch_model.safetensors:  58%|█▏| 2.00G/3.44G [00:15<00:07, 188MB/s]\u001b[A\u001b[A\n",
      "\n",
      "Downloading (…)ch_model.safetensors:  59%|█▏| 2.02G/3.44G [00:15<00:07, 186MB/s]\u001b[A\u001b[A\n",
      "\n",
      "Downloading (…)ch_model.safetensors:  60%|█▏| 2.06G/3.44G [00:16<00:07, 182MB/s]\u001b[A\u001b[A\n",
      "\n",
      "Downloading (…)ch_model.safetensors:  60%|█▏| 2.08G/3.44G [00:16<00:07, 177MB/s]\u001b[A\u001b[A\n",
      "\n",
      "Downloading (…)ch_model.safetensors:  61%|█▏| 2.10G/3.44G [00:16<00:07, 169MB/s]\u001b[A\u001b[A\n",
      "\n",
      "Downloading (…)ch_model.safetensors:  62%|█▏| 2.12G/3.44G [00:16<00:07, 169MB/s]\u001b[A\u001b[A\n",
      "\n",
      "Downloading (…)ch_model.safetensors:  62%|█▏| 2.14G/3.44G [00:16<00:07, 173MB/s]\u001b[A\u001b[A\n",
      "\n",
      "Downloading (…)ch_model.safetensors:  63%|█▎| 2.16G/3.44G [00:16<00:07, 178MB/s]\u001b[A\u001b[A\n",
      "\n",
      "Downloading (…)ch_model.safetensors:  63%|█▎| 2.18G/3.44G [00:16<00:07, 177MB/s]\u001b[A\u001b[A\n",
      "\n",
      "Downloading (…)ch_model.safetensors:  64%|█▎| 2.20G/3.44G [00:16<00:06, 183MB/s]\u001b[A\u001b[A\n",
      "\n",
      "Downloading (…)ch_model.safetensors:  65%|█▎| 2.22G/3.44G [00:17<00:06, 184MB/s]\u001b[A\u001b[A\n",
      "\n",
      "Downloading (…)ch_model.safetensors:  65%|█▎| 2.24G/3.44G [00:17<00:06, 183MB/s]\u001b[A\u001b[A\n",
      "\n",
      "Downloading (…)ch_model.safetensors:  66%|█▎| 2.28G/3.44G [00:17<00:06, 186MB/s]\u001b[A\u001b[A\n",
      "\n",
      "Downloading (…)ch_model.safetensors:  67%|█▎| 2.30G/3.44G [00:17<00:06, 190MB/s]\u001b[A\u001b[A\n",
      "\n",
      "Downloading (…)ch_model.safetensors:  67%|█▎| 2.32G/3.44G [00:17<00:05, 194MB/s]\u001b[A\u001b[A\n",
      "\n",
      "Downloading (…)ch_model.safetensors:  68%|█▎| 2.34G/3.44G [00:17<00:05, 185MB/s]\u001b[A\u001b[A\n",
      "\n",
      "Downloading (…)ch_model.safetensors:  69%|█▎| 2.36G/3.44G [00:17<00:05, 184MB/s]\u001b[A\u001b[A\n",
      "\n",
      "Downloading (…)ch_model.safetensors:  69%|█▍| 2.38G/3.44G [00:17<00:05, 183MB/s]\u001b[A\u001b[A\n",
      "\n",
      "Downloading (…)ch_model.safetensors:  70%|█▍| 2.40G/3.44G [00:18<00:05, 179MB/s]\u001b[A\u001b[A\n",
      "\n",
      "Downloading (…)ch_model.safetensors:  70%|█▍| 2.42G/3.44G [00:18<00:05, 179MB/s]\u001b[A\u001b[A\n",
      "\n",
      "Downloading (…)ch_model.safetensors:  71%|█▍| 2.44G/3.44G [00:18<00:05, 171MB/s]\u001b[A\u001b[A\n",
      "\n",
      "Downloading (…)ch_model.safetensors:  72%|█▍| 2.46G/3.44G [00:18<00:05, 174MB/s]\u001b[A\u001b[A\n",
      "\n",
      "Downloading (…)ch_model.safetensors:  72%|█▍| 2.49G/3.44G [00:18<00:05, 173MB/s]\u001b[A\u001b[A\n",
      "\n",
      "Downloading (…)ch_model.safetensors:  73%|█▍| 2.51G/3.44G [00:18<00:05, 181MB/s]\u001b[A\u001b[A\n",
      "\n",
      "Downloading (…)ch_model.safetensors:  73%|█▍| 2.53G/3.44G [00:18<00:04, 182MB/s]\u001b[A\u001b[A\n",
      "\n",
      "Downloading (…)ch_model.safetensors:  74%|█▍| 2.55G/3.44G [00:18<00:04, 190MB/s]\u001b[A\u001b[A\n",
      "\n",
      "Downloading (…)ch_model.safetensors:  75%|█▌| 2.58G/3.44G [00:19<00:04, 203MB/s]\u001b[A\u001b[A\n",
      "\n",
      "Downloading (…)ch_model.safetensors:  76%|█▌| 2.60G/3.44G [00:19<00:04, 196MB/s]\u001b[A\u001b[A\n",
      "\n",
      "Downloading (…)ch_model.safetensors:  76%|█▌| 2.62G/3.44G [00:19<00:04, 199MB/s]\u001b[A\u001b[A\n",
      "\n",
      "Downloading (…)ch_model.safetensors:  77%|█▌| 2.65G/3.44G [00:19<00:03, 218MB/s]\u001b[A\u001b[A\n",
      "\n",
      "Downloading (…)ch_model.safetensors:  78%|█▌| 2.68G/3.44G [00:19<00:03, 230MB/s]\u001b[A\u001b[A\n",
      "\n",
      "Downloading (…)ch_model.safetensors:  79%|█▌| 2.72G/3.44G [00:19<00:02, 253MB/s]\u001b[A\u001b[A\n",
      "\n",
      "Downloading (…)ch_model.safetensors:  80%|█▌| 2.76G/3.44G [00:19<00:02, 285MB/s]\u001b[A\u001b[A\n",
      "\n",
      "Downloading (…)ch_model.safetensors:  81%|█▋| 2.80G/3.44G [00:19<00:02, 298MB/s]\u001b[A\u001b[A\n",
      "\n",
      "Downloading (…)ch_model.safetensors:  82%|█▋| 2.83G/3.44G [00:19<00:02, 257MB/s]\u001b[A\u001b[A\n",
      "\n",
      "Downloading (…)ch_model.safetensors:  83%|█▋| 2.86G/3.44G [00:20<00:02, 252MB/s]\u001b[A\u001b[A\n",
      "\n",
      "Downloading (…)ch_model.safetensors:  84%|█▋| 2.89G/3.44G [00:20<00:02, 261MB/s]\u001b[A\u001b[A\n",
      "\n",
      "Downloading (…)ch_model.safetensors:  85%|█▋| 2.94G/3.44G [00:20<00:01, 259MB/s]\u001b[A\u001b[A\n",
      "\n",
      "Downloading (…)ch_model.safetensors:  86%|█▋| 2.97G/3.44G [00:20<00:01, 268MB/s]\u001b[A\u001b[A\n",
      "\n",
      "Downloading (…)ch_model.safetensors:  87%|█▋| 3.00G/3.44G [00:20<00:01, 222MB/s]\u001b[A\u001b[A\n",
      "\n",
      "Downloading (…)ch_model.safetensors:  88%|█▊| 3.03G/3.44G [00:20<00:01, 224MB/s]\u001b[A\u001b[A\n",
      "\n",
      "Downloading (…)ch_model.safetensors:  89%|█▊| 3.06G/3.44G [00:20<00:01, 231MB/s]\u001b[A\u001b[A\n",
      "\n",
      "Downloading (…)ch_model.safetensors:  90%|█▊| 3.09G/3.44G [00:21<00:01, 243MB/s]\u001b[A\u001b[A\n",
      "\n",
      "Downloading (…)ch_model.safetensors:  91%|█▊| 3.12G/3.44G [00:21<00:01, 244MB/s]\u001b[A\u001b[A\n",
      "\n",
      "Downloading (…)ch_model.safetensors:  92%|█▊| 3.16G/3.44G [00:21<00:01, 260MB/s]\u001b[A\u001b[A\n",
      "\n",
      "Downloading (…)ch_model.safetensors:  93%|█▊| 3.19G/3.44G [00:21<00:00, 271MB/s]\u001b[A\u001b[A\n",
      "\n",
      "Downloading (…)ch_model.safetensors:  94%|█▊| 3.22G/3.44G [00:21<00:00, 270MB/s]\u001b[A\u001b[A\n",
      "\n",
      "Downloading (…)ch_model.safetensors:  95%|█▉| 3.25G/3.44G [00:21<00:00, 260MB/s]\u001b[A\u001b[A\n",
      "\n",
      "Downloading (…)ch_model.safetensors:  95%|█▉| 3.28G/3.44G [00:21<00:00, 234MB/s]\u001b[A\u001b[A\n",
      "\n",
      "Downloading (…)ch_model.safetensors:  96%|█▉| 3.31G/3.44G [00:21<00:00, 234MB/s]\u001b[A\u001b[A\n",
      "\n",
      "Downloading (…)ch_model.safetensors:  97%|█▉| 3.34G/3.44G [00:22<00:00, 164MB/s]\u001b[A\u001b[A\n",
      "\n",
      "Downloading (…)ch_model.safetensors:  98%|█▉| 3.37G/3.44G [00:22<00:00, 171MB/s]\u001b[A\u001b[A\n",
      "\n",
      "Downloading (…)ch_model.safetensors:  99%|█▉| 3.40G/3.44G [00:22<00:00, 200MB/s]\u001b[A\u001b[A\n",
      "\n",
      "Downloading (…)ch_model.safetensors: 100%|██| 3.44G/3.44G [00:22<00:00, 151MB/s]\u001b[A\u001b[A\n",
      "Fetching 15 files: 100%|████████████████████████| 15/15 [00:30<00:00,  2.03s/it]\n",
      "Loading pipeline components...:  29%|███▋         | 2/7 [00:09<00:21,  4.24s/it]`text_config_dict` is provided which will be used to initialize `CLIPTextConfig`. The value `text_config[\"id2label\"]` will be overriden.\n",
      "`text_config_dict` is provided which will be used to initialize `CLIPTextConfig`. The value `text_config[\"bos_token_id\"]` will be overriden.\n",
      "`text_config_dict` is provided which will be used to initialize `CLIPTextConfig`. The value `text_config[\"eos_token_id\"]` will be overriden.\n",
      "Loading pipeline components...: 100%|█████████████| 7/7 [00:15<00:00,  2.15s/it]\n"
     ]
    }
   ],
   "source": [
    "pipe = StableDiffusionInstructPix2PixPipeline.from_pretrained(\n",
    "    \"timbrooks/instruct-pix2pix\", torch_dtype=torch.float16\n",
    ")"
   ]
  },
  {
   "cell_type": "code",
   "execution_count": 3,
   "metadata": {},
   "outputs": [
    {
     "data": {
      "text/plain": [
       "StableDiffusionInstructPix2PixPipeline {\n",
       "  \"_class_name\": \"StableDiffusionInstructPix2PixPipeline\",\n",
       "  \"_diffusers_version\": \"0.23.1\",\n",
       "  \"_name_or_path\": \"timbrooks/instruct-pix2pix\",\n",
       "  \"feature_extractor\": [\n",
       "    \"transformers\",\n",
       "    \"CLIPImageProcessor\"\n",
       "  ],\n",
       "  \"requires_safety_checker\": false,\n",
       "  \"safety_checker\": [\n",
       "    \"stable_diffusion\",\n",
       "    \"StableDiffusionSafetyChecker\"\n",
       "  ],\n",
       "  \"scheduler\": [\n",
       "    \"diffusers\",\n",
       "    \"EulerAncestralDiscreteScheduler\"\n",
       "  ],\n",
       "  \"text_encoder\": [\n",
       "    \"transformers\",\n",
       "    \"CLIPTextModel\"\n",
       "  ],\n",
       "  \"tokenizer\": [\n",
       "    \"transformers\",\n",
       "    \"CLIPTokenizer\"\n",
       "  ],\n",
       "  \"unet\": [\n",
       "    \"diffusers\",\n",
       "    \"UNet2DConditionModel\"\n",
       "  ],\n",
       "  \"vae\": [\n",
       "    \"diffusers\",\n",
       "    \"AutoencoderKL\"\n",
       "  ]\n",
       "}"
      ]
     },
     "execution_count": 3,
     "metadata": {},
     "output_type": "execute_result"
    }
   ],
   "source": [
    "pipe.to(torch.device(\"cuda\"))"
   ]
  },
  {
   "cell_type": "code",
   "execution_count": 6,
   "metadata": {},
   "outputs": [
    {
     "name": "stderr",
     "output_type": "stream",
     "text": [
      "100%|█████████████████████████████████████████| 100/100 [00:19<00:00,  5.22it/s]\n"
     ]
    },
    {
     "name": "stdout",
     "output_type": "stream",
     "text": [
      "Finished processing 1th image\n"
     ]
    },
    {
     "name": "stderr",
     "output_type": "stream",
     "text": [
      "100%|█████████████████████████████████████████| 100/100 [00:19<00:00,  5.22it/s]\n"
     ]
    },
    {
     "name": "stdout",
     "output_type": "stream",
     "text": [
      "Finished processing 2th image\n"
     ]
    },
    {
     "name": "stderr",
     "output_type": "stream",
     "text": [
      "100%|█████████████████████████████████████████| 100/100 [00:19<00:00,  5.23it/s]\n"
     ]
    },
    {
     "name": "stdout",
     "output_type": "stream",
     "text": [
      "Finished processing 3th image\n"
     ]
    },
    {
     "name": "stderr",
     "output_type": "stream",
     "text": [
      "100%|█████████████████████████████████████████| 100/100 [00:19<00:00,  5.21it/s]\n"
     ]
    },
    {
     "name": "stdout",
     "output_type": "stream",
     "text": [
      "Finished processing 4th image\n"
     ]
    },
    {
     "name": "stderr",
     "output_type": "stream",
     "text": [
      "100%|█████████████████████████████████████████| 100/100 [00:03<00:00, 26.83it/s]\n"
     ]
    },
    {
     "name": "stdout",
     "output_type": "stream",
     "text": [
      "Finished processing 5th image\n"
     ]
    },
    {
     "name": "stderr",
     "output_type": "stream",
     "text": [
      "100%|█████████████████████████████████████████| 100/100 [00:19<00:00,  5.23it/s]\n"
     ]
    },
    {
     "name": "stdout",
     "output_type": "stream",
     "text": [
      "Finished processing 6th image\n"
     ]
    },
    {
     "name": "stderr",
     "output_type": "stream",
     "text": [
      "100%|█████████████████████████████████████████| 100/100 [00:03<00:00, 26.75it/s]\n"
     ]
    },
    {
     "name": "stdout",
     "output_type": "stream",
     "text": [
      "Finished processing 7th image\n"
     ]
    },
    {
     "name": "stderr",
     "output_type": "stream",
     "text": [
      "100%|█████████████████████████████████████████| 100/100 [00:03<00:00, 26.81it/s]\n"
     ]
    },
    {
     "name": "stdout",
     "output_type": "stream",
     "text": [
      "Finished processing 8th image\n"
     ]
    },
    {
     "name": "stderr",
     "output_type": "stream",
     "text": [
      "100%|█████████████████████████████████████████| 100/100 [00:19<00:00,  5.23it/s]\n"
     ]
    },
    {
     "name": "stdout",
     "output_type": "stream",
     "text": [
      "Finished processing 9th image\n"
     ]
    },
    {
     "name": "stderr",
     "output_type": "stream",
     "text": [
      "100%|█████████████████████████████████████████| 100/100 [00:19<00:00,  5.23it/s]\n"
     ]
    },
    {
     "name": "stdout",
     "output_type": "stream",
     "text": [
      "Finished processing 10th image\n"
     ]
    },
    {
     "name": "stderr",
     "output_type": "stream",
     "text": [
      "100%|█████████████████████████████████████████| 100/100 [00:19<00:00,  5.23it/s]\n"
     ]
    },
    {
     "name": "stdout",
     "output_type": "stream",
     "text": [
      "Finished processing 11th image\n"
     ]
    },
    {
     "name": "stderr",
     "output_type": "stream",
     "text": [
      "100%|█████████████████████████████████████████| 100/100 [00:03<00:00, 27.26it/s]\n"
     ]
    },
    {
     "name": "stdout",
     "output_type": "stream",
     "text": [
      "Finished processing 12th image\n"
     ]
    },
    {
     "name": "stderr",
     "output_type": "stream",
     "text": [
      "100%|█████████████████████████████████████████| 100/100 [00:19<00:00,  5.23it/s]\n"
     ]
    },
    {
     "name": "stdout",
     "output_type": "stream",
     "text": [
      "Finished processing 13th image\n"
     ]
    },
    {
     "name": "stderr",
     "output_type": "stream",
     "text": [
      "100%|█████████████████████████████████████████| 100/100 [00:19<00:00,  5.23it/s]\n"
     ]
    },
    {
     "name": "stdout",
     "output_type": "stream",
     "text": [
      "Finished processing 14th image\n"
     ]
    },
    {
     "name": "stderr",
     "output_type": "stream",
     "text": [
      "100%|█████████████████████████████████████████| 100/100 [00:19<00:00,  5.23it/s]\n"
     ]
    },
    {
     "name": "stdout",
     "output_type": "stream",
     "text": [
      "Finished processing 15th image\n"
     ]
    },
    {
     "name": "stderr",
     "output_type": "stream",
     "text": [
      "100%|█████████████████████████████████████████| 100/100 [00:19<00:00,  5.23it/s]\n"
     ]
    },
    {
     "name": "stdout",
     "output_type": "stream",
     "text": [
      "Finished processing 16th image\n"
     ]
    },
    {
     "name": "stderr",
     "output_type": "stream",
     "text": [
      "100%|█████████████████████████████████████████| 100/100 [00:03<00:00, 27.11it/s]\n"
     ]
    },
    {
     "name": "stdout",
     "output_type": "stream",
     "text": [
      "Finished processing 17th image\n"
     ]
    },
    {
     "name": "stderr",
     "output_type": "stream",
     "text": [
      "100%|█████████████████████████████████████████| 100/100 [00:19<00:00,  5.23it/s]\n"
     ]
    },
    {
     "name": "stdout",
     "output_type": "stream",
     "text": [
      "Finished processing 18th image\n"
     ]
    },
    {
     "name": "stderr",
     "output_type": "stream",
     "text": [
      "100%|█████████████████████████████████████████| 100/100 [00:19<00:00,  5.23it/s]\n"
     ]
    },
    {
     "name": "stdout",
     "output_type": "stream",
     "text": [
      "Finished processing 19th image\n"
     ]
    },
    {
     "name": "stderr",
     "output_type": "stream",
     "text": [
      "100%|█████████████████████████████████████████| 100/100 [00:19<00:00,  5.22it/s]\n"
     ]
    },
    {
     "name": "stdout",
     "output_type": "stream",
     "text": [
      "Finished processing 20th image\n"
     ]
    },
    {
     "name": "stderr",
     "output_type": "stream",
     "text": [
      "100%|█████████████████████████████████████████| 100/100 [00:19<00:00,  5.23it/s]\n"
     ]
    },
    {
     "name": "stdout",
     "output_type": "stream",
     "text": [
      "Finished processing 21th image\n"
     ]
    },
    {
     "name": "stderr",
     "output_type": "stream",
     "text": [
      "100%|█████████████████████████████████████████| 100/100 [00:03<00:00, 27.07it/s]\n"
     ]
    },
    {
     "name": "stdout",
     "output_type": "stream",
     "text": [
      "Finished processing 22th image\n"
     ]
    },
    {
     "name": "stderr",
     "output_type": "stream",
     "text": [
      "100%|█████████████████████████████████████████| 100/100 [00:03<00:00, 27.10it/s]\n"
     ]
    },
    {
     "name": "stdout",
     "output_type": "stream",
     "text": [
      "Finished processing 23th image\n"
     ]
    },
    {
     "name": "stderr",
     "output_type": "stream",
     "text": [
      "100%|█████████████████████████████████████████| 100/100 [00:19<00:00,  5.21it/s]\n"
     ]
    },
    {
     "name": "stdout",
     "output_type": "stream",
     "text": [
      "Finished processing 24th image\n"
     ]
    },
    {
     "name": "stderr",
     "output_type": "stream",
     "text": [
      "100%|█████████████████████████████████████████| 100/100 [00:03<00:00, 27.15it/s]\n"
     ]
    },
    {
     "name": "stdout",
     "output_type": "stream",
     "text": [
      "Finished processing 25th image\n"
     ]
    },
    {
     "name": "stderr",
     "output_type": "stream",
     "text": [
      "100%|█████████████████████████████████████████| 100/100 [00:03<00:00, 27.30it/s]\n"
     ]
    },
    {
     "name": "stdout",
     "output_type": "stream",
     "text": [
      "Finished processing 26th image\n"
     ]
    },
    {
     "name": "stderr",
     "output_type": "stream",
     "text": [
      "100%|█████████████████████████████████████████| 100/100 [00:03<00:00, 27.38it/s]\n"
     ]
    },
    {
     "name": "stdout",
     "output_type": "stream",
     "text": [
      "Finished processing 27th image\n"
     ]
    },
    {
     "name": "stderr",
     "output_type": "stream",
     "text": [
      "100%|█████████████████████████████████████████| 100/100 [00:19<00:00,  5.23it/s]\n",
      "Potential NSFW content was detected in one or more images. A black image will be returned instead. Try again with a different prompt and/or seed.\n"
     ]
    },
    {
     "name": "stdout",
     "output_type": "stream",
     "text": [
      "Finished processing 28th image\n"
     ]
    },
    {
     "name": "stderr",
     "output_type": "stream",
     "text": [
      "100%|█████████████████████████████████████████| 100/100 [00:19<00:00,  5.24it/s]\n",
      "Potential NSFW content was detected in one or more images. A black image will be returned instead. Try again with a different prompt and/or seed.\n"
     ]
    },
    {
     "name": "stdout",
     "output_type": "stream",
     "text": [
      "Finished processing 29th image\n"
     ]
    },
    {
     "name": "stderr",
     "output_type": "stream",
     "text": [
      "100%|█████████████████████████████████████████| 100/100 [00:19<00:00,  5.24it/s]\n"
     ]
    },
    {
     "name": "stdout",
     "output_type": "stream",
     "text": [
      "Finished processing 30th image\n"
     ]
    },
    {
     "name": "stderr",
     "output_type": "stream",
     "text": [
      "100%|█████████████████████████████████████████| 100/100 [00:03<00:00, 27.44it/s]\n"
     ]
    },
    {
     "name": "stdout",
     "output_type": "stream",
     "text": [
      "Finished processing 31th image\n"
     ]
    },
    {
     "name": "stderr",
     "output_type": "stream",
     "text": [
      "100%|█████████████████████████████████████████| 100/100 [00:03<00:00, 27.31it/s]\n"
     ]
    },
    {
     "name": "stdout",
     "output_type": "stream",
     "text": [
      "Finished processing 32th image\n"
     ]
    },
    {
     "name": "stderr",
     "output_type": "stream",
     "text": [
      "100%|█████████████████████████████████████████| 100/100 [00:19<00:00,  5.24it/s]\n"
     ]
    },
    {
     "name": "stdout",
     "output_type": "stream",
     "text": [
      "Finished processing 33th image\n"
     ]
    },
    {
     "name": "stderr",
     "output_type": "stream",
     "text": [
      "100%|█████████████████████████████████████████| 100/100 [00:03<00:00, 27.47it/s]\n"
     ]
    },
    {
     "name": "stdout",
     "output_type": "stream",
     "text": [
      "Finished processing 34th image\n"
     ]
    },
    {
     "name": "stderr",
     "output_type": "stream",
     "text": [
      "100%|█████████████████████████████████████████| 100/100 [00:19<00:00,  5.24it/s]\n",
      "Potential NSFW content was detected in one or more images. A black image will be returned instead. Try again with a different prompt and/or seed.\n"
     ]
    },
    {
     "name": "stdout",
     "output_type": "stream",
     "text": [
      "Finished processing 35th image\n"
     ]
    },
    {
     "name": "stderr",
     "output_type": "stream",
     "text": [
      "100%|█████████████████████████████████████████| 100/100 [00:03<00:00, 27.33it/s]\n"
     ]
    },
    {
     "name": "stdout",
     "output_type": "stream",
     "text": [
      "Finished processing 36th image\n"
     ]
    },
    {
     "name": "stderr",
     "output_type": "stream",
     "text": [
      "100%|█████████████████████████████████████████| 100/100 [00:19<00:00,  5.24it/s]\n"
     ]
    },
    {
     "name": "stdout",
     "output_type": "stream",
     "text": [
      "Finished processing 37th image\n"
     ]
    },
    {
     "name": "stderr",
     "output_type": "stream",
     "text": [
      "100%|█████████████████████████████████████████| 100/100 [00:19<00:00,  5.24it/s]\n",
      "Potential NSFW content was detected in one or more images. A black image will be returned instead. Try again with a different prompt and/or seed.\n"
     ]
    },
    {
     "name": "stdout",
     "output_type": "stream",
     "text": [
      "Finished processing 38th image\n"
     ]
    },
    {
     "name": "stderr",
     "output_type": "stream",
     "text": [
      "100%|█████████████████████████████████████████| 100/100 [00:03<00:00, 27.45it/s]\n"
     ]
    },
    {
     "name": "stdout",
     "output_type": "stream",
     "text": [
      "Finished processing 39th image\n"
     ]
    },
    {
     "name": "stderr",
     "output_type": "stream",
     "text": [
      "100%|█████████████████████████████████████████| 100/100 [00:03<00:00, 27.39it/s]\n"
     ]
    },
    {
     "name": "stdout",
     "output_type": "stream",
     "text": [
      "Finished processing 40th image\n"
     ]
    },
    {
     "name": "stderr",
     "output_type": "stream",
     "text": [
      "100%|█████████████████████████████████████████| 100/100 [00:03<00:00, 27.46it/s]\n"
     ]
    },
    {
     "name": "stdout",
     "output_type": "stream",
     "text": [
      "Finished processing 41th image\n"
     ]
    },
    {
     "name": "stderr",
     "output_type": "stream",
     "text": [
      "100%|█████████████████████████████████████████| 100/100 [00:19<00:00,  5.24it/s]\n"
     ]
    },
    {
     "name": "stdout",
     "output_type": "stream",
     "text": [
      "Finished processing 42th image\n"
     ]
    },
    {
     "name": "stderr",
     "output_type": "stream",
     "text": [
      "100%|█████████████████████████████████████████| 100/100 [00:03<00:00, 27.38it/s]\n"
     ]
    },
    {
     "name": "stdout",
     "output_type": "stream",
     "text": [
      "Finished processing 43th image\n"
     ]
    },
    {
     "name": "stderr",
     "output_type": "stream",
     "text": [
      "100%|█████████████████████████████████████████| 100/100 [00:03<00:00, 27.47it/s]\n"
     ]
    },
    {
     "name": "stdout",
     "output_type": "stream",
     "text": [
      "Finished processing 44th image\n"
     ]
    },
    {
     "name": "stderr",
     "output_type": "stream",
     "text": [
      "100%|█████████████████████████████████████████| 100/100 [00:19<00:00,  5.23it/s]\n"
     ]
    },
    {
     "name": "stdout",
     "output_type": "stream",
     "text": [
      "Finished processing 45th image\n"
     ]
    },
    {
     "name": "stderr",
     "output_type": "stream",
     "text": [
      "100%|█████████████████████████████████████████| 100/100 [00:19<00:00,  5.24it/s]\n"
     ]
    },
    {
     "name": "stdout",
     "output_type": "stream",
     "text": [
      "Finished processing 46th image\n"
     ]
    },
    {
     "name": "stderr",
     "output_type": "stream",
     "text": [
      "100%|█████████████████████████████████████████| 100/100 [00:03<00:00, 27.34it/s]\n"
     ]
    },
    {
     "name": "stdout",
     "output_type": "stream",
     "text": [
      "Finished processing 47th image\n"
     ]
    },
    {
     "name": "stderr",
     "output_type": "stream",
     "text": [
      "100%|█████████████████████████████████████████| 100/100 [00:03<00:00, 27.49it/s]\n"
     ]
    },
    {
     "name": "stdout",
     "output_type": "stream",
     "text": [
      "Finished processing 48th image\n"
     ]
    },
    {
     "name": "stderr",
     "output_type": "stream",
     "text": [
      "100%|█████████████████████████████████████████| 100/100 [00:03<00:00, 27.36it/s]\n"
     ]
    },
    {
     "name": "stdout",
     "output_type": "stream",
     "text": [
      "Finished processing 49th image\n"
     ]
    },
    {
     "name": "stderr",
     "output_type": "stream",
     "text": [
      "100%|█████████████████████████████████████████| 100/100 [00:19<00:00,  5.24it/s]\n"
     ]
    },
    {
     "name": "stdout",
     "output_type": "stream",
     "text": [
      "Finished processing 50th image\n"
     ]
    },
    {
     "name": "stderr",
     "output_type": "stream",
     "text": [
      "100%|█████████████████████████████████████████| 100/100 [00:19<00:00,  5.24it/s]\n"
     ]
    },
    {
     "name": "stdout",
     "output_type": "stream",
     "text": [
      "Finished processing 51th image\n"
     ]
    },
    {
     "name": "stderr",
     "output_type": "stream",
     "text": [
      "100%|█████████████████████████████████████████| 100/100 [00:03<00:00, 27.46it/s]\n"
     ]
    },
    {
     "name": "stdout",
     "output_type": "stream",
     "text": [
      "Finished processing 52th image\n"
     ]
    },
    {
     "name": "stderr",
     "output_type": "stream",
     "text": [
      "100%|█████████████████████████████████████████| 100/100 [00:03<00:00, 27.30it/s]\n"
     ]
    },
    {
     "name": "stdout",
     "output_type": "stream",
     "text": [
      "Finished processing 53th image\n"
     ]
    },
    {
     "name": "stderr",
     "output_type": "stream",
     "text": [
      "100%|█████████████████████████████████████████| 100/100 [00:03<00:00, 27.44it/s]\n"
     ]
    },
    {
     "name": "stdout",
     "output_type": "stream",
     "text": [
      "Finished processing 54th image\n"
     ]
    },
    {
     "name": "stderr",
     "output_type": "stream",
     "text": [
      "100%|█████████████████████████████████████████| 100/100 [00:19<00:00,  5.24it/s]\n"
     ]
    },
    {
     "name": "stdout",
     "output_type": "stream",
     "text": [
      "Finished processing 55th image\n"
     ]
    },
    {
     "name": "stderr",
     "output_type": "stream",
     "text": [
      "100%|█████████████████████████████████████████| 100/100 [00:19<00:00,  5.24it/s]\n"
     ]
    },
    {
     "name": "stdout",
     "output_type": "stream",
     "text": [
      "Finished processing 56th image\n"
     ]
    },
    {
     "name": "stderr",
     "output_type": "stream",
     "text": [
      "100%|█████████████████████████████████████████| 100/100 [00:03<00:00, 27.26it/s]\n"
     ]
    },
    {
     "name": "stdout",
     "output_type": "stream",
     "text": [
      "Finished processing 57th image\n"
     ]
    },
    {
     "name": "stderr",
     "output_type": "stream",
     "text": [
      "100%|█████████████████████████████████████████| 100/100 [00:19<00:00,  5.24it/s]\n"
     ]
    },
    {
     "name": "stdout",
     "output_type": "stream",
     "text": [
      "Finished processing 58th image\n"
     ]
    },
    {
     "name": "stderr",
     "output_type": "stream",
     "text": [
      "100%|█████████████████████████████████████████| 100/100 [00:19<00:00,  5.24it/s]\n"
     ]
    },
    {
     "name": "stdout",
     "output_type": "stream",
     "text": [
      "Finished processing 59th image\n"
     ]
    },
    {
     "name": "stderr",
     "output_type": "stream",
     "text": [
      "100%|█████████████████████████████████████████| 100/100 [00:03<00:00, 27.43it/s]\n"
     ]
    },
    {
     "name": "stdout",
     "output_type": "stream",
     "text": [
      "Finished processing 60th image\n"
     ]
    },
    {
     "name": "stderr",
     "output_type": "stream",
     "text": [
      "100%|█████████████████████████████████████████| 100/100 [00:03<00:00, 27.32it/s]\n"
     ]
    },
    {
     "name": "stdout",
     "output_type": "stream",
     "text": [
      "Finished processing 61th image\n"
     ]
    },
    {
     "name": "stderr",
     "output_type": "stream",
     "text": [
      "100%|█████████████████████████████████████████| 100/100 [00:03<00:00, 27.41it/s]\n"
     ]
    },
    {
     "name": "stdout",
     "output_type": "stream",
     "text": [
      "Finished processing 62th image\n"
     ]
    },
    {
     "name": "stderr",
     "output_type": "stream",
     "text": [
      "100%|█████████████████████████████████████████| 100/100 [00:03<00:00, 27.33it/s]\n"
     ]
    },
    {
     "name": "stdout",
     "output_type": "stream",
     "text": [
      "Finished processing 63th image\n"
     ]
    },
    {
     "name": "stderr",
     "output_type": "stream",
     "text": [
      "100%|█████████████████████████████████████████| 100/100 [00:03<00:00, 27.45it/s]\n"
     ]
    },
    {
     "name": "stdout",
     "output_type": "stream",
     "text": [
      "Finished processing 64th image\n"
     ]
    },
    {
     "name": "stderr",
     "output_type": "stream",
     "text": [
      "100%|█████████████████████████████████████████| 100/100 [00:03<00:00, 27.32it/s]\n"
     ]
    },
    {
     "name": "stdout",
     "output_type": "stream",
     "text": [
      "Finished processing 65th image\n"
     ]
    },
    {
     "name": "stderr",
     "output_type": "stream",
     "text": [
      "100%|█████████████████████████████████████████| 100/100 [00:03<00:00, 27.48it/s]\n"
     ]
    },
    {
     "name": "stdout",
     "output_type": "stream",
     "text": [
      "Finished processing 66th image\n"
     ]
    },
    {
     "name": "stderr",
     "output_type": "stream",
     "text": [
      "100%|█████████████████████████████████████████| 100/100 [00:19<00:00,  5.24it/s]\n"
     ]
    },
    {
     "name": "stdout",
     "output_type": "stream",
     "text": [
      "Finished processing 67th image\n"
     ]
    },
    {
     "name": "stderr",
     "output_type": "stream",
     "text": [
      "100%|█████████████████████████████████████████| 100/100 [00:19<00:00,  5.22it/s]\n"
     ]
    },
    {
     "name": "stdout",
     "output_type": "stream",
     "text": [
      "Finished processing 68th image\n"
     ]
    },
    {
     "name": "stderr",
     "output_type": "stream",
     "text": [
      "100%|█████████████████████████████████████████| 100/100 [00:19<00:00,  5.17it/s]\n"
     ]
    },
    {
     "name": "stdout",
     "output_type": "stream",
     "text": [
      "Finished processing 69th image\n"
     ]
    },
    {
     "name": "stderr",
     "output_type": "stream",
     "text": [
      "100%|█████████████████████████████████████████| 100/100 [00:04<00:00, 24.78it/s]\n"
     ]
    },
    {
     "name": "stdout",
     "output_type": "stream",
     "text": [
      "Finished processing 70th image\n"
     ]
    },
    {
     "name": "stderr",
     "output_type": "stream",
     "text": [
      "100%|█████████████████████████████████████████| 100/100 [00:19<00:00,  5.21it/s]\n"
     ]
    },
    {
     "name": "stdout",
     "output_type": "stream",
     "text": [
      "Finished processing 71th image\n"
     ]
    },
    {
     "name": "stderr",
     "output_type": "stream",
     "text": [
      "100%|█████████████████████████████████████████| 100/100 [00:19<00:00,  5.21it/s]\n"
     ]
    },
    {
     "name": "stdout",
     "output_type": "stream",
     "text": [
      "Finished processing 72th image\n"
     ]
    },
    {
     "name": "stderr",
     "output_type": "stream",
     "text": [
      "100%|█████████████████████████████████████████| 100/100 [00:03<00:00, 26.58it/s]\n"
     ]
    },
    {
     "name": "stdout",
     "output_type": "stream",
     "text": [
      "Finished processing 73th image\n"
     ]
    },
    {
     "name": "stderr",
     "output_type": "stream",
     "text": [
      "100%|█████████████████████████████████████████| 100/100 [00:19<00:00,  5.22it/s]\n"
     ]
    },
    {
     "name": "stdout",
     "output_type": "stream",
     "text": [
      "Finished processing 74th image\n"
     ]
    },
    {
     "name": "stderr",
     "output_type": "stream",
     "text": [
      "100%|█████████████████████████████████████████| 100/100 [00:03<00:00, 25.72it/s]\n"
     ]
    },
    {
     "name": "stdout",
     "output_type": "stream",
     "text": [
      "Finished processing 75th image\n"
     ]
    }
   ],
   "source": [
    "# import json\n",
    "# import os\n",
    "\n",
    "# json_file_path = '/scratch/nkusumba/test/edit_turns.json'\n",
    "\n",
    "# add_ids = []\n",
    "# remove_ids = []\n",
    "# with open(json_file_path, 'r') as file:\n",
    "#     data = json.load(file)\n",
    "#     for d in data:\n",
    "#         id = int(d['input'].split('-')[0])\n",
    "#         if 'add' in d['instruction'].lower():\n",
    "#             add_ids.append((id, d['instruction'], d['input'], d['output']))\n",
    "#         elif 'remove' in d['instruction'].lower():\n",
    "#             remove_ids.append((id, d['instruction'], d['input'], d['output']))\n",
    "\n",
    "\n",
    "# dir_path = '/scratch/nkusumba/test/images'\n",
    "# out_dir = '/scratch/nkusumba/test/aux_outputs'\n",
    "# os.makedirs(out_dir, exist_ok=True)\n",
    "# count = 0\n",
    "\n",
    "# inputs = add_ids[0:25] + remove_ids[0:50]\n",
    "\n",
    "# for i in inputs:\n",
    "#     id = i[0]\n",
    "#     input_img_path = f'{dir_path}/{id}/{i[2]}'\n",
    "#     output_img_path = f'{dir_path}/{id}/{i[3]}'\n",
    "#     instruction = i[1]\n",
    "\n",
    "#     res_out_dir = f'{out_dir}/{count+1}'\n",
    "#     os.makedirs(res_out_dir, exist_ok=True)\n",
    "    \n",
    "#     out_img = Image.open(output_img_path)\n",
    "#     out_img.save(f'{res_out_dir}/groundtruth.png')\n",
    "\n",
    "#     img = Image.open(input_img_path).convert('RGB')\n",
    "#     img.save(f'{res_out_dir}/input_image.png')\n",
    "\n",
    "#     with open(f'{res_out_dir}/instruction.txt', 'w') as f:\n",
    "#         f.write(instruction)\n",
    "#     out = pipe(prompt=instruction, image=img).images[0]\n",
    "#     out.save(f'{res_out_dir}/output_image.png')\n",
    "    \n",
    "#     print(f'Finished processing {count+1}th image')\n",
    "#     count += 1\n"
   ]
  },
  {
   "cell_type": "code",
   "execution_count": 4,
   "metadata": {},
   "outputs": [
    {
     "name": "stdout",
     "output_type": "stream",
     "text": [
      "Started Evaluation\n",
      "Process done!!!\n"
     ]
    }
   ],
   "source": [
    "import os\n",
    "import json\n",
    "\n",
    "file_path = '/scratch/nkusumba/test/edit_sessions.json'\n",
    "\n",
    "with open(file_path, 'r') as file:\n",
    "    json_data = json.load(file)\n",
    "\n",
    "# Printing each key and its corresponding value\n",
    "dic = {}\n",
    "for key, value in json_data.items():\n",
    "    dic[key] = value[0]['instruction']\n",
    "\n",
    "images_path = '/scratch/nkusumba/test/images/'\n",
    "os.makedirs('/scratch/nkusumba/test/outputs/', exist_ok=True)\n",
    "\n",
    "print('Started Evaluation')\n",
    "count = -1\n",
    "input_images = []\n",
    "output_images = []\n",
    "instructions = []\n",
    "path = []\n",
    "\n",
    "dir_name = []\n",
    "for dirpath, dirname, filenames in os.walk(images_path):\n",
    "    if count == -1:\n",
    "        count = 0\n",
    "        dir_name = dirname\n",
    "    if count == 100:\n",
    "        print('Process done!!!')\n",
    "        break\n",
    "    input_path = ''\n",
    "    output_path = ''\n",
    "    for file in filenames:\n",
    "        filepath = os.path.join(dirpath, file)\n",
    "        \n",
    "        if filepath.endswith('input.png'):\n",
    "            input_path = filepath\n",
    "            img = Image.open(filepath).convert(\"RGB\")\n",
    "            input_images.append(img)\n",
    "        elif filepath.endswith('output1.png'):\n",
    "            img = Image.open(filepath)\n",
    "            output_images.append(img)\n",
    "    if input_path == '':\n",
    "        continue\n",
    "    # print(f'Processing {count+1}th image')\n",
    "    dir = f'/scratch/nkusumba/test/outputs/{count+1}'\n",
    "    os.makedirs(dir, exist_ok=True)\n",
    "    # out_img = Image.open(output_path)\n",
    "    # out_img.save(f'{dir}/groundtruth.png')\n",
    "\n",
    "    # # Process the image\n",
    "    # img = Image.open(input_path)\n",
    "    # # Process the instruction\n",
    "    instruction = dic[dir_name[count]]\n",
    "    # out = get_edited_image(img, instruction, pipe)\n",
    "    # img.save(f'{dir}/input_image.png')\n",
    "    instructions.append(instruction)\n",
    "    path.append(f'{dir}')\n",
    "\n",
    "    # print(f'Finished processing {count+1}th image')\n",
    "    count += 1\n",
    "    # torch.cuda.empty_cache()\n",
    "    # del image, instruction, out_img, img\n"
   ]
  },
  {
   "cell_type": "code",
   "execution_count": 5,
   "metadata": {},
   "outputs": [
    {
     "name": "stdout",
     "output_type": "stream",
     "text": [
      "Processing 1th image\n"
     ]
    },
    {
     "name": "stderr",
     "output_type": "stream",
     "text": [
      "100%|█████████████████████████████████████████| 100/100 [00:19<00:00,  5.15it/s]\n"
     ]
    },
    {
     "name": "stdout",
     "output_type": "stream",
     "text": [
      "Processed 1th image\n",
      "Processing 2th image\n"
     ]
    },
    {
     "name": "stderr",
     "output_type": "stream",
     "text": [
      "100%|█████████████████████████████████████████| 100/100 [00:03<00:00, 26.27it/s]\n"
     ]
    },
    {
     "name": "stdout",
     "output_type": "stream",
     "text": [
      "Processed 2th image\n",
      "Processing 3th image\n"
     ]
    },
    {
     "name": "stderr",
     "output_type": "stream",
     "text": [
      "100%|█████████████████████████████████████████| 100/100 [00:03<00:00, 26.86it/s]\n"
     ]
    },
    {
     "name": "stdout",
     "output_type": "stream",
     "text": [
      "Processed 3th image\n",
      "Processing 4th image\n"
     ]
    },
    {
     "name": "stderr",
     "output_type": "stream",
     "text": [
      "100%|█████████████████████████████████████████| 100/100 [00:03<00:00, 26.96it/s]\n"
     ]
    },
    {
     "name": "stdout",
     "output_type": "stream",
     "text": [
      "Processed 4th image\n",
      "Processing 5th image\n"
     ]
    },
    {
     "name": "stderr",
     "output_type": "stream",
     "text": [
      "100%|█████████████████████████████████████████| 100/100 [00:03<00:00, 26.83it/s]\n"
     ]
    },
    {
     "name": "stdout",
     "output_type": "stream",
     "text": [
      "Processed 5th image\n",
      "Processing 6th image\n"
     ]
    },
    {
     "name": "stderr",
     "output_type": "stream",
     "text": [
      "100%|█████████████████████████████████████████| 100/100 [00:03<00:00, 26.77it/s]\n"
     ]
    },
    {
     "name": "stdout",
     "output_type": "stream",
     "text": [
      "Processed 6th image\n",
      "Processing 7th image\n"
     ]
    },
    {
     "name": "stderr",
     "output_type": "stream",
     "text": [
      "100%|█████████████████████████████████████████| 100/100 [00:03<00:00, 27.06it/s]\n"
     ]
    },
    {
     "name": "stdout",
     "output_type": "stream",
     "text": [
      "Processed 7th image\n",
      "Processing 8th image\n"
     ]
    },
    {
     "name": "stderr",
     "output_type": "stream",
     "text": [
      "100%|█████████████████████████████████████████| 100/100 [00:03<00:00, 27.18it/s]\n"
     ]
    },
    {
     "name": "stdout",
     "output_type": "stream",
     "text": [
      "Processed 8th image\n",
      "Processing 9th image\n"
     ]
    },
    {
     "name": "stderr",
     "output_type": "stream",
     "text": [
      "100%|█████████████████████████████████████████| 100/100 [00:03<00:00, 26.79it/s]\n"
     ]
    },
    {
     "name": "stdout",
     "output_type": "stream",
     "text": [
      "Processed 9th image\n",
      "Processing 10th image\n"
     ]
    },
    {
     "name": "stderr",
     "output_type": "stream",
     "text": [
      "100%|█████████████████████████████████████████| 100/100 [00:04<00:00, 24.94it/s]\n"
     ]
    },
    {
     "name": "stdout",
     "output_type": "stream",
     "text": [
      "Processed 10th image\n",
      "Processing 11th image\n"
     ]
    },
    {
     "name": "stderr",
     "output_type": "stream",
     "text": [
      "100%|█████████████████████████████████████████| 100/100 [00:03<00:00, 26.70it/s]\n"
     ]
    },
    {
     "name": "stdout",
     "output_type": "stream",
     "text": [
      "Processed 11th image\n",
      "Processing 12th image\n"
     ]
    },
    {
     "name": "stderr",
     "output_type": "stream",
     "text": [
      "100%|█████████████████████████████████████████| 100/100 [00:03<00:00, 27.06it/s]\n"
     ]
    },
    {
     "name": "stdout",
     "output_type": "stream",
     "text": [
      "Processed 12th image\n",
      "Processing 13th image\n"
     ]
    },
    {
     "name": "stderr",
     "output_type": "stream",
     "text": [
      "100%|█████████████████████████████████████████| 100/100 [00:03<00:00, 26.69it/s]\n"
     ]
    },
    {
     "name": "stdout",
     "output_type": "stream",
     "text": [
      "Processed 13th image\n",
      "Processing 14th image\n"
     ]
    },
    {
     "name": "stderr",
     "output_type": "stream",
     "text": [
      "100%|█████████████████████████████████████████| 100/100 [00:03<00:00, 26.79it/s]\n"
     ]
    },
    {
     "name": "stdout",
     "output_type": "stream",
     "text": [
      "Processed 14th image\n",
      "Processing 15th image\n"
     ]
    },
    {
     "name": "stderr",
     "output_type": "stream",
     "text": [
      "100%|█████████████████████████████████████████| 100/100 [00:03<00:00, 26.77it/s]\n"
     ]
    },
    {
     "name": "stdout",
     "output_type": "stream",
     "text": [
      "Processed 15th image\n",
      "Processing 16th image\n"
     ]
    },
    {
     "name": "stderr",
     "output_type": "stream",
     "text": [
      "100%|█████████████████████████████████████████| 100/100 [00:03<00:00, 27.04it/s]\n"
     ]
    },
    {
     "name": "stdout",
     "output_type": "stream",
     "text": [
      "Processed 16th image\n",
      "Processing 17th image\n"
     ]
    },
    {
     "name": "stderr",
     "output_type": "stream",
     "text": [
      "100%|█████████████████████████████████████████| 100/100 [00:03<00:00, 27.06it/s]\n"
     ]
    },
    {
     "name": "stdout",
     "output_type": "stream",
     "text": [
      "Processed 17th image\n",
      "Processing 18th image\n"
     ]
    },
    {
     "name": "stderr",
     "output_type": "stream",
     "text": [
      "100%|█████████████████████████████████████████| 100/100 [00:03<00:00, 26.89it/s]\n"
     ]
    },
    {
     "name": "stdout",
     "output_type": "stream",
     "text": [
      "Processed 18th image\n",
      "Processing 19th image\n"
     ]
    },
    {
     "name": "stderr",
     "output_type": "stream",
     "text": [
      "100%|█████████████████████████████████████████| 100/100 [00:03<00:00, 26.71it/s]\n"
     ]
    },
    {
     "name": "stdout",
     "output_type": "stream",
     "text": [
      "Processed 19th image\n",
      "Processing 20th image\n"
     ]
    },
    {
     "name": "stderr",
     "output_type": "stream",
     "text": [
      "100%|█████████████████████████████████████████| 100/100 [00:03<00:00, 27.15it/s]\n"
     ]
    },
    {
     "name": "stdout",
     "output_type": "stream",
     "text": [
      "Processed 20th image\n",
      "Processing 21th image\n"
     ]
    },
    {
     "name": "stderr",
     "output_type": "stream",
     "text": [
      "100%|█████████████████████████████████████████| 100/100 [00:03<00:00, 26.76it/s]\n"
     ]
    },
    {
     "name": "stdout",
     "output_type": "stream",
     "text": [
      "Processed 21th image\n",
      "Processing 22th image\n"
     ]
    },
    {
     "name": "stderr",
     "output_type": "stream",
     "text": [
      "100%|█████████████████████████████████████████| 100/100 [00:03<00:00, 26.93it/s]\n"
     ]
    },
    {
     "name": "stdout",
     "output_type": "stream",
     "text": [
      "Processed 22th image\n",
      "Processing 23th image\n"
     ]
    },
    {
     "name": "stderr",
     "output_type": "stream",
     "text": [
      "100%|█████████████████████████████████████████| 100/100 [00:03<00:00, 26.60it/s]\n"
     ]
    },
    {
     "name": "stdout",
     "output_type": "stream",
     "text": [
      "Processed 23th image\n",
      "Processing 24th image\n"
     ]
    },
    {
     "name": "stderr",
     "output_type": "stream",
     "text": [
      "100%|█████████████████████████████████████████| 100/100 [00:03<00:00, 27.15it/s]\n"
     ]
    },
    {
     "name": "stdout",
     "output_type": "stream",
     "text": [
      "Processed 24th image\n",
      "Processing 25th image\n"
     ]
    },
    {
     "name": "stderr",
     "output_type": "stream",
     "text": [
      "100%|█████████████████████████████████████████| 100/100 [00:03<00:00, 26.98it/s]\n"
     ]
    },
    {
     "name": "stdout",
     "output_type": "stream",
     "text": [
      "Processed 25th image\n",
      "Processing 26th image\n"
     ]
    },
    {
     "name": "stderr",
     "output_type": "stream",
     "text": [
      "100%|█████████████████████████████████████████| 100/100 [00:03<00:00, 26.79it/s]\n"
     ]
    },
    {
     "name": "stdout",
     "output_type": "stream",
     "text": [
      "Processed 26th image\n",
      "Processing 27th image\n"
     ]
    },
    {
     "name": "stderr",
     "output_type": "stream",
     "text": [
      "100%|█████████████████████████████████████████| 100/100 [00:03<00:00, 26.79it/s]\n"
     ]
    },
    {
     "name": "stdout",
     "output_type": "stream",
     "text": [
      "Processed 27th image\n",
      "Processing 28th image\n"
     ]
    },
    {
     "name": "stderr",
     "output_type": "stream",
     "text": [
      "100%|█████████████████████████████████████████| 100/100 [00:03<00:00, 27.14it/s]\n"
     ]
    },
    {
     "name": "stdout",
     "output_type": "stream",
     "text": [
      "Processed 28th image\n",
      "Processing 29th image\n"
     ]
    },
    {
     "name": "stderr",
     "output_type": "stream",
     "text": [
      "100%|█████████████████████████████████████████| 100/100 [00:03<00:00, 26.81it/s]\n"
     ]
    },
    {
     "name": "stdout",
     "output_type": "stream",
     "text": [
      "Processed 29th image\n",
      "Processing 30th image\n"
     ]
    },
    {
     "name": "stderr",
     "output_type": "stream",
     "text": [
      "100%|█████████████████████████████████████████| 100/100 [00:03<00:00, 26.65it/s]\n"
     ]
    },
    {
     "name": "stdout",
     "output_type": "stream",
     "text": [
      "Processed 30th image\n",
      "Processing 31th image\n"
     ]
    },
    {
     "name": "stderr",
     "output_type": "stream",
     "text": [
      "100%|█████████████████████████████████████████| 100/100 [00:03<00:00, 27.05it/s]\n"
     ]
    },
    {
     "name": "stdout",
     "output_type": "stream",
     "text": [
      "Processed 31th image\n",
      "Processing 32th image\n"
     ]
    },
    {
     "name": "stderr",
     "output_type": "stream",
     "text": [
      "100%|█████████████████████████████████████████| 100/100 [00:03<00:00, 26.68it/s]\n"
     ]
    },
    {
     "name": "stdout",
     "output_type": "stream",
     "text": [
      "Processed 32th image\n",
      "Processing 33th image\n"
     ]
    },
    {
     "name": "stderr",
     "output_type": "stream",
     "text": [
      "100%|█████████████████████████████████████████| 100/100 [00:03<00:00, 26.82it/s]\n"
     ]
    },
    {
     "name": "stdout",
     "output_type": "stream",
     "text": [
      "Processed 33th image\n",
      "Processing 34th image\n"
     ]
    },
    {
     "name": "stderr",
     "output_type": "stream",
     "text": [
      "100%|█████████████████████████████████████████| 100/100 [00:03<00:00, 26.57it/s]\n"
     ]
    },
    {
     "name": "stdout",
     "output_type": "stream",
     "text": [
      "Processed 34th image\n",
      "Processing 35th image\n"
     ]
    },
    {
     "name": "stderr",
     "output_type": "stream",
     "text": [
      "100%|█████████████████████████████████████████| 100/100 [00:03<00:00, 26.97it/s]\n"
     ]
    },
    {
     "name": "stdout",
     "output_type": "stream",
     "text": [
      "Processed 35th image\n",
      "Processing 36th image\n"
     ]
    },
    {
     "name": "stderr",
     "output_type": "stream",
     "text": [
      "100%|█████████████████████████████████████████| 100/100 [00:03<00:00, 26.70it/s]\n"
     ]
    },
    {
     "name": "stdout",
     "output_type": "stream",
     "text": [
      "Processed 36th image\n",
      "Processing 37th image\n"
     ]
    },
    {
     "name": "stderr",
     "output_type": "stream",
     "text": [
      "100%|█████████████████████████████████████████| 100/100 [00:03<00:00, 26.74it/s]\n"
     ]
    },
    {
     "name": "stdout",
     "output_type": "stream",
     "text": [
      "Processed 37th image\n",
      "Processing 38th image\n"
     ]
    },
    {
     "name": "stderr",
     "output_type": "stream",
     "text": [
      "100%|█████████████████████████████████████████| 100/100 [00:03<00:00, 26.95it/s]\n"
     ]
    },
    {
     "name": "stdout",
     "output_type": "stream",
     "text": [
      "Processed 38th image\n",
      "Processing 39th image\n"
     ]
    },
    {
     "name": "stderr",
     "output_type": "stream",
     "text": [
      "100%|█████████████████████████████████████████| 100/100 [00:03<00:00, 26.49it/s]\n"
     ]
    },
    {
     "name": "stdout",
     "output_type": "stream",
     "text": [
      "Processed 39th image\n",
      "Processing 40th image\n"
     ]
    },
    {
     "name": "stderr",
     "output_type": "stream",
     "text": [
      "100%|█████████████████████████████████████████| 100/100 [00:03<00:00, 26.76it/s]\n"
     ]
    },
    {
     "name": "stdout",
     "output_type": "stream",
     "text": [
      "Processed 40th image\n",
      "Processing 41th image\n"
     ]
    },
    {
     "name": "stderr",
     "output_type": "stream",
     "text": [
      "100%|█████████████████████████████████████████| 100/100 [00:04<00:00, 24.64it/s]\n"
     ]
    },
    {
     "name": "stdout",
     "output_type": "stream",
     "text": [
      "Processed 41th image\n",
      "Processing 42th image\n"
     ]
    },
    {
     "name": "stderr",
     "output_type": "stream",
     "text": [
      "100%|█████████████████████████████████████████| 100/100 [00:03<00:00, 26.93it/s]\n"
     ]
    },
    {
     "name": "stdout",
     "output_type": "stream",
     "text": [
      "Processed 42th image\n",
      "Processing 43th image\n"
     ]
    },
    {
     "name": "stderr",
     "output_type": "stream",
     "text": [
      "100%|█████████████████████████████████████████| 100/100 [00:03<00:00, 26.66it/s]\n"
     ]
    },
    {
     "name": "stdout",
     "output_type": "stream",
     "text": [
      "Processed 43th image\n",
      "Processing 44th image\n"
     ]
    },
    {
     "name": "stderr",
     "output_type": "stream",
     "text": [
      "100%|█████████████████████████████████████████| 100/100 [00:03<00:00, 26.67it/s]\n"
     ]
    },
    {
     "name": "stdout",
     "output_type": "stream",
     "text": [
      "Processed 44th image\n",
      "Processing 45th image\n"
     ]
    },
    {
     "name": "stderr",
     "output_type": "stream",
     "text": [
      "100%|█████████████████████████████████████████| 100/100 [00:03<00:00, 26.90it/s]\n"
     ]
    },
    {
     "name": "stdout",
     "output_type": "stream",
     "text": [
      "Processed 45th image\n",
      "Processing 46th image\n"
     ]
    },
    {
     "name": "stderr",
     "output_type": "stream",
     "text": [
      "100%|█████████████████████████████████████████| 100/100 [00:03<00:00, 26.68it/s]\n"
     ]
    },
    {
     "name": "stdout",
     "output_type": "stream",
     "text": [
      "Processed 46th image\n",
      "Processing 47th image\n"
     ]
    },
    {
     "name": "stderr",
     "output_type": "stream",
     "text": [
      "100%|█████████████████████████████████████████| 100/100 [00:03<00:00, 26.71it/s]\n"
     ]
    },
    {
     "name": "stdout",
     "output_type": "stream",
     "text": [
      "Processed 47th image\n",
      "Processing 48th image\n"
     ]
    },
    {
     "name": "stderr",
     "output_type": "stream",
     "text": [
      "100%|█████████████████████████████████████████| 100/100 [00:03<00:00, 26.14it/s]\n"
     ]
    },
    {
     "name": "stdout",
     "output_type": "stream",
     "text": [
      "Processed 48th image\n",
      "Processing 49th image\n"
     ]
    },
    {
     "name": "stderr",
     "output_type": "stream",
     "text": [
      "100%|█████████████████████████████████████████| 100/100 [00:03<00:00, 26.88it/s]\n"
     ]
    },
    {
     "name": "stdout",
     "output_type": "stream",
     "text": [
      "Processed 49th image\n",
      "Processing 50th image\n"
     ]
    },
    {
     "name": "stderr",
     "output_type": "stream",
     "text": [
      "100%|█████████████████████████████████████████| 100/100 [00:03<00:00, 26.47it/s]\n"
     ]
    },
    {
     "name": "stdout",
     "output_type": "stream",
     "text": [
      "Processed 50th image\n",
      "Processing 51th image\n"
     ]
    },
    {
     "name": "stderr",
     "output_type": "stream",
     "text": [
      "100%|█████████████████████████████████████████| 100/100 [00:03<00:00, 26.66it/s]\n"
     ]
    },
    {
     "name": "stdout",
     "output_type": "stream",
     "text": [
      "Processed 51th image\n",
      "Processing 52th image\n"
     ]
    },
    {
     "name": "stderr",
     "output_type": "stream",
     "text": [
      "100%|█████████████████████████████████████████| 100/100 [00:03<00:00, 26.78it/s]\n"
     ]
    },
    {
     "name": "stdout",
     "output_type": "stream",
     "text": [
      "Processed 52th image\n",
      "Processing 53th image\n"
     ]
    },
    {
     "name": "stderr",
     "output_type": "stream",
     "text": [
      "100%|█████████████████████████████████████████| 100/100 [00:03<00:00, 26.54it/s]\n"
     ]
    },
    {
     "name": "stdout",
     "output_type": "stream",
     "text": [
      "Processed 53th image\n",
      "Processing 54th image\n"
     ]
    },
    {
     "name": "stderr",
     "output_type": "stream",
     "text": [
      "100%|█████████████████████████████████████████| 100/100 [00:03<00:00, 26.59it/s]\n"
     ]
    },
    {
     "name": "stdout",
     "output_type": "stream",
     "text": [
      "Processed 54th image\n",
      "Processing 55th image\n"
     ]
    },
    {
     "name": "stderr",
     "output_type": "stream",
     "text": [
      "100%|█████████████████████████████████████████| 100/100 [00:04<00:00, 24.83it/s]\n"
     ]
    },
    {
     "name": "stdout",
     "output_type": "stream",
     "text": [
      "Processed 55th image\n",
      "Processing 56th image\n"
     ]
    },
    {
     "name": "stderr",
     "output_type": "stream",
     "text": [
      "100%|█████████████████████████████████████████| 100/100 [00:03<00:00, 26.62it/s]\n"
     ]
    },
    {
     "name": "stdout",
     "output_type": "stream",
     "text": [
      "Processed 56th image\n",
      "Processing 57th image\n"
     ]
    },
    {
     "name": "stderr",
     "output_type": "stream",
     "text": [
      "100%|█████████████████████████████████████████| 100/100 [00:03<00:00, 26.70it/s]\n"
     ]
    },
    {
     "name": "stdout",
     "output_type": "stream",
     "text": [
      "Processed 57th image\n",
      "Processing 58th image\n"
     ]
    },
    {
     "name": "stderr",
     "output_type": "stream",
     "text": [
      "100%|█████████████████████████████████████████| 100/100 [00:03<00:00, 26.59it/s]\n"
     ]
    },
    {
     "name": "stdout",
     "output_type": "stream",
     "text": [
      "Processed 58th image\n",
      "Processing 59th image\n"
     ]
    },
    {
     "name": "stderr",
     "output_type": "stream",
     "text": [
      "100%|█████████████████████████████████████████| 100/100 [00:03<00:00, 26.37it/s]\n"
     ]
    },
    {
     "name": "stdout",
     "output_type": "stream",
     "text": [
      "Processed 59th image\n",
      "Processing 60th image\n"
     ]
    },
    {
     "name": "stderr",
     "output_type": "stream",
     "text": [
      "100%|█████████████████████████████████████████| 100/100 [00:03<00:00, 26.74it/s]\n"
     ]
    },
    {
     "name": "stdout",
     "output_type": "stream",
     "text": [
      "Processed 60th image\n",
      "Processing 61th image\n"
     ]
    },
    {
     "name": "stderr",
     "output_type": "stream",
     "text": [
      "100%|█████████████████████████████████████████| 100/100 [00:04<00:00, 24.44it/s]\n"
     ]
    },
    {
     "name": "stdout",
     "output_type": "stream",
     "text": [
      "Processed 61th image\n",
      "Processing 62th image\n"
     ]
    },
    {
     "name": "stderr",
     "output_type": "stream",
     "text": [
      "100%|█████████████████████████████████████████| 100/100 [00:03<00:00, 26.40it/s]\n"
     ]
    },
    {
     "name": "stdout",
     "output_type": "stream",
     "text": [
      "Processed 62th image\n",
      "Processing 63th image\n"
     ]
    },
    {
     "name": "stderr",
     "output_type": "stream",
     "text": [
      "100%|█████████████████████████████████████████| 100/100 [00:03<00:00, 26.42it/s]\n"
     ]
    },
    {
     "name": "stdout",
     "output_type": "stream",
     "text": [
      "Processed 63th image\n",
      "Processing 64th image\n"
     ]
    },
    {
     "name": "stderr",
     "output_type": "stream",
     "text": [
      "100%|█████████████████████████████████████████| 100/100 [00:03<00:00, 26.59it/s]\n"
     ]
    },
    {
     "name": "stdout",
     "output_type": "stream",
     "text": [
      "Processed 64th image\n",
      "Processing 65th image\n"
     ]
    },
    {
     "name": "stderr",
     "output_type": "stream",
     "text": [
      "100%|█████████████████████████████████████████| 100/100 [00:03<00:00, 26.36it/s]\n"
     ]
    },
    {
     "name": "stdout",
     "output_type": "stream",
     "text": [
      "Processed 65th image\n",
      "Processing 66th image\n"
     ]
    },
    {
     "name": "stderr",
     "output_type": "stream",
     "text": [
      "100%|█████████████████████████████████████████| 100/100 [00:03<00:00, 26.31it/s]\n",
      "Potential NSFW content was detected in one or more images. A black image will be returned instead. Try again with a different prompt and/or seed.\n"
     ]
    },
    {
     "name": "stdout",
     "output_type": "stream",
     "text": [
      "Processed 66th image\n",
      "Processing 67th image\n"
     ]
    },
    {
     "name": "stderr",
     "output_type": "stream",
     "text": [
      "100%|█████████████████████████████████████████| 100/100 [00:04<00:00, 23.58it/s]\n"
     ]
    },
    {
     "name": "stdout",
     "output_type": "stream",
     "text": [
      "Processed 67th image\n",
      "Processing 68th image\n"
     ]
    },
    {
     "name": "stderr",
     "output_type": "stream",
     "text": [
      "100%|█████████████████████████████████████████| 100/100 [00:03<00:00, 25.95it/s]\n"
     ]
    },
    {
     "name": "stdout",
     "output_type": "stream",
     "text": [
      "Processed 68th image\n",
      "Processing 69th image\n"
     ]
    },
    {
     "name": "stderr",
     "output_type": "stream",
     "text": [
      "100%|█████████████████████████████████████████| 100/100 [00:03<00:00, 26.50it/s]\n"
     ]
    },
    {
     "name": "stdout",
     "output_type": "stream",
     "text": [
      "Processed 69th image\n",
      "Processing 70th image\n"
     ]
    },
    {
     "name": "stderr",
     "output_type": "stream",
     "text": [
      "100%|█████████████████████████████████████████| 100/100 [00:03<00:00, 26.29it/s]\n"
     ]
    },
    {
     "name": "stdout",
     "output_type": "stream",
     "text": [
      "Processed 70th image\n",
      "Processing 71th image\n"
     ]
    },
    {
     "name": "stderr",
     "output_type": "stream",
     "text": [
      "100%|█████████████████████████████████████████| 100/100 [00:04<00:00, 21.04it/s]\n"
     ]
    },
    {
     "name": "stdout",
     "output_type": "stream",
     "text": [
      "Processed 71th image\n",
      "Processing 72th image\n"
     ]
    },
    {
     "name": "stderr",
     "output_type": "stream",
     "text": [
      "100%|█████████████████████████████████████████| 100/100 [00:03<00:00, 26.12it/s]\n"
     ]
    },
    {
     "name": "stdout",
     "output_type": "stream",
     "text": [
      "Processed 72th image\n",
      "Processing 73th image\n"
     ]
    },
    {
     "name": "stderr",
     "output_type": "stream",
     "text": [
      "100%|█████████████████████████████████████████| 100/100 [00:03<00:00, 26.28it/s]\n"
     ]
    },
    {
     "name": "stdout",
     "output_type": "stream",
     "text": [
      "Processed 73th image\n",
      "Processing 74th image\n"
     ]
    },
    {
     "name": "stderr",
     "output_type": "stream",
     "text": [
      "100%|█████████████████████████████████████████| 100/100 [00:03<00:00, 26.04it/s]\n"
     ]
    },
    {
     "name": "stdout",
     "output_type": "stream",
     "text": [
      "Processed 74th image\n",
      "Processing 75th image\n"
     ]
    },
    {
     "name": "stderr",
     "output_type": "stream",
     "text": [
      "100%|█████████████████████████████████████████| 100/100 [00:03<00:00, 26.14it/s]\n"
     ]
    },
    {
     "name": "stdout",
     "output_type": "stream",
     "text": [
      "Processed 75th image\n",
      "Processing 76th image\n"
     ]
    },
    {
     "name": "stderr",
     "output_type": "stream",
     "text": [
      "100%|█████████████████████████████████████████| 100/100 [00:03<00:00, 26.26it/s]\n"
     ]
    },
    {
     "name": "stdout",
     "output_type": "stream",
     "text": [
      "Processed 76th image\n",
      "Processing 77th image\n"
     ]
    },
    {
     "name": "stderr",
     "output_type": "stream",
     "text": [
      "100%|█████████████████████████████████████████| 100/100 [00:03<00:00, 26.49it/s]\n"
     ]
    },
    {
     "name": "stdout",
     "output_type": "stream",
     "text": [
      "Processed 77th image\n",
      "Processing 78th image\n"
     ]
    },
    {
     "name": "stderr",
     "output_type": "stream",
     "text": [
      "100%|█████████████████████████████████████████| 100/100 [00:03<00:00, 26.61it/s]\n"
     ]
    },
    {
     "name": "stdout",
     "output_type": "stream",
     "text": [
      "Processed 78th image\n",
      "Processing 79th image\n"
     ]
    },
    {
     "name": "stderr",
     "output_type": "stream",
     "text": [
      "100%|█████████████████████████████████████████| 100/100 [00:03<00:00, 26.00it/s]\n"
     ]
    },
    {
     "name": "stdout",
     "output_type": "stream",
     "text": [
      "Processed 79th image\n",
      "Processing 80th image\n"
     ]
    },
    {
     "name": "stderr",
     "output_type": "stream",
     "text": [
      "100%|█████████████████████████████████████████| 100/100 [00:04<00:00, 24.66it/s]\n"
     ]
    },
    {
     "name": "stdout",
     "output_type": "stream",
     "text": [
      "Processed 80th image\n",
      "Processing 81th image\n"
     ]
    },
    {
     "name": "stderr",
     "output_type": "stream",
     "text": [
      "100%|█████████████████████████████████████████| 100/100 [00:03<00:00, 26.00it/s]\n"
     ]
    },
    {
     "name": "stdout",
     "output_type": "stream",
     "text": [
      "Processed 81th image\n",
      "Processing 82th image\n"
     ]
    },
    {
     "name": "stderr",
     "output_type": "stream",
     "text": [
      "100%|█████████████████████████████████████████| 100/100 [00:04<00:00, 23.56it/s]\n"
     ]
    },
    {
     "name": "stdout",
     "output_type": "stream",
     "text": [
      "Processed 82th image\n",
      "Processing 83th image\n"
     ]
    },
    {
     "name": "stderr",
     "output_type": "stream",
     "text": [
      "100%|█████████████████████████████████████████| 100/100 [00:03<00:00, 25.03it/s]\n"
     ]
    },
    {
     "name": "stdout",
     "output_type": "stream",
     "text": [
      "Processed 83th image\n",
      "Processing 84th image\n"
     ]
    },
    {
     "name": "stderr",
     "output_type": "stream",
     "text": [
      "100%|█████████████████████████████████████████| 100/100 [00:03<00:00, 25.87it/s]\n"
     ]
    },
    {
     "name": "stdout",
     "output_type": "stream",
     "text": [
      "Processed 84th image\n",
      "Processing 85th image\n"
     ]
    },
    {
     "name": "stderr",
     "output_type": "stream",
     "text": [
      "100%|█████████████████████████████████████████| 100/100 [00:03<00:00, 25.86it/s]\n"
     ]
    },
    {
     "name": "stdout",
     "output_type": "stream",
     "text": [
      "Processed 85th image\n",
      "Processing 86th image\n"
     ]
    },
    {
     "name": "stderr",
     "output_type": "stream",
     "text": [
      "100%|█████████████████████████████████████████| 100/100 [00:03<00:00, 26.22it/s]\n"
     ]
    },
    {
     "name": "stdout",
     "output_type": "stream",
     "text": [
      "Processed 86th image\n",
      "Processing 87th image\n"
     ]
    },
    {
     "name": "stderr",
     "output_type": "stream",
     "text": [
      "100%|█████████████████████████████████████████| 100/100 [00:03<00:00, 25.91it/s]\n"
     ]
    },
    {
     "name": "stdout",
     "output_type": "stream",
     "text": [
      "Processed 87th image\n",
      "Processing 88th image\n"
     ]
    },
    {
     "name": "stderr",
     "output_type": "stream",
     "text": [
      "100%|█████████████████████████████████████████| 100/100 [00:03<00:00, 25.86it/s]\n"
     ]
    },
    {
     "name": "stdout",
     "output_type": "stream",
     "text": [
      "Processed 88th image\n",
      "Processing 89th image\n"
     ]
    },
    {
     "name": "stderr",
     "output_type": "stream",
     "text": [
      "100%|█████████████████████████████████████████| 100/100 [00:03<00:00, 25.47it/s]\n"
     ]
    },
    {
     "name": "stdout",
     "output_type": "stream",
     "text": [
      "Processed 89th image\n",
      "Processing 90th image\n"
     ]
    },
    {
     "name": "stderr",
     "output_type": "stream",
     "text": [
      "100%|█████████████████████████████████████████| 100/100 [00:03<00:00, 26.18it/s]\n"
     ]
    },
    {
     "name": "stdout",
     "output_type": "stream",
     "text": [
      "Processed 90th image\n",
      "Processing 91th image\n"
     ]
    },
    {
     "name": "stderr",
     "output_type": "stream",
     "text": [
      "100%|█████████████████████████████████████████| 100/100 [00:03<00:00, 26.06it/s]\n"
     ]
    },
    {
     "name": "stdout",
     "output_type": "stream",
     "text": [
      "Processed 91th image\n",
      "Processing 92th image\n"
     ]
    },
    {
     "name": "stderr",
     "output_type": "stream",
     "text": [
      "100%|█████████████████████████████████████████| 100/100 [00:03<00:00, 25.83it/s]\n"
     ]
    },
    {
     "name": "stdout",
     "output_type": "stream",
     "text": [
      "Processed 92th image\n",
      "Processing 93th image\n"
     ]
    },
    {
     "name": "stderr",
     "output_type": "stream",
     "text": [
      "100%|█████████████████████████████████████████| 100/100 [00:03<00:00, 25.79it/s]\n"
     ]
    },
    {
     "name": "stdout",
     "output_type": "stream",
     "text": [
      "Processed 93th image\n",
      "Processing 94th image\n"
     ]
    },
    {
     "name": "stderr",
     "output_type": "stream",
     "text": [
      "100%|█████████████████████████████████████████| 100/100 [00:03<00:00, 26.12it/s]\n"
     ]
    },
    {
     "name": "stdout",
     "output_type": "stream",
     "text": [
      "Processed 94th image\n",
      "Processing 95th image\n"
     ]
    },
    {
     "name": "stderr",
     "output_type": "stream",
     "text": [
      "100%|█████████████████████████████████████████| 100/100 [00:03<00:00, 26.31it/s]\n"
     ]
    },
    {
     "name": "stdout",
     "output_type": "stream",
     "text": [
      "Processed 95th image\n",
      "Processing 96th image\n"
     ]
    },
    {
     "name": "stderr",
     "output_type": "stream",
     "text": [
      "100%|█████████████████████████████████████████| 100/100 [00:03<00:00, 25.69it/s]\n"
     ]
    },
    {
     "name": "stdout",
     "output_type": "stream",
     "text": [
      "Processed 96th image\n",
      "Processing 97th image\n"
     ]
    },
    {
     "name": "stderr",
     "output_type": "stream",
     "text": [
      "100%|█████████████████████████████████████████| 100/100 [00:03<00:00, 25.81it/s]\n"
     ]
    },
    {
     "name": "stdout",
     "output_type": "stream",
     "text": [
      "Processed 97th image\n",
      "Processing 98th image\n"
     ]
    },
    {
     "name": "stderr",
     "output_type": "stream",
     "text": [
      "100%|█████████████████████████████████████████| 100/100 [00:03<00:00, 25.97it/s]\n"
     ]
    },
    {
     "name": "stdout",
     "output_type": "stream",
     "text": [
      "Processed 98th image\n",
      "Processing 99th image\n"
     ]
    },
    {
     "name": "stderr",
     "output_type": "stream",
     "text": [
      "100%|█████████████████████████████████████████| 100/100 [00:04<00:00, 23.67it/s]\n"
     ]
    },
    {
     "name": "stdout",
     "output_type": "stream",
     "text": [
      "Processed 99th image\n",
      "Processing 100th image\n"
     ]
    },
    {
     "name": "stderr",
     "output_type": "stream",
     "text": [
      "100%|█████████████████████████████████████████| 100/100 [00:03<00:00, 25.28it/s]\n"
     ]
    },
    {
     "name": "stdout",
     "output_type": "stream",
     "text": [
      "Processed 100th image\n"
     ]
    }
   ],
   "source": [
    "for i in range(len(input_images)):\n",
    "    print(f'Processing {i+1}th image')\n",
    "    out = pipe(prompt=instructions[i], image=input_images[i]).images[0]\n",
    "\n",
    "    with open(f'{path[i]}/instruction.txt', 'w') as f:\n",
    "        f.write(instructions[i])\n",
    "    input_images[i].save(f'{path[i]}/input.png')\n",
    "    out.save(f'{path[i]}/output.png')\n",
    "    output_images[i].save(f'{path[i]}/groundtruth.png')\n",
    "\n",
    "    torch.cuda.empty_cache()\n",
    "    print(f\"Processed {i+1}th image\")\n"
   ]
  },
  {
   "cell_type": "code",
   "execution_count": 7,
   "metadata": {},
   "outputs": [
    {
     "name": "stdout",
     "output_type": "stream",
     "text": [
      "updating: scratch/nkusumba/test/aux_outputs/ (stored 0%)\n",
      "updating: scratch/nkusumba/test/aux_outputs/50/ (stored 0%)\n",
      "updating: scratch/nkusumba/test/aux_outputs/50/groundtruth.png (deflated 0%)\n",
      "updating: scratch/nkusumba/test/aux_outputs/50/input_image.png (deflated 0%)\n",
      "updating: scratch/nkusumba/test/aux_outputs/50/output_image.png (deflated 0%)\n",
      "updating: scratch/nkusumba/test/aux_outputs/50/instruction.txt (stored 0%)\n",
      "updating: scratch/nkusumba/test/aux_outputs/16/ (stored 0%)\n",
      "updating: scratch/nkusumba/test/aux_outputs/16/groundtruth.png (deflated 0%)\n",
      "updating: scratch/nkusumba/test/aux_outputs/16/output_image.png (deflated 0%)\n",
      "updating: scratch/nkusumba/test/aux_outputs/16/instruction.txt (stored 0%)\n",
      "updating: scratch/nkusumba/test/aux_outputs/16/input_image.png (deflated 0%)\n",
      "updating: scratch/nkusumba/test/aux_outputs/11/ (stored 0%)\n",
      "updating: scratch/nkusumba/test/aux_outputs/11/groundtruth.png (deflated 0%)\n",
      "updating: scratch/nkusumba/test/aux_outputs/11/output_image.png (deflated 0%)\n",
      "updating: scratch/nkusumba/test/aux_outputs/11/instruction.txt (stored 0%)\n",
      "updating: scratch/nkusumba/test/aux_outputs/11/input_image.png (deflated 0%)\n",
      "updating: scratch/nkusumba/test/aux_outputs/42/ (stored 0%)\n",
      "updating: scratch/nkusumba/test/aux_outputs/42/groundtruth.png (deflated 0%)\n",
      "updating: scratch/nkusumba/test/aux_outputs/42/instruction.txt (deflated 6%)\n",
      "updating: scratch/nkusumba/test/aux_outputs/42/input_image.png (deflated 0%)\n",
      "updating: scratch/nkusumba/test/aux_outputs/42/output_image.png (deflated 0%)\n",
      "updating: scratch/nkusumba/test/aux_outputs/74/ (stored 0%)\n",
      "updating: scratch/nkusumba/test/aux_outputs/74/groundtruth.png (deflated 0%)\n",
      "updating: scratch/nkusumba/test/aux_outputs/74/input_image.png (deflated 0%)\n",
      "updating: scratch/nkusumba/test/aux_outputs/74/output_image.png (deflated 0%)\n",
      "updating: scratch/nkusumba/test/aux_outputs/74/instruction.txt (deflated 2%)\n",
      "updating: scratch/nkusumba/test/aux_outputs/34/ (stored 0%)\n",
      "updating: scratch/nkusumba/test/aux_outputs/34/groundtruth.png (deflated 0%)\n",
      "updating: scratch/nkusumba/test/aux_outputs/34/input_image.png (deflated 0%)\n",
      "updating: scratch/nkusumba/test/aux_outputs/34/output_image.png (deflated 0%)\n",
      "updating: scratch/nkusumba/test/aux_outputs/34/instruction.txt (deflated 6%)\n",
      "updating: scratch/nkusumba/test/aux_outputs/3/ (stored 0%)\n",
      "updating: scratch/nkusumba/test/aux_outputs/3/groundtruth.png (deflated 0%)\n",
      "updating: scratch/nkusumba/test/aux_outputs/3/instruction.txt (stored 0%)\n",
      "updating: scratch/nkusumba/test/aux_outputs/3/input_image.png (deflated 0%)\n",
      "updating: scratch/nkusumba/test/aux_outputs/3/output_image.png (deflated 0%)\n",
      "updating: scratch/nkusumba/test/aux_outputs/51/ (stored 0%)\n",
      "updating: scratch/nkusumba/test/aux_outputs/51/groundtruth.png (deflated 0%)\n",
      "updating: scratch/nkusumba/test/aux_outputs/51/instruction.txt (stored 0%)\n",
      "updating: scratch/nkusumba/test/aux_outputs/51/input_image.png (deflated 0%)\n",
      "updating: scratch/nkusumba/test/aux_outputs/51/output_image.png (deflated 0%)\n",
      "updating: scratch/nkusumba/test/aux_outputs/22/ (stored 0%)\n",
      "updating: scratch/nkusumba/test/aux_outputs/22/groundtruth.png (deflated 0%)\n",
      "updating: scratch/nkusumba/test/aux_outputs/22/input_image.png (deflated 0%)\n",
      "updating: scratch/nkusumba/test/aux_outputs/22/output_image.png (deflated 0%)\n",
      "updating: scratch/nkusumba/test/aux_outputs/22/instruction.txt (stored 0%)\n",
      "updating: scratch/nkusumba/test/aux_outputs/14/ (stored 0%)\n",
      "updating: scratch/nkusumba/test/aux_outputs/14/input_image.png (deflated 0%)\n",
      "updating: scratch/nkusumba/test/aux_outputs/14/output_image.png (deflated 0%)\n",
      "updating: scratch/nkusumba/test/aux_outputs/14/groundtruth.png (deflated 0%)\n",
      "updating: scratch/nkusumba/test/aux_outputs/14/instruction.txt (deflated 7%)\n",
      "updating: scratch/nkusumba/test/aux_outputs/15/ (stored 0%)\n",
      "updating: scratch/nkusumba/test/aux_outputs/15/output_image.png (deflated 0%)\n",
      "updating: scratch/nkusumba/test/aux_outputs/15/input_image.png (deflated 0%)\n",
      "updating: scratch/nkusumba/test/aux_outputs/15/groundtruth.png (deflated 0%)\n",
      "updating: scratch/nkusumba/test/aux_outputs/15/instruction.txt (stored 0%)\n",
      "updating: scratch/nkusumba/test/aux_outputs/35/ (stored 0%)\n",
      "updating: scratch/nkusumba/test/aux_outputs/35/output_image.png (deflated 97%)\n",
      "updating: scratch/nkusumba/test/aux_outputs/35/input_image.png (deflated 0%)\n",
      "updating: scratch/nkusumba/test/aux_outputs/35/groundtruth.png (deflated 0%)\n",
      "updating: scratch/nkusumba/test/aux_outputs/35/instruction.txt (stored 0%)\n",
      "updating: scratch/nkusumba/test/aux_outputs/65/ (stored 0%)\n",
      "updating: scratch/nkusumba/test/aux_outputs/65/input_image.png (deflated 0%)\n",
      "updating: scratch/nkusumba/test/aux_outputs/65/output_image.png (deflated 0%)\n",
      "updating: scratch/nkusumba/test/aux_outputs/65/groundtruth.png (deflated 0%)\n",
      "updating: scratch/nkusumba/test/aux_outputs/65/instruction.txt (stored 0%)\n",
      "updating: scratch/nkusumba/test/aux_outputs/40/ (stored 0%)\n",
      "updating: scratch/nkusumba/test/aux_outputs/40/groundtruth.png (deflated 0%)\n",
      "updating: scratch/nkusumba/test/aux_outputs/40/instruction.txt (deflated 8%)\n",
      "updating: scratch/nkusumba/test/aux_outputs/40/input_image.png (deflated 0%)\n",
      "updating: scratch/nkusumba/test/aux_outputs/40/output_image.png (deflated 0%)\n",
      "updating: scratch/nkusumba/test/aux_outputs/68/ (stored 0%)\n",
      "updating: scratch/nkusumba/test/aux_outputs/68/groundtruth.png (deflated 0%)\n",
      "updating: scratch/nkusumba/test/aux_outputs/68/output_image.png (deflated 0%)\n",
      "updating: scratch/nkusumba/test/aux_outputs/68/instruction.txt (deflated 3%)\n",
      "updating: scratch/nkusumba/test/aux_outputs/68/input_image.png (deflated 0%)\n",
      "updating: scratch/nkusumba/test/aux_outputs/28/ (stored 0%)\n",
      "updating: scratch/nkusumba/test/aux_outputs/28/input_image.png (deflated 0%)\n",
      "updating: scratch/nkusumba/test/aux_outputs/28/output_image.png (deflated 97%)\n",
      "updating: scratch/nkusumba/test/aux_outputs/28/groundtruth.png (deflated 0%)\n",
      "updating: scratch/nkusumba/test/aux_outputs/28/instruction.txt (stored 0%)\n",
      "updating: scratch/nkusumba/test/aux_outputs/55/ (stored 0%)\n",
      "updating: scratch/nkusumba/test/aux_outputs/55/groundtruth.png (deflated 0%)\n",
      "updating: scratch/nkusumba/test/aux_outputs/55/input_image.png (deflated 0%)\n",
      "updating: scratch/nkusumba/test/aux_outputs/55/output_image.png (deflated 0%)\n",
      "updating: scratch/nkusumba/test/aux_outputs/55/instruction.txt (stored 0%)\n",
      "updating: scratch/nkusumba/test/aux_outputs/41/ (stored 0%)\n",
      "updating: scratch/nkusumba/test/aux_outputs/41/groundtruth.png (deflated 0%)\n",
      "updating: scratch/nkusumba/test/aux_outputs/41/instruction.txt (stored 0%)\n",
      "updating: scratch/nkusumba/test/aux_outputs/41/input_image.png (deflated 0%)\n",
      "updating: scratch/nkusumba/test/aux_outputs/41/output_image.png (deflated 0%)\n",
      "updating: scratch/nkusumba/test/aux_outputs/25/ (stored 0%)\n",
      "updating: scratch/nkusumba/test/aux_outputs/25/groundtruth.png (deflated 0%)\n",
      "updating: scratch/nkusumba/test/aux_outputs/25/input_image.png (deflated 0%)\n",
      "updating: scratch/nkusumba/test/aux_outputs/25/output_image.png (deflated 0%)\n",
      "updating: scratch/nkusumba/test/aux_outputs/25/instruction.txt (deflated 7%)\n",
      "updating: scratch/nkusumba/test/aux_outputs/2/ (stored 0%)\n",
      "updating: scratch/nkusumba/test/aux_outputs/2/groundtruth.png (deflated 0%)\n",
      "updating: scratch/nkusumba/test/aux_outputs/2/input_image.png (deflated 0%)\n",
      "updating: scratch/nkusumba/test/aux_outputs/2/output_image.png (deflated 0%)\n",
      "updating: scratch/nkusumba/test/aux_outputs/2/instruction.txt (stored 0%)\n",
      "updating: scratch/nkusumba/test/aux_outputs/52/ (stored 0%)\n",
      "updating: scratch/nkusumba/test/aux_outputs/52/groundtruth.png (deflated 0%)\n",
      "updating: scratch/nkusumba/test/aux_outputs/52/instruction.txt (deflated 6%)\n",
      "updating: scratch/nkusumba/test/aux_outputs/52/input_image.png (deflated 0%)\n",
      "updating: scratch/nkusumba/test/aux_outputs/52/output_image.png (deflated 0%)\n",
      "updating: scratch/nkusumba/test/aux_outputs/61/ (stored 0%)\n",
      "updating: scratch/nkusumba/test/aux_outputs/61/input_image.png (deflated 0%)\n",
      "updating: scratch/nkusumba/test/aux_outputs/61/output_image.png (deflated 0%)\n",
      "updating: scratch/nkusumba/test/aux_outputs/61/groundtruth.png (deflated 0%)\n",
      "updating: scratch/nkusumba/test/aux_outputs/61/instruction.txt (stored 0%)\n",
      "updating: scratch/nkusumba/test/aux_outputs/47/ (stored 0%)\n",
      "updating: scratch/nkusumba/test/aux_outputs/47/output_image.png (deflated 0%)\n",
      "updating: scratch/nkusumba/test/aux_outputs/47/input_image.png (deflated 0%)\n",
      "updating: scratch/nkusumba/test/aux_outputs/47/groundtruth.png (deflated 0%)\n",
      "updating: scratch/nkusumba/test/aux_outputs/47/instruction.txt (stored 0%)\n",
      "updating: scratch/nkusumba/test/aux_outputs/59/ (stored 0%)\n",
      "updating: scratch/nkusumba/test/aux_outputs/59/groundtruth.png (deflated 0%)\n",
      "updating: scratch/nkusumba/test/aux_outputs/59/input_image.png (deflated 0%)\n",
      "updating: scratch/nkusumba/test/aux_outputs/59/output_image.png (deflated 0%)\n",
      "updating: scratch/nkusumba/test/aux_outputs/59/instruction.txt (stored 0%)\n",
      "updating: scratch/nkusumba/test/aux_outputs/69/ (stored 0%)\n",
      "updating: scratch/nkusumba/test/aux_outputs/69/groundtruth.png (deflated 0%)\n",
      "updating: scratch/nkusumba/test/aux_outputs/69/output_image.png (deflated 0%)\n",
      "updating: scratch/nkusumba/test/aux_outputs/69/instruction.txt (stored 0%)\n",
      "updating: scratch/nkusumba/test/aux_outputs/69/input_image.png (deflated 0%)\n",
      "updating: scratch/nkusumba/test/aux_outputs/33/ (stored 0%)\n",
      "updating: scratch/nkusumba/test/aux_outputs/33/input_image.png (deflated 0%)\n",
      "updating: scratch/nkusumba/test/aux_outputs/33/output_image.png (deflated 0%)\n",
      "updating: scratch/nkusumba/test/aux_outputs/33/groundtruth.png (deflated 0%)\n",
      "updating: scratch/nkusumba/test/aux_outputs/33/instruction.txt (deflated 4%)\n",
      "updating: scratch/nkusumba/test/aux_outputs/20/ (stored 0%)\n",
      "updating: scratch/nkusumba/test/aux_outputs/20/groundtruth.png (deflated 0%)\n",
      "updating: scratch/nkusumba/test/aux_outputs/20/output_image.png (deflated 0%)\n",
      "updating: scratch/nkusumba/test/aux_outputs/20/instruction.txt (stored 0%)\n",
      "updating: scratch/nkusumba/test/aux_outputs/20/input_image.png (deflated 0%)\n",
      "updating: scratch/nkusumba/test/aux_outputs/23/ (stored 0%)\n",
      "updating: scratch/nkusumba/test/aux_outputs/23/input_image.png (deflated 0%)\n",
      "updating: scratch/nkusumba/test/aux_outputs/23/output_image.png (deflated 0%)\n",
      "updating: scratch/nkusumba/test/aux_outputs/23/groundtruth.png (deflated 0%)\n",
      "updating: scratch/nkusumba/test/aux_outputs/23/instruction.txt (deflated 3%)\n",
      "updating: scratch/nkusumba/test/aux_outputs/9/ (stored 0%)\n",
      "updating: scratch/nkusumba/test/aux_outputs/9/groundtruth.png (deflated 0%)\n",
      "updating: scratch/nkusumba/test/aux_outputs/9/instruction.txt (stored 0%)\n",
      "updating: scratch/nkusumba/test/aux_outputs/9/input_image.png (deflated 0%)\n",
      "updating: scratch/nkusumba/test/aux_outputs/9/output_image.png (deflated 0%)\n",
      "updating: scratch/nkusumba/test/aux_outputs/8/ (stored 0%)\n",
      "updating: scratch/nkusumba/test/aux_outputs/8/groundtruth.png (deflated 0%)\n",
      "updating: scratch/nkusumba/test/aux_outputs/8/instruction.txt (stored 0%)\n",
      "updating: scratch/nkusumba/test/aux_outputs/8/output_image.png (deflated 0%)\n",
      "updating: scratch/nkusumba/test/aux_outputs/8/input_image.png (deflated 0%)\n",
      "updating: scratch/nkusumba/test/aux_outputs/37/ (stored 0%)\n",
      "updating: scratch/nkusumba/test/aux_outputs/37/input_image.png (deflated 0%)\n",
      "updating: scratch/nkusumba/test/aux_outputs/37/output_image.png (deflated 0%)\n",
      "updating: scratch/nkusumba/test/aux_outputs/37/groundtruth.png (deflated 0%)\n",
      "updating: scratch/nkusumba/test/aux_outputs/37/instruction.txt (stored 0%)\n",
      "updating: scratch/nkusumba/test/aux_outputs/1/ (stored 0%)\n",
      "updating: scratch/nkusumba/test/aux_outputs/1/groundtruth.png (deflated 0%)\n",
      "updating: scratch/nkusumba/test/aux_outputs/1/input_image.png (deflated 0%)\n",
      "updating: scratch/nkusumba/test/aux_outputs/1/output_image.png (deflated 0%)\n",
      "updating: scratch/nkusumba/test/aux_outputs/1/instruction.txt (stored 0%)\n",
      "updating: scratch/nkusumba/test/aux_outputs/39/ (stored 0%)\n",
      "updating: scratch/nkusumba/test/aux_outputs/39/input_image.png (deflated 0%)\n",
      "updating: scratch/nkusumba/test/aux_outputs/39/output_image.png (deflated 0%)\n",
      "updating: scratch/nkusumba/test/aux_outputs/39/groundtruth.png (deflated 0%)\n",
      "updating: scratch/nkusumba/test/aux_outputs/39/instruction.txt (deflated 13%)\n",
      "updating: scratch/nkusumba/test/aux_outputs/44/ (stored 0%)\n",
      "updating: scratch/nkusumba/test/aux_outputs/44/groundtruth.png (deflated 0%)\n",
      "updating: scratch/nkusumba/test/aux_outputs/44/input_image.png (deflated 0%)\n",
      "updating: scratch/nkusumba/test/aux_outputs/44/output_image.png (deflated 0%)\n",
      "updating: scratch/nkusumba/test/aux_outputs/44/instruction.txt (stored 0%)\n",
      "updating: scratch/nkusumba/test/aux_outputs/7/ (stored 0%)\n",
      "updating: scratch/nkusumba/test/aux_outputs/7/groundtruth.png (deflated 0%)\n",
      "updating: scratch/nkusumba/test/aux_outputs/7/output_image.png (deflated 0%)\n",
      "updating: scratch/nkusumba/test/aux_outputs/7/instruction.txt (stored 0%)\n",
      "updating: scratch/nkusumba/test/aux_outputs/7/input_image.png (deflated 0%)\n",
      "updating: scratch/nkusumba/test/aux_outputs/64/ (stored 0%)\n",
      "updating: scratch/nkusumba/test/aux_outputs/64/groundtruth.png (deflated 0%)\n",
      "updating: scratch/nkusumba/test/aux_outputs/64/instruction.txt (stored 0%)\n",
      "updating: scratch/nkusumba/test/aux_outputs/64/output_image.png (deflated 0%)\n",
      "updating: scratch/nkusumba/test/aux_outputs/64/input_image.png (deflated 0%)\n",
      "updating: scratch/nkusumba/test/aux_outputs/58/ (stored 0%)\n",
      "updating: scratch/nkusumba/test/aux_outputs/58/groundtruth.png (deflated 0%)\n",
      "updating: scratch/nkusumba/test/aux_outputs/58/output_image.png (deflated 0%)\n",
      "updating: scratch/nkusumba/test/aux_outputs/58/instruction.txt (stored 0%)\n",
      "updating: scratch/nkusumba/test/aux_outputs/58/input_image.png (deflated 0%)\n",
      "updating: scratch/nkusumba/test/aux_outputs/21/ (stored 0%)\n",
      "updating: scratch/nkusumba/test/aux_outputs/21/groundtruth.png (deflated 0%)\n",
      "updating: scratch/nkusumba/test/aux_outputs/21/input_image.png (deflated 0%)\n",
      "updating: scratch/nkusumba/test/aux_outputs/21/output_image.png (deflated 0%)\n",
      "updating: scratch/nkusumba/test/aux_outputs/21/instruction.txt (stored 0%)\n",
      "updating: scratch/nkusumba/test/aux_outputs/30/ (stored 0%)\n",
      "updating: scratch/nkusumba/test/aux_outputs/30/input_image.png (deflated 0%)\n",
      "updating: scratch/nkusumba/test/aux_outputs/30/output_image.png (deflated 0%)\n",
      "updating: scratch/nkusumba/test/aux_outputs/30/groundtruth.png (deflated 0%)\n",
      "updating: scratch/nkusumba/test/aux_outputs/30/instruction.txt (stored 0%)\n",
      "updating: scratch/nkusumba/test/aux_outputs/17/ (stored 0%)\n",
      "updating: scratch/nkusumba/test/aux_outputs/17/groundtruth.png (deflated 0%)\n",
      "updating: scratch/nkusumba/test/aux_outputs/17/instruction.txt (stored 0%)\n",
      "updating: scratch/nkusumba/test/aux_outputs/17/output_image.png (deflated 0%)\n",
      "updating: scratch/nkusumba/test/aux_outputs/17/input_image.png (deflated 0%)\n",
      "updating: scratch/nkusumba/test/aux_outputs/38/ (stored 0%)\n",
      "updating: scratch/nkusumba/test/aux_outputs/38/output_image.png (deflated 97%)\n",
      "updating: scratch/nkusumba/test/aux_outputs/38/input_image.png (deflated 0%)\n",
      "updating: scratch/nkusumba/test/aux_outputs/38/groundtruth.png (deflated 0%)\n",
      "updating: scratch/nkusumba/test/aux_outputs/38/instruction.txt (stored 0%)\n",
      "updating: scratch/nkusumba/test/aux_outputs/36/ (stored 0%)\n",
      "updating: scratch/nkusumba/test/aux_outputs/36/groundtruth.png (deflated 0%)\n",
      "updating: scratch/nkusumba/test/aux_outputs/36/input_image.png (deflated 0%)\n",
      "updating: scratch/nkusumba/test/aux_outputs/36/output_image.png (deflated 0%)\n",
      "updating: scratch/nkusumba/test/aux_outputs/36/instruction.txt (stored 0%)\n",
      "updating: scratch/nkusumba/test/aux_outputs/62/ (stored 0%)\n",
      "updating: scratch/nkusumba/test/aux_outputs/62/output_image.png (deflated 0%)\n",
      "updating: scratch/nkusumba/test/aux_outputs/62/input_image.png (deflated 0%)\n",
      "updating: scratch/nkusumba/test/aux_outputs/62/groundtruth.png (deflated 0%)\n",
      "updating: scratch/nkusumba/test/aux_outputs/62/instruction.txt (deflated 10%)\n",
      "updating: scratch/nkusumba/test/aux_outputs/5/ (stored 0%)\n",
      "updating: scratch/nkusumba/test/aux_outputs/5/output_image.png (deflated 0%)\n",
      "updating: scratch/nkusumba/test/aux_outputs/5/input_image.png (deflated 0%)\n",
      "updating: scratch/nkusumba/test/aux_outputs/5/groundtruth.png (deflated 0%)\n",
      "updating: scratch/nkusumba/test/aux_outputs/5/instruction.txt (stored 0%)\n",
      "updating: scratch/nkusumba/test/aux_outputs/70/ (stored 0%)\n",
      "updating: scratch/nkusumba/test/aux_outputs/70/groundtruth.png (deflated 0%)\n",
      "updating: scratch/nkusumba/test/aux_outputs/70/instruction.txt (stored 0%)\n",
      "updating: scratch/nkusumba/test/aux_outputs/70/output_image.png (deflated 0%)\n",
      "updating: scratch/nkusumba/test/aux_outputs/70/input_image.png (deflated 0%)\n",
      "updating: scratch/nkusumba/test/aux_outputs/6/ (stored 0%)\n",
      "updating: scratch/nkusumba/test/aux_outputs/6/groundtruth.png (deflated 0%)\n",
      "updating: scratch/nkusumba/test/aux_outputs/6/input_image.png (deflated 0%)\n",
      "updating: scratch/nkusumba/test/aux_outputs/6/output_image.png (deflated 0%)\n",
      "updating: scratch/nkusumba/test/aux_outputs/6/instruction.txt (stored 0%)\n",
      "updating: scratch/nkusumba/test/aux_outputs/49/ (stored 0%)\n",
      "updating: scratch/nkusumba/test/aux_outputs/49/groundtruth.png (deflated 0%)\n",
      "updating: scratch/nkusumba/test/aux_outputs/49/instruction.txt (stored 0%)\n",
      "updating: scratch/nkusumba/test/aux_outputs/49/output_image.png (deflated 0%)\n",
      "updating: scratch/nkusumba/test/aux_outputs/49/input_image.png (deflated 1%)\n",
      "updating: scratch/nkusumba/test/aux_outputs/31/ (stored 0%)\n",
      "updating: scratch/nkusumba/test/aux_outputs/31/groundtruth.png (deflated 0%)\n",
      "updating: scratch/nkusumba/test/aux_outputs/31/input_image.png (deflated 0%)\n",
      "updating: scratch/nkusumba/test/aux_outputs/31/output_image.png (deflated 0%)\n",
      "updating: scratch/nkusumba/test/aux_outputs/31/instruction.txt (stored 0%)\n",
      "updating: scratch/nkusumba/test/aux_outputs/63/ (stored 0%)\n",
      "updating: scratch/nkusumba/test/aux_outputs/63/groundtruth.png (deflated 0%)\n",
      "updating: scratch/nkusumba/test/aux_outputs/63/output_image.png (deflated 0%)\n",
      "updating: scratch/nkusumba/test/aux_outputs/63/instruction.txt (stored 0%)\n",
      "updating: scratch/nkusumba/test/aux_outputs/63/input_image.png (deflated 0%)\n",
      "updating: scratch/nkusumba/test/aux_outputs/43/ (stored 0%)\n",
      "updating: scratch/nkusumba/test/aux_outputs/43/groundtruth.png (deflated 0%)\n",
      "updating: scratch/nkusumba/test/aux_outputs/43/instruction.txt (stored 0%)\n",
      "updating: scratch/nkusumba/test/aux_outputs/43/input_image.png (deflated 0%)\n",
      "updating: scratch/nkusumba/test/aux_outputs/43/output_image.png (deflated 0%)\n",
      "updating: scratch/nkusumba/test/aux_outputs/67/ (stored 0%)\n",
      "updating: scratch/nkusumba/test/aux_outputs/67/input_image.png (deflated 0%)\n",
      "updating: scratch/nkusumba/test/aux_outputs/67/output_image.png (deflated 0%)\n",
      "updating: scratch/nkusumba/test/aux_outputs/67/groundtruth.png (deflated 0%)\n",
      "updating: scratch/nkusumba/test/aux_outputs/67/instruction.txt (stored 0%)\n",
      "updating: scratch/nkusumba/test/aux_outputs/45/ (stored 0%)\n",
      "updating: scratch/nkusumba/test/aux_outputs/45/groundtruth.png (deflated 0%)\n",
      "updating: scratch/nkusumba/test/aux_outputs/45/instruction.txt (deflated 9%)\n",
      "updating: scratch/nkusumba/test/aux_outputs/45/input_image.png (deflated 0%)\n",
      "updating: scratch/nkusumba/test/aux_outputs/45/output_image.png (deflated 0%)\n",
      "updating: scratch/nkusumba/test/aux_outputs/27/ (stored 0%)\n",
      "updating: scratch/nkusumba/test/aux_outputs/27/input_image.png (deflated 0%)\n",
      "updating: scratch/nkusumba/test/aux_outputs/27/output_image.png (deflated 0%)\n",
      "updating: scratch/nkusumba/test/aux_outputs/27/groundtruth.png (deflated 0%)\n",
      "updating: scratch/nkusumba/test/aux_outputs/27/instruction.txt (deflated 3%)\n",
      "updating: scratch/nkusumba/test/aux_outputs/66/ (stored 0%)\n",
      "updating: scratch/nkusumba/test/aux_outputs/66/groundtruth.png (deflated 0%)\n",
      "updating: scratch/nkusumba/test/aux_outputs/66/instruction.txt (stored 0%)\n",
      "updating: scratch/nkusumba/test/aux_outputs/66/input_image.png (deflated 0%)\n",
      "updating: scratch/nkusumba/test/aux_outputs/66/output_image.png (deflated 0%)\n",
      "updating: scratch/nkusumba/test/aux_outputs/73/ (stored 0%)\n",
      "updating: scratch/nkusumba/test/aux_outputs/73/input_image.png (deflated 0%)\n",
      "updating: scratch/nkusumba/test/aux_outputs/73/output_image.png (deflated 0%)\n",
      "updating: scratch/nkusumba/test/aux_outputs/73/groundtruth.png (deflated 0%)\n",
      "updating: scratch/nkusumba/test/aux_outputs/73/instruction.txt (stored 0%)\n",
      "updating: scratch/nkusumba/test/aux_outputs/54/ (stored 0%)\n",
      "updating: scratch/nkusumba/test/aux_outputs/54/groundtruth.png (deflated 0%)\n",
      "updating: scratch/nkusumba/test/aux_outputs/54/instruction.txt (stored 0%)\n",
      "updating: scratch/nkusumba/test/aux_outputs/54/input_image.png (deflated 0%)\n",
      "updating: scratch/nkusumba/test/aux_outputs/54/output_image.png (deflated 0%)\n",
      "updating: scratch/nkusumba/test/aux_outputs/26/ (stored 0%)\n",
      "updating: scratch/nkusumba/test/aux_outputs/26/output_image.png (deflated 0%)\n",
      "updating: scratch/nkusumba/test/aux_outputs/26/input_image.png (deflated 1%)\n",
      "updating: scratch/nkusumba/test/aux_outputs/26/groundtruth.png (deflated 0%)\n",
      "updating: scratch/nkusumba/test/aux_outputs/26/instruction.txt (stored 0%)\n",
      "updating: scratch/nkusumba/test/aux_outputs/48/ (stored 0%)\n",
      "updating: scratch/nkusumba/test/aux_outputs/48/groundtruth.png (deflated 0%)\n",
      "updating: scratch/nkusumba/test/aux_outputs/48/input_image.png (deflated 0%)\n",
      "updating: scratch/nkusumba/test/aux_outputs/48/output_image.png (deflated 0%)\n",
      "updating: scratch/nkusumba/test/aux_outputs/48/instruction.txt (stored 0%)\n",
      "updating: scratch/nkusumba/test/aux_outputs/29/ (stored 0%)\n",
      "updating: scratch/nkusumba/test/aux_outputs/29/groundtruth.png (deflated 0%)\n",
      "updating: scratch/nkusumba/test/aux_outputs/29/input_image.png (deflated 0%)\n",
      "updating: scratch/nkusumba/test/aux_outputs/29/output_image.png (deflated 97%)\n",
      "updating: scratch/nkusumba/test/aux_outputs/29/instruction.txt (deflated 9%)\n",
      "updating: scratch/nkusumba/test/aux_outputs/12/ (stored 0%)\n",
      "updating: scratch/nkusumba/test/aux_outputs/12/groundtruth.png (deflated 0%)\n",
      "updating: scratch/nkusumba/test/aux_outputs/12/instruction.txt (deflated 2%)\n",
      "updating: scratch/nkusumba/test/aux_outputs/12/output_image.png (deflated 0%)\n",
      "updating: scratch/nkusumba/test/aux_outputs/12/input_image.png (deflated 0%)\n",
      "updating: scratch/nkusumba/test/aux_outputs/72/ (stored 0%)\n",
      "updating: scratch/nkusumba/test/aux_outputs/72/groundtruth.png (deflated 0%)\n",
      "updating: scratch/nkusumba/test/aux_outputs/72/instruction.txt (stored 0%)\n",
      "updating: scratch/nkusumba/test/aux_outputs/72/input_image.png (deflated 0%)\n",
      "updating: scratch/nkusumba/test/aux_outputs/72/output_image.png (deflated 0%)\n",
      "updating: scratch/nkusumba/test/aux_outputs/10/ (stored 0%)\n",
      "updating: scratch/nkusumba/test/aux_outputs/10/groundtruth.png (deflated 0%)\n",
      "updating: scratch/nkusumba/test/aux_outputs/10/instruction.txt (stored 0%)\n",
      "updating: scratch/nkusumba/test/aux_outputs/10/output_image.png (deflated 0%)\n",
      "updating: scratch/nkusumba/test/aux_outputs/10/input_image.png (deflated 0%)\n",
      "updating: scratch/nkusumba/test/aux_outputs/60/ (stored 0%)\n",
      "updating: scratch/nkusumba/test/aux_outputs/60/groundtruth.png (deflated 0%)\n",
      "updating: scratch/nkusumba/test/aux_outputs/60/instruction.txt (stored 0%)\n",
      "updating: scratch/nkusumba/test/aux_outputs/60/output_image.png (deflated 0%)\n",
      "updating: scratch/nkusumba/test/aux_outputs/60/input_image.png (deflated 0%)\n",
      "updating: scratch/nkusumba/test/aux_outputs/13/ (stored 0%)\n",
      "updating: scratch/nkusumba/test/aux_outputs/13/groundtruth.png (deflated 0%)\n",
      "updating: scratch/nkusumba/test/aux_outputs/13/output_image.png (deflated 0%)\n",
      "updating: scratch/nkusumba/test/aux_outputs/13/instruction.txt (stored 0%)\n",
      "updating: scratch/nkusumba/test/aux_outputs/13/input_image.png (deflated 0%)\n",
      "updating: scratch/nkusumba/test/aux_outputs/19/ (stored 0%)\n",
      "updating: scratch/nkusumba/test/aux_outputs/19/groundtruth.png (deflated 0%)\n",
      "updating: scratch/nkusumba/test/aux_outputs/19/output_image.png (deflated 0%)\n",
      "updating: scratch/nkusumba/test/aux_outputs/19/instruction.txt (stored 0%)\n",
      "updating: scratch/nkusumba/test/aux_outputs/19/input_image.png (deflated 0%)\n",
      "updating: scratch/nkusumba/test/aux_outputs/75/ (stored 0%)\n",
      "updating: scratch/nkusumba/test/aux_outputs/75/groundtruth.png (deflated 0%)\n",
      "updating: scratch/nkusumba/test/aux_outputs/75/input_image.png (deflated 0%)\n",
      "updating: scratch/nkusumba/test/aux_outputs/75/output_image.png (deflated 0%)\n",
      "updating: scratch/nkusumba/test/aux_outputs/75/instruction.txt (stored 0%)\n",
      "updating: scratch/nkusumba/test/aux_outputs/4/ (stored 0%)\n",
      "updating: scratch/nkusumba/test/aux_outputs/4/groundtruth.png (deflated 0%)\n",
      "updating: scratch/nkusumba/test/aux_outputs/4/instruction.txt (stored 0%)\n",
      "updating: scratch/nkusumba/test/aux_outputs/4/output_image.png (deflated 0%)\n",
      "updating: scratch/nkusumba/test/aux_outputs/4/input_image.png (deflated 0%)\n",
      "updating: scratch/nkusumba/test/aux_outputs/18/ (stored 0%)\n",
      "updating: scratch/nkusumba/test/aux_outputs/18/input_image.png (deflated 0%)\n",
      "updating: scratch/nkusumba/test/aux_outputs/18/output_image.png (deflated 0%)\n",
      "updating: scratch/nkusumba/test/aux_outputs/18/groundtruth.png (deflated 0%)\n",
      "updating: scratch/nkusumba/test/aux_outputs/18/instruction.txt (stored 0%)\n",
      "updating: scratch/nkusumba/test/aux_outputs/56/ (stored 0%)\n",
      "updating: scratch/nkusumba/test/aux_outputs/56/groundtruth.png (deflated 0%)\n",
      "updating: scratch/nkusumba/test/aux_outputs/56/output_image.png (deflated 0%)\n",
      "updating: scratch/nkusumba/test/aux_outputs/56/instruction.txt (stored 0%)\n",
      "updating: scratch/nkusumba/test/aux_outputs/56/input_image.png (deflated 0%)\n",
      "updating: scratch/nkusumba/test/aux_outputs/24/ (stored 0%)\n",
      "updating: scratch/nkusumba/test/aux_outputs/24/groundtruth.png (deflated 0%)\n",
      "updating: scratch/nkusumba/test/aux_outputs/24/input_image.png (deflated 0%)\n",
      "updating: scratch/nkusumba/test/aux_outputs/24/output_image.png (deflated 0%)\n",
      "updating: scratch/nkusumba/test/aux_outputs/24/instruction.txt (stored 0%)\n",
      "updating: scratch/nkusumba/test/aux_outputs/71/ (stored 0%)\n",
      "updating: scratch/nkusumba/test/aux_outputs/71/groundtruth.png (deflated 0%)\n",
      "updating: scratch/nkusumba/test/aux_outputs/71/input_image.png (deflated 0%)\n",
      "updating: scratch/nkusumba/test/aux_outputs/71/output_image.png (deflated 0%)\n",
      "updating: scratch/nkusumba/test/aux_outputs/71/instruction.txt (stored 0%)\n",
      "updating: scratch/nkusumba/test/aux_outputs/46/ (stored 0%)\n",
      "updating: scratch/nkusumba/test/aux_outputs/46/groundtruth.png (deflated 0%)\n",
      "updating: scratch/nkusumba/test/aux_outputs/46/instruction.txt (stored 0%)\n",
      "updating: scratch/nkusumba/test/aux_outputs/46/output_image.png (deflated 0%)\n",
      "updating: scratch/nkusumba/test/aux_outputs/46/input_image.png (deflated 0%)\n",
      "updating: scratch/nkusumba/test/aux_outputs/53/ (stored 0%)\n",
      "updating: scratch/nkusumba/test/aux_outputs/53/input_image.png (deflated 0%)\n",
      "updating: scratch/nkusumba/test/aux_outputs/53/output_image.png (deflated 0%)\n",
      "updating: scratch/nkusumba/test/aux_outputs/53/groundtruth.png (deflated 0%)\n",
      "updating: scratch/nkusumba/test/aux_outputs/53/instruction.txt (stored 0%)\n",
      "updating: scratch/nkusumba/test/aux_outputs/32/ (stored 0%)\n",
      "updating: scratch/nkusumba/test/aux_outputs/32/groundtruth.png (deflated 0%)\n",
      "updating: scratch/nkusumba/test/aux_outputs/32/instruction.txt (deflated 6%)\n",
      "updating: scratch/nkusumba/test/aux_outputs/32/input_image.png (deflated 0%)\n",
      "updating: scratch/nkusumba/test/aux_outputs/32/output_image.png (deflated 0%)\n",
      "updating: scratch/nkusumba/test/aux_outputs/57/ (stored 0%)\n",
      "updating: scratch/nkusumba/test/aux_outputs/57/input_image.png (deflated 0%)\n",
      "updating: scratch/nkusumba/test/aux_outputs/57/output_image.png (deflated 0%)\n",
      "updating: scratch/nkusumba/test/aux_outputs/57/groundtruth.png (deflated 0%)\n",
      "updating: scratch/nkusumba/test/aux_outputs/57/instruction.txt (deflated 3%)\n"
     ]
    }
   ],
   "source": [
    "!zip -r /scratch/nkusumba/test/instructPix2Pix_aux_outputs.zip /scratch/nkusumba/test/aux_outputs"
   ]
  },
  {
   "cell_type": "code",
   "execution_count": 7,
   "metadata": {},
   "outputs": [],
   "source": [
    "torch.cuda.empty_cache()"
   ]
  },
  {
   "cell_type": "code",
   "execution_count": null,
   "metadata": {},
   "outputs": [],
   "source": []
  },
  {
   "cell_type": "code",
   "execution_count": null,
   "metadata": {},
   "outputs": [],
   "source": []
  }
 ],
 "metadata": {
  "kernelspec": {
   "display_name": "nlp-project",
   "language": "python",
   "name": "nlp-project"
  },
  "language_info": {
   "codemirror_mode": {
    "name": "ipython",
    "version": 3
   },
   "file_extension": ".py",
   "mimetype": "text/x-python",
   "name": "python",
   "nbconvert_exporter": "python",
   "pygments_lexer": "ipython3",
   "version": "3.10.13"
  }
 },
 "nbformat": 4,
 "nbformat_minor": 4
}
