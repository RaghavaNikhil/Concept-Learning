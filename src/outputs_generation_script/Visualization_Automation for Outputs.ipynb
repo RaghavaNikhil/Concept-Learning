{
 "cells": [
  {
   "cell_type": "code",
   "execution_count": null,
   "id": "a077224d",
   "metadata": {},
   "outputs": [],
   "source": [
    "import os\n",
    "import matplotlib.pyplot as plt\n",
    "import matplotlib.image as mpimg"
   ]
  },
  {
   "cell_type": "code",
   "execution_count": null,
   "id": "0810b849",
   "metadata": {},
   "outputs": [],
   "source": [
    "def scrape_folder_structure(base_folder):\n",
    "    results = {}\n",
    "    subdirectories = ['instructpix2pix', 'kandisky', 'kandisky_bert', 'diffusion']\n",
    "\n",
    "    for subdirectory in subdirectories:\n",
    "        results[subdirectory] = []\n",
    "        path_to_subdirectory = os.path.join(base_folder, subdirectory)\n",
    "\n",
    "        for i in range(1, 101):\n",
    "            numbered_subdirectory = os.path.join(path_to_subdirectory, str(i))\n",
    "            if os.path.exists(numbered_subdirectory):\n",
    "                file_dict = {\n",
    "                    \"subdirectory\": subdirectory,\n",
    "                    \"numbered_subdirectory\": i,\n",
    "                    \"input_path\": os.path.join(numbered_subdirectory, \"input.png\"),\n",
    "                    \"groundtruth_path\": os.path.join(numbered_subdirectory, \"groundtruth.png\"),\n",
    "                    \"instruction_path\": os.path.join(numbered_subdirectory, \"instruction.txt\")\n",
    "                }\n",
    "                results[subdirectory].append(file_dict)\n",
    "\n",
    "    return results"
   ]
  },
  {
   "cell_type": "code",
   "execution_count": null,
   "id": "a35292c4",
   "metadata": {
    "scrolled": false
   },
   "outputs": [],
   "source": [
    "def display_images(images, titles, subtitles):\n",
    "    # Adjust the figure size\n",
    "    fig_width = 5 * len(images)  # 5 inches per image\n",
    "    fig_height = 8  # Height of the figure\n",
    "\n",
    "    fig, axes = plt.subplots(1, len(images), figsize=(fig_width, fig_height))\n",
    "    fig.suptitle(titles, fontsize=20)  # Increase font size for the title\n",
    "\n",
    "    for ax, (img_path, subtitle) in zip(axes, zip(images, subtitles)):\n",
    "        img = mpimg.imread(img_path)\n",
    "        ax.imshow(img)\n",
    "        ax.set_title(subtitle, fontsize=14)  # Increase font size for subtitles\n",
    "        ax.axis('off')\n",
    "    \n",
    "    plt.show()\n",
    "\n",
    "\n",
    "def main_visualization(base_folder):\n",
    "    scraped_data = scrape_folder_structure(base_folder)\n",
    "    \n",
    "    for i in range(1, 101):\n",
    "        images = []\n",
    "        titles = \"\"\n",
    "        subtitles = []\n",
    "        for subdirectory in scraped_data:\n",
    "            items = scraped_data[subdirectory]\n",
    "            for item in items:\n",
    "                if item['numbered_subdirectory'] == i:\n",
    "                    if not images:\n",
    "                        images.append(item['input_path'])\n",
    "                        subtitles.append('Input')\n",
    "                        images.append(item['groundtruth_path'])\n",
    "                        subtitles.append('Groundtruth')\n",
    "                        with open(item['instruction_path'], 'r') as file:\n",
    "                            titles = file.readline().strip()\n",
    "                    images.append(os.path.join(base_folder, subdirectory, str(i), \"output.png\"))\n",
    "                    subtitles.append(subdirectory)\n",
    "\n",
    "        if images:\n",
    "            display_images(images, titles, subtitles)\n",
    "folder = '../Outputs'\n",
    "main_visualization(folder)\n",
    "\n"
   ]
  },
  {
   "cell_type": "code",
   "execution_count": null,
   "id": "f2925400",
   "metadata": {},
   "outputs": [],
   "source": [
    "import os\n",
    "import shutil\n",
    "\n",
    "def create_visualization_structure(base_folder, new_folder):\n",
    "    scraped_data = scrape_folder_structure(base_folder)\n",
    "\n",
    "    if not os.path.exists(new_folder):\n",
    "        os.makedirs(new_folder)\n",
    "\n",
    "    for i in range(1, 101):\n",
    "        new_subdir_path = os.path.join(new_folder, f\"example_{i}\")\n",
    "        if not os.path.exists(new_subdir_path):\n",
    "            os.makedirs(new_subdir_path)\n",
    "\n",
    "        for subdirectory in scraped_data:\n",
    "            items = scraped_data[subdirectory]\n",
    "            for item in items:\n",
    "                if item['numbered_subdirectory'] == i:\n",
    "                    # Copy input and groundtruth once per subdirectory\n",
    "                    if subdirectory == 'instructpix2pix':\n",
    "                        shutil.copy(item['input_path'], os.path.join(new_subdir_path, \"input.png\"))\n",
    "                        shutil.copy(item['groundtruth_path'], os.path.join(new_subdir_path, \"groundtruth.png\"))\n",
    "\n",
    "                    # Copy output\n",
    "                    output_path = os.path.join(base_folder, subdirectory, str(i), \"output.png\")\n",
    "                    if os.path.exists(output_path):\n",
    "                        shutil.copy(output_path, os.path.join(new_subdir_path, f\"{subdirectory}_output.png\"))\n",
    "\n",
    "folder = '../Outputs'\n",
    "new_folder = '../Outputs_Visualizations'\n",
    "create_visualization_structure(folder, new_folder)\n"
   ]
  },
  {
   "cell_type": "code",
   "execution_count": null,
   "id": "094881d1",
   "metadata": {},
   "outputs": [],
   "source": []
  }
 ],
 "metadata": {
  "kernelspec": {
   "display_name": "Python 3 (ipykernel)",
   "language": "python",
   "name": "python3"
  },
  "language_info": {
   "codemirror_mode": {
    "name": "ipython",
    "version": 3
   },
   "file_extension": ".py",
   "mimetype": "text/x-python",
   "name": "python",
   "nbconvert_exporter": "python",
   "pygments_lexer": "ipython3",
   "version": "3.11.4"
  }
 },
 "nbformat": 4,
 "nbformat_minor": 5
}
