{
 "cells": [
  {
   "cell_type": "code",
   "execution_count": 1,
   "id": "8f3dc52d",
   "metadata": {},
   "outputs": [
    {
     "name": "stdout",
     "output_type": "stream",
     "text": [
      "There are 1 GPU(s) available.\n",
      "We will use the GPU: NVIDIA A100-SXM4-80GB\n"
     ]
    }
   ],
   "source": [
    "import torch\n",
    "\n",
    "# If there's a GPU available...\n",
    "if torch.cuda.is_available():\n",
    "    # Tell PyTorch to use the GPU.\n",
    "    device = torch.device(\"cuda\")\n",
    "\n",
    "    print(\"There are %d GPU(s) available.\" % torch.cuda.device_count())\n",
    "\n",
    "    print(\"We will use the GPU:\", torch.cuda.get_device_name(0))\n",
    "\n",
    "# If not...\n",
    "elif torch.backends.mps.is_available():\n",
    "    device = torch.device(\"mps\")\n",
    "\n",
    "    print(\"Using mps backend\")\n",
    "else:\n",
    "    print(\"No GPU available, using the CPU instead.\")\n",
    "    device = torch.device(\"cpu\")"
   ]
  },
  {
   "cell_type": "code",
   "execution_count": 2,
   "id": "93e58f1e",
   "metadata": {},
   "outputs": [
    {
     "name": "stderr",
     "output_type": "stream",
     "text": [
      "/home/nkusumba/.conda/envs/nlp-project/lib/python3.10/site-packages/tqdm/auto.py:21: TqdmWarning: IProgress not found. Please update jupyter and ipywidgets. See https://ipywidgets.readthedocs.io/en/stable/user_install.html\n",
      "  from .autonotebook import tqdm as notebook_tqdm\n"
     ]
    }
   ],
   "source": [
    "from transformers import AutoTokenizer, AutoProcessor\n",
    "from torch.utils.data import TensorDataset, DataLoader, RandomSampler, SequentialSampler\n",
    "import requests\n",
    "from PIL import Image\n",
    "import numpy as np\n",
    "from io import BytesIO\n",
    "from diffusers import (\n",
    "    KandinskyV22Pipeline,\n",
    "    KandinskyV22PriorEmb2EmbPipeline,\n",
    "    KandinskyV22PriorPipeline,\n",
    ")\n",
    "from diffusers.utils import load_image\n",
    "from torchvision.transforms import ToPILImage"
   ]
  },
  {
   "cell_type": "code",
   "execution_count": 3,
   "id": "190b4ca8",
   "metadata": {},
   "outputs": [
    {
     "name": "stderr",
     "output_type": "stream",
     "text": [
      "Downloading model.safetensors: 100%|█████████| 440M/440M [00:28<00:00, 15.5MB/s]\n",
      "Loading pipeline components...: 100%|█████████████| 3/3 [00:01<00:00,  2.54it/s]\n"
     ]
    },
    {
     "data": {
      "text/plain": [
       "T2IModel(\n",
       "  (text_model): BertModel(\n",
       "    (embeddings): BertEmbeddings(\n",
       "      (word_embeddings): Embedding(30522, 768, padding_idx=0)\n",
       "      (position_embeddings): Embedding(512, 768)\n",
       "      (token_type_embeddings): Embedding(2, 768)\n",
       "      (LayerNorm): LayerNorm((768,), eps=1e-12, elementwise_affine=True)\n",
       "      (dropout): Dropout(p=0.1, inplace=False)\n",
       "    )\n",
       "    (encoder): BertEncoder(\n",
       "      (layer): ModuleList(\n",
       "        (0-11): 12 x BertLayer(\n",
       "          (attention): BertAttention(\n",
       "            (self): BertSelfAttention(\n",
       "              (query): Linear(in_features=768, out_features=768, bias=True)\n",
       "              (key): Linear(in_features=768, out_features=768, bias=True)\n",
       "              (value): Linear(in_features=768, out_features=768, bias=True)\n",
       "              (dropout): Dropout(p=0.1, inplace=False)\n",
       "            )\n",
       "            (output): BertSelfOutput(\n",
       "              (dense): Linear(in_features=768, out_features=768, bias=True)\n",
       "              (LayerNorm): LayerNorm((768,), eps=1e-12, elementwise_affine=True)\n",
       "              (dropout): Dropout(p=0.1, inplace=False)\n",
       "            )\n",
       "          )\n",
       "          (intermediate): BertIntermediate(\n",
       "            (dense): Linear(in_features=768, out_features=3072, bias=True)\n",
       "            (intermediate_act_fn): GELUActivation()\n",
       "          )\n",
       "          (output): BertOutput(\n",
       "            (dense): Linear(in_features=3072, out_features=768, bias=True)\n",
       "            (LayerNorm): LayerNorm((768,), eps=1e-12, elementwise_affine=True)\n",
       "            (dropout): Dropout(p=0.1, inplace=False)\n",
       "          )\n",
       "        )\n",
       "      )\n",
       "    )\n",
       "    (pooler): BertPooler(\n",
       "      (dense): Linear(in_features=768, out_features=768, bias=True)\n",
       "      (activation): Tanh()\n",
       "    )\n",
       "  )\n",
       "  (vision_model): CLIPVisionModelWithProjection(\n",
       "    (vision_model): CLIPVisionTransformer(\n",
       "      (embeddings): CLIPVisionEmbeddings(\n",
       "        (patch_embedding): Conv2d(3, 1664, kernel_size=(14, 14), stride=(14, 14), bias=False)\n",
       "        (position_embedding): Embedding(257, 1664)\n",
       "      )\n",
       "      (pre_layrnorm): LayerNorm((1664,), eps=1e-05, elementwise_affine=True)\n",
       "      (encoder): CLIPEncoder(\n",
       "        (layers): ModuleList(\n",
       "          (0-47): 48 x CLIPEncoderLayer(\n",
       "            (self_attn): CLIPAttention(\n",
       "              (k_proj): Linear(in_features=1664, out_features=1664, bias=True)\n",
       "              (v_proj): Linear(in_features=1664, out_features=1664, bias=True)\n",
       "              (q_proj): Linear(in_features=1664, out_features=1664, bias=True)\n",
       "              (out_proj): Linear(in_features=1664, out_features=1664, bias=True)\n",
       "            )\n",
       "            (layer_norm1): LayerNorm((1664,), eps=1e-05, elementwise_affine=True)\n",
       "            (mlp): CLIPMLP(\n",
       "              (activation_fn): GELUActivation()\n",
       "              (fc1): Linear(in_features=1664, out_features=8192, bias=True)\n",
       "              (fc2): Linear(in_features=8192, out_features=1664, bias=True)\n",
       "            )\n",
       "            (layer_norm2): LayerNorm((1664,), eps=1e-05, elementwise_affine=True)\n",
       "          )\n",
       "        )\n",
       "      )\n",
       "      (post_layernorm): LayerNorm((1664,), eps=1e-05, elementwise_affine=True)\n",
       "    )\n",
       "    (visual_projection): Linear(in_features=1664, out_features=1280, bias=False)\n",
       "  )\n",
       "  (fc): Linear(in_features=2048, out_features=1280, bias=True)\n",
       ")"
      ]
     },
     "execution_count": 3,
     "metadata": {},
     "output_type": "execute_result"
    }
   ],
   "source": [
    "from transformers import CLIPTextModelWithProjection, CLIPVisionModelWithProjection, BertModel\n",
    "import torch.nn as nn\n",
    "from transformers import AdamW\n",
    "import os\n",
    "\n",
    "\n",
    "class T2IModel(nn.Module):\n",
    "    def __init__(self):\n",
    "        super(T2IModel, self).__init__()\n",
    "        self.text_model = BertModel.from_pretrained('bert-base-uncased')\n",
    "        self.vision_model = CLIPVisionModelWithProjection.from_pretrained(\n",
    "            \"kandinsky-community/kandinsky-2-2-prior\", subfolder=\"image_encoder\"\n",
    "        )\n",
    "        # Adjust the input features of the FC layer to the combined size of text and vision outputs\n",
    "        self.fc = nn.Linear(self.text_model.config.hidden_size + self.vision_model.config.projection_dim, 1280)\n",
    "        self.pipe = KandinskyV22Pipeline.from_pretrained(\n",
    "            \"kandinsky-community/kandinsky-2-2-decoder\", torch_dtype=torch.float16\n",
    "        )\n",
    "\n",
    "    def initialize_optimizer(self):\n",
    "        params = (\n",
    "            list(self.fc.parameters())\n",
    "        )\n",
    "        optimizer = AdamW(params, lr=1e-4)\n",
    "        return optimizer\n",
    "\n",
    "    def forward(self, input_imgs, input_txt, attention_mask=None):\n",
    "        text_outputs = self.text_model(input_txt, attention_mask=attention_mask)\n",
    "        text_embeds = text_outputs.last_hidden_state[:, 0, :]  # Use the representation of the [CLS] token\n",
    "\n",
    "        vision_outputs = self.vision_model(input_imgs)\n",
    "        vision_embeds = vision_outputs.image_embeds\n",
    "\n",
    "        combined_embeds = torch.cat((vision_embeds, text_embeds), dim=1)\n",
    "        x = self.fc(combined_embeds)\n",
    "        return x\n",
    "\n",
    "    def output_embedding(self, target_images):\n",
    "        target_image_output = self.vision_model(target_images)\n",
    "        target_image_embeds = target_image_output.image_embeds\n",
    "        return target_image_embeds\n",
    "\n",
    "    def custom_loss(self, output_embeddings, target_embeddings):\n",
    "        mse_loss = nn.MSELoss()\n",
    "        loss = mse_loss(output_embeddings, target_embeddings)\n",
    "\n",
    "        return loss\n",
    "\n",
    "    def save_model(self, output_dir=\"../model_save/\", filename=\"model_checkpoint.pt\"):\n",
    "        if not os.path.exists(output_dir):\n",
    "            os.makedirs(output_dir)\n",
    "        file_path = output_dir + filename\n",
    "        print(\"Saving model to %s\" % file_path)\n",
    "\n",
    "        torch.save(model.state_dict(), file_path)\n",
    "\n",
    "    def get_cos(self, input1, input2):\n",
    "        cos = torch.nn.CosineSimilarity(dim=1, eps=1e-6)\n",
    "        similarity = cos(input1, input2)\n",
    "        avg = torch.sum(similarity) / len(similarity)\n",
    "        return avg\n",
    "\n",
    "    def metrics(self, input1, input2):\n",
    "        cos = self.get_cos(input1, input2)\n",
    "        return [cos]\n",
    "\n",
    "    def visualization(self, input_img, instruction, instruction_attention_mask, filename, negative_instruction=None, negative_instruction_attention_mask=None):\n",
    "        # Generate output embeddings with the provided attention mask\n",
    "        output_embeddings = self.forward(input_img, instruction, attention_mask=instruction_attention_mask)\n",
    "\n",
    "        # Handle the negative instruction if provided\n",
    "        neg_image_embed = None\n",
    "        if negative_instruction is not None and negative_instruction_attention_mask is not None:\n",
    "            neg_image_embed = self.forward(input_img, negative_instruction, attention_mask=negative_instruction_attention_mask)\n",
    "        else:\n",
    "            # If no negative instruction is provided, we'll use a tensor of zeros as a placeholder\n",
    "            neg_image_embed = torch.zeros_like(output_embeddings)\n",
    "\n",
    "        # Initialize the pipeline for the Kandinsky V2.2 decoder\n",
    "        \n",
    "        self.pipe.to(device)  # Make sure 'self.device' is defined in your model class\n",
    "\n",
    "        # Generate the image using the pipeline\n",
    "        image = self.pipe(\n",
    "            image_embeds=output_embeddings,\n",
    "            negative_image_embeds=neg_image_embed,\n",
    "            height=768,\n",
    "            width=768,\n",
    "            num_inference_steps=100,\n",
    "        ).images\n",
    "\n",
    "        # Save the generated image\n",
    "        image[0].save(filename)\n",
    "\n",
    "model = T2IModel()\n",
    "model.to(device=device)"
   ]
  },
  {
   "cell_type": "code",
   "execution_count": 4,
   "id": "f026c5b9",
   "metadata": {},
   "outputs": [],
   "source": [
    "import torch\n",
    "\n",
    "def load_model_from_checkpoint(model, checkpoint_path, device='cuda'):\n",
    "    \"\"\"\n",
    "    Load a PyTorch model from a saved checkpoint.\n",
    "    \n",
    "    Parameters:\n",
    "    - model (torch.nn.Module): The model architecture (untrained).\n",
    "    - checkpoint_path (str): Path to the saved model checkpoint (.pth file).\n",
    "    - device (str): Device to which the model should be loaded ('cuda' or 'cpu').\n",
    "\n",
    "    Returns:\n",
    "    - model (torch.nn.Module): Model populated with the loaded weights.\n",
    "    \"\"\"\n",
    "\n",
    "    # Load the model state dictionary from the specified path\n",
    "    state_dict = torch.load(checkpoint_path, map_location=device)\n",
    "    \n",
    "    # Load the state dictionary into the model\n",
    "    model.load_state_dict(state_dict)\n",
    "    \n",
    "    # Move the model to the desired device\n",
    "    model.to(device)\n",
    "    \n",
    "    return model\n",
    "\n",
    "# Usage\n",
    "loaded_model = load_model_from_checkpoint(model, '/scratch/nkusumba/magicbrush_kadinsky_bert_imagewithinstruction_10epochs_full_v1.pth', device='cuda')\n"
   ]
  },
  {
   "cell_type": "code",
   "execution_count": 5,
   "id": "e0e3d7dd",
   "metadata": {},
   "outputs": [],
   "source": [
    "def compute_max_instruction_length(dataloader, tokenizer):\n",
    "    \"\"\"\n",
    "    Compute the maximum instruction length from the dataloader batches.\n",
    "\n",
    "    Args:\n",
    "    - dataloader (DataLoader): DataLoader containing your data.\n",
    "    - tokenizer: Tokenizer used to tokenize the instructions.\n",
    "\n",
    "    Returns:\n",
    "    - int: Maximum instruction length.\n",
    "    \"\"\"\n",
    "    max_len = 0\n",
    "    \n",
    "    for batch in dataloader:\n",
    "        instructions = batch[1]  # Assuming instructions are in position 1 in your batch\n",
    "        for instruction in instructions:\n",
    "            decoded_string = tokenizer.decode(instruction)\n",
    "            tokens = tokenizer.tokenize(decoded_string)\n",
    "            length = len(tokens)\n",
    "            if length > max_len:\n",
    "                max_len = length\n",
    "                \n",
    "    return max_len\n",
    "\n",
    "def custom_encode(instruction, tokenizer):\n",
    "    encoded_inst = tokenizer.encode_plus(\n",
    "    instruction,  # Sentence to encode.\n",
    "    add_special_tokens=True,  # Add '[CLS]' and '[SEP]'\n",
    "    return_tensors=\"pt\",  # Return pytorch tensors\n",
    "    )\n",
    "    \n",
    "    return encoded_inst[\"input_ids\"]\n",
    "    "
   ]
  },
  {
   "cell_type": "code",
   "execution_count": 7,
   "id": "172d7c2d",
   "metadata": {},
   "outputs": [
    {
     "name": "stderr",
     "output_type": "stream",
     "text": [
      "Downloading tokenizer_config.json: 100%|██████| 28.0/28.0 [00:00<00:00, 252kB/s]\n",
      "Downloading vocab.txt: 100%|█████████████████| 232k/232k [00:00<00:00, 7.89MB/s]\n",
      "Downloading tokenizer.json: 100%|████████████| 466k/466k [00:00<00:00, 26.7MB/s]\n"
     ]
    },
    {
     "name": "stdout",
     "output_type": "stream",
     "text": [
      "Started Evaluation\n",
      "Processing 1th image\n"
     ]
    },
    {
     "name": "stderr",
     "output_type": "stream",
     "text": [
      "100%|█████████████████████████████████████████| 100/100 [00:05<00:00, 19.74it/s]\n"
     ]
    },
    {
     "name": "stdout",
     "output_type": "stream",
     "text": [
      "Finished processing 1th image\n",
      "Processing 2th image\n"
     ]
    },
    {
     "name": "stderr",
     "output_type": "stream",
     "text": [
      "100%|█████████████████████████████████████████| 100/100 [00:05<00:00, 19.67it/s]\n"
     ]
    },
    {
     "name": "stdout",
     "output_type": "stream",
     "text": [
      "Finished processing 2th image\n",
      "Processing 3th image\n"
     ]
    },
    {
     "name": "stderr",
     "output_type": "stream",
     "text": [
      "100%|█████████████████████████████████████████| 100/100 [00:05<00:00, 19.44it/s]\n"
     ]
    },
    {
     "name": "stdout",
     "output_type": "stream",
     "text": [
      "Finished processing 3th image\n",
      "Processing 4th image\n"
     ]
    },
    {
     "name": "stderr",
     "output_type": "stream",
     "text": [
      "100%|█████████████████████████████████████████| 100/100 [00:05<00:00, 19.52it/s]\n"
     ]
    },
    {
     "name": "stdout",
     "output_type": "stream",
     "text": [
      "Finished processing 4th image\n",
      "Processing 5th image\n"
     ]
    },
    {
     "name": "stderr",
     "output_type": "stream",
     "text": [
      "100%|█████████████████████████████████████████| 100/100 [00:05<00:00, 19.15it/s]\n"
     ]
    },
    {
     "name": "stdout",
     "output_type": "stream",
     "text": [
      "Finished processing 5th image\n",
      "Processing 6th image\n"
     ]
    },
    {
     "name": "stderr",
     "output_type": "stream",
     "text": [
      "100%|█████████████████████████████████████████| 100/100 [00:05<00:00, 19.38it/s]\n"
     ]
    },
    {
     "name": "stdout",
     "output_type": "stream",
     "text": [
      "Finished processing 6th image\n",
      "Processing 7th image\n"
     ]
    },
    {
     "name": "stderr",
     "output_type": "stream",
     "text": [
      "100%|█████████████████████████████████████████| 100/100 [00:05<00:00, 18.78it/s]\n"
     ]
    },
    {
     "name": "stdout",
     "output_type": "stream",
     "text": [
      "Finished processing 7th image\n",
      "Processing 8th image\n"
     ]
    },
    {
     "name": "stderr",
     "output_type": "stream",
     "text": [
      "100%|█████████████████████████████████████████| 100/100 [00:05<00:00, 19.09it/s]\n"
     ]
    },
    {
     "name": "stdout",
     "output_type": "stream",
     "text": [
      "Finished processing 8th image\n",
      "Processing 9th image\n"
     ]
    },
    {
     "name": "stderr",
     "output_type": "stream",
     "text": [
      "100%|█████████████████████████████████████████| 100/100 [00:05<00:00, 19.83it/s]\n"
     ]
    },
    {
     "name": "stdout",
     "output_type": "stream",
     "text": [
      "Finished processing 9th image\n",
      "Processing 10th image\n"
     ]
    },
    {
     "name": "stderr",
     "output_type": "stream",
     "text": [
      "100%|█████████████████████████████████████████| 100/100 [00:05<00:00, 19.93it/s]\n"
     ]
    },
    {
     "name": "stdout",
     "output_type": "stream",
     "text": [
      "Finished processing 10th image\n",
      "Processing 11th image\n"
     ]
    },
    {
     "name": "stderr",
     "output_type": "stream",
     "text": [
      "100%|█████████████████████████████████████████| 100/100 [00:05<00:00, 18.86it/s]\n"
     ]
    },
    {
     "name": "stdout",
     "output_type": "stream",
     "text": [
      "Finished processing 11th image\n",
      "Processing 12th image\n"
     ]
    },
    {
     "name": "stderr",
     "output_type": "stream",
     "text": [
      "100%|█████████████████████████████████████████| 100/100 [00:05<00:00, 18.39it/s]\n"
     ]
    },
    {
     "name": "stdout",
     "output_type": "stream",
     "text": [
      "Finished processing 12th image\n",
      "Processing 13th image\n"
     ]
    },
    {
     "name": "stderr",
     "output_type": "stream",
     "text": [
      "100%|█████████████████████████████████████████| 100/100 [00:05<00:00, 19.73it/s]\n"
     ]
    },
    {
     "name": "stdout",
     "output_type": "stream",
     "text": [
      "Finished processing 13th image\n",
      "Processing 14th image\n"
     ]
    },
    {
     "name": "stderr",
     "output_type": "stream",
     "text": [
      "100%|█████████████████████████████████████████| 100/100 [00:05<00:00, 19.89it/s]\n"
     ]
    },
    {
     "name": "stdout",
     "output_type": "stream",
     "text": [
      "Finished processing 14th image\n",
      "Processing 15th image\n"
     ]
    },
    {
     "name": "stderr",
     "output_type": "stream",
     "text": [
      "100%|█████████████████████████████████████████| 100/100 [00:04<00:00, 20.07it/s]\n"
     ]
    },
    {
     "name": "stdout",
     "output_type": "stream",
     "text": [
      "Finished processing 15th image\n",
      "Processing 16th image\n"
     ]
    },
    {
     "name": "stderr",
     "output_type": "stream",
     "text": [
      "100%|█████████████████████████████████████████| 100/100 [00:05<00:00, 19.95it/s]\n"
     ]
    },
    {
     "name": "stdout",
     "output_type": "stream",
     "text": [
      "Finished processing 16th image\n",
      "Processing 17th image\n"
     ]
    },
    {
     "name": "stderr",
     "output_type": "stream",
     "text": [
      "100%|█████████████████████████████████████████| 100/100 [00:05<00:00, 19.32it/s]\n"
     ]
    },
    {
     "name": "stdout",
     "output_type": "stream",
     "text": [
      "Finished processing 17th image\n",
      "Processing 18th image\n"
     ]
    },
    {
     "name": "stderr",
     "output_type": "stream",
     "text": [
      "100%|█████████████████████████████████████████| 100/100 [00:04<00:00, 20.05it/s]\n"
     ]
    },
    {
     "name": "stdout",
     "output_type": "stream",
     "text": [
      "Finished processing 18th image\n",
      "Processing 19th image\n"
     ]
    },
    {
     "name": "stderr",
     "output_type": "stream",
     "text": [
      "100%|█████████████████████████████████████████| 100/100 [00:05<00:00, 19.92it/s]\n"
     ]
    },
    {
     "name": "stdout",
     "output_type": "stream",
     "text": [
      "Finished processing 19th image\n",
      "Processing 20th image\n"
     ]
    },
    {
     "name": "stderr",
     "output_type": "stream",
     "text": [
      "100%|█████████████████████████████████████████| 100/100 [00:05<00:00, 16.98it/s]\n"
     ]
    },
    {
     "name": "stdout",
     "output_type": "stream",
     "text": [
      "Finished processing 20th image\n",
      "Processing 21th image\n"
     ]
    },
    {
     "name": "stderr",
     "output_type": "stream",
     "text": [
      "100%|█████████████████████████████████████████| 100/100 [00:04<00:00, 20.08it/s]\n"
     ]
    },
    {
     "name": "stdout",
     "output_type": "stream",
     "text": [
      "Finished processing 21th image\n",
      "Processing 22th image\n"
     ]
    },
    {
     "name": "stderr",
     "output_type": "stream",
     "text": [
      "100%|█████████████████████████████████████████| 100/100 [00:05<00:00, 20.00it/s]\n"
     ]
    },
    {
     "name": "stdout",
     "output_type": "stream",
     "text": [
      "Finished processing 22th image\n",
      "Processing 23th image\n"
     ]
    },
    {
     "name": "stderr",
     "output_type": "stream",
     "text": [
      "100%|█████████████████████████████████████████| 100/100 [00:04<00:00, 20.17it/s]\n"
     ]
    },
    {
     "name": "stdout",
     "output_type": "stream",
     "text": [
      "Finished processing 23th image\n",
      "Processing 24th image\n"
     ]
    },
    {
     "name": "stderr",
     "output_type": "stream",
     "text": [
      "100%|█████████████████████████████████████████| 100/100 [00:04<00:00, 20.07it/s]\n"
     ]
    },
    {
     "name": "stdout",
     "output_type": "stream",
     "text": [
      "Finished processing 24th image\n",
      "Processing 25th image\n"
     ]
    },
    {
     "name": "stderr",
     "output_type": "stream",
     "text": [
      "100%|█████████████████████████████████████████| 100/100 [00:04<00:00, 20.51it/s]\n"
     ]
    },
    {
     "name": "stdout",
     "output_type": "stream",
     "text": [
      "Finished processing 25th image\n",
      "Processing 26th image\n"
     ]
    },
    {
     "name": "stderr",
     "output_type": "stream",
     "text": [
      "100%|█████████████████████████████████████████| 100/100 [00:04<00:00, 20.54it/s]\n"
     ]
    },
    {
     "name": "stdout",
     "output_type": "stream",
     "text": [
      "Finished processing 26th image\n",
      "Processing 27th image\n"
     ]
    },
    {
     "name": "stderr",
     "output_type": "stream",
     "text": [
      "100%|█████████████████████████████████████████| 100/100 [00:04<00:00, 20.44it/s]\n"
     ]
    },
    {
     "name": "stdout",
     "output_type": "stream",
     "text": [
      "Finished processing 27th image\n",
      "Processing 28th image\n"
     ]
    },
    {
     "name": "stderr",
     "output_type": "stream",
     "text": [
      "100%|█████████████████████████████████████████| 100/100 [00:04<00:00, 20.51it/s]\n"
     ]
    },
    {
     "name": "stdout",
     "output_type": "stream",
     "text": [
      "Finished processing 28th image\n",
      "Processing 29th image\n"
     ]
    },
    {
     "name": "stderr",
     "output_type": "stream",
     "text": [
      "100%|█████████████████████████████████████████| 100/100 [00:04<00:00, 20.56it/s]\n"
     ]
    },
    {
     "name": "stdout",
     "output_type": "stream",
     "text": [
      "Finished processing 29th image\n",
      "Processing 30th image\n"
     ]
    },
    {
     "name": "stderr",
     "output_type": "stream",
     "text": [
      "100%|█████████████████████████████████████████| 100/100 [00:04<00:00, 20.57it/s]\n"
     ]
    },
    {
     "name": "stdout",
     "output_type": "stream",
     "text": [
      "Finished processing 30th image\n",
      "Processing 31th image\n"
     ]
    },
    {
     "name": "stderr",
     "output_type": "stream",
     "text": [
      "100%|█████████████████████████████████████████| 100/100 [00:04<00:00, 20.36it/s]\n"
     ]
    },
    {
     "name": "stdout",
     "output_type": "stream",
     "text": [
      "Finished processing 31th image\n",
      "Processing 32th image\n"
     ]
    },
    {
     "name": "stderr",
     "output_type": "stream",
     "text": [
      "100%|█████████████████████████████████████████| 100/100 [00:04<00:00, 20.56it/s]\n"
     ]
    },
    {
     "name": "stdout",
     "output_type": "stream",
     "text": [
      "Finished processing 32th image\n",
      "Processing 33th image\n"
     ]
    },
    {
     "name": "stderr",
     "output_type": "stream",
     "text": [
      "100%|█████████████████████████████████████████| 100/100 [00:04<00:00, 20.49it/s]\n"
     ]
    },
    {
     "name": "stdout",
     "output_type": "stream",
     "text": [
      "Finished processing 33th image\n",
      "Processing 34th image\n"
     ]
    },
    {
     "name": "stderr",
     "output_type": "stream",
     "text": [
      "100%|█████████████████████████████████████████| 100/100 [00:04<00:00, 20.48it/s]\n"
     ]
    },
    {
     "name": "stdout",
     "output_type": "stream",
     "text": [
      "Finished processing 34th image\n",
      "Processing 35th image\n"
     ]
    },
    {
     "name": "stderr",
     "output_type": "stream",
     "text": [
      "100%|█████████████████████████████████████████| 100/100 [00:04<00:00, 20.55it/s]\n"
     ]
    },
    {
     "name": "stdout",
     "output_type": "stream",
     "text": [
      "Finished processing 35th image\n",
      "Processing 36th image\n"
     ]
    },
    {
     "name": "stderr",
     "output_type": "stream",
     "text": [
      "100%|█████████████████████████████████████████| 100/100 [00:04<00:00, 20.49it/s]\n"
     ]
    },
    {
     "name": "stdout",
     "output_type": "stream",
     "text": [
      "Finished processing 36th image\n",
      "Processing 37th image\n"
     ]
    },
    {
     "name": "stderr",
     "output_type": "stream",
     "text": [
      "100%|█████████████████████████████████████████| 100/100 [00:04<00:00, 20.50it/s]\n"
     ]
    },
    {
     "name": "stdout",
     "output_type": "stream",
     "text": [
      "Finished processing 37th image\n",
      "Processing 38th image\n"
     ]
    },
    {
     "name": "stderr",
     "output_type": "stream",
     "text": [
      "100%|█████████████████████████████████████████| 100/100 [00:04<00:00, 20.55it/s]\n"
     ]
    },
    {
     "name": "stdout",
     "output_type": "stream",
     "text": [
      "Finished processing 38th image\n",
      "Processing 39th image\n"
     ]
    },
    {
     "name": "stderr",
     "output_type": "stream",
     "text": [
      "100%|█████████████████████████████████████████| 100/100 [00:04<00:00, 20.50it/s]\n"
     ]
    },
    {
     "name": "stdout",
     "output_type": "stream",
     "text": [
      "Finished processing 39th image\n",
      "Processing 40th image\n"
     ]
    },
    {
     "name": "stderr",
     "output_type": "stream",
     "text": [
      "100%|█████████████████████████████████████████| 100/100 [00:04<00:00, 20.51it/s]\n"
     ]
    },
    {
     "name": "stdout",
     "output_type": "stream",
     "text": [
      "Finished processing 40th image\n",
      "Processing 41th image\n"
     ]
    },
    {
     "name": "stderr",
     "output_type": "stream",
     "text": [
      "100%|█████████████████████████████████████████| 100/100 [00:04<00:00, 20.44it/s]\n"
     ]
    },
    {
     "name": "stdout",
     "output_type": "stream",
     "text": [
      "Finished processing 41th image\n",
      "Processing 42th image\n"
     ]
    },
    {
     "name": "stderr",
     "output_type": "stream",
     "text": [
      "100%|█████████████████████████████████████████| 100/100 [00:05<00:00, 19.61it/s]\n"
     ]
    },
    {
     "name": "stdout",
     "output_type": "stream",
     "text": [
      "Finished processing 42th image\n",
      "Processing 43th image\n"
     ]
    },
    {
     "name": "stderr",
     "output_type": "stream",
     "text": [
      "100%|█████████████████████████████████████████| 100/100 [00:05<00:00, 19.05it/s]\n"
     ]
    },
    {
     "name": "stdout",
     "output_type": "stream",
     "text": [
      "Finished processing 43th image\n",
      "Processing 44th image\n"
     ]
    },
    {
     "name": "stderr",
     "output_type": "stream",
     "text": [
      "100%|█████████████████████████████████████████| 100/100 [00:05<00:00, 19.12it/s]\n"
     ]
    },
    {
     "name": "stdout",
     "output_type": "stream",
     "text": [
      "Finished processing 44th image\n",
      "Processing 45th image\n"
     ]
    },
    {
     "name": "stderr",
     "output_type": "stream",
     "text": [
      "100%|█████████████████████████████████████████| 100/100 [00:04<00:00, 20.05it/s]\n"
     ]
    },
    {
     "name": "stdout",
     "output_type": "stream",
     "text": [
      "Finished processing 45th image\n",
      "Processing 46th image\n"
     ]
    },
    {
     "name": "stderr",
     "output_type": "stream",
     "text": [
      "100%|█████████████████████████████████████████| 100/100 [00:04<00:00, 20.04it/s]\n"
     ]
    },
    {
     "name": "stdout",
     "output_type": "stream",
     "text": [
      "Finished processing 46th image\n",
      "Processing 47th image\n"
     ]
    },
    {
     "name": "stderr",
     "output_type": "stream",
     "text": [
      "100%|█████████████████████████████████████████| 100/100 [00:04<00:00, 20.07it/s]\n"
     ]
    },
    {
     "name": "stdout",
     "output_type": "stream",
     "text": [
      "Finished processing 47th image\n",
      "Processing 48th image\n"
     ]
    },
    {
     "name": "stderr",
     "output_type": "stream",
     "text": [
      "100%|█████████████████████████████████████████| 100/100 [00:05<00:00, 19.92it/s]\n"
     ]
    },
    {
     "name": "stdout",
     "output_type": "stream",
     "text": [
      "Finished processing 48th image\n",
      "Processing 49th image\n"
     ]
    },
    {
     "name": "stderr",
     "output_type": "stream",
     "text": [
      "100%|█████████████████████████████████████████| 100/100 [00:04<00:00, 20.05it/s]\n"
     ]
    },
    {
     "name": "stdout",
     "output_type": "stream",
     "text": [
      "Finished processing 49th image\n",
      "Processing 50th image\n"
     ]
    },
    {
     "name": "stderr",
     "output_type": "stream",
     "text": [
      "100%|█████████████████████████████████████████| 100/100 [00:04<00:00, 20.11it/s]\n"
     ]
    },
    {
     "name": "stdout",
     "output_type": "stream",
     "text": [
      "Finished processing 50th image\n",
      "Processing 51th image\n"
     ]
    },
    {
     "name": "stderr",
     "output_type": "stream",
     "text": [
      "100%|█████████████████████████████████████████| 100/100 [00:05<00:00, 19.97it/s]\n"
     ]
    },
    {
     "name": "stdout",
     "output_type": "stream",
     "text": [
      "Finished processing 51th image\n",
      "Processing 52th image\n"
     ]
    },
    {
     "name": "stderr",
     "output_type": "stream",
     "text": [
      "100%|█████████████████████████████████████████| 100/100 [00:04<00:00, 20.12it/s]\n"
     ]
    },
    {
     "name": "stdout",
     "output_type": "stream",
     "text": [
      "Finished processing 52th image\n",
      "Processing 53th image\n"
     ]
    },
    {
     "name": "stderr",
     "output_type": "stream",
     "text": [
      "100%|█████████████████████████████████████████| 100/100 [00:05<00:00, 19.96it/s]\n"
     ]
    },
    {
     "name": "stdout",
     "output_type": "stream",
     "text": [
      "Finished processing 53th image\n",
      "Processing 54th image\n"
     ]
    },
    {
     "name": "stderr",
     "output_type": "stream",
     "text": [
      "100%|█████████████████████████████████████████| 100/100 [00:05<00:00, 18.77it/s]\n"
     ]
    },
    {
     "name": "stdout",
     "output_type": "stream",
     "text": [
      "Finished processing 54th image\n",
      "Processing 55th image\n"
     ]
    },
    {
     "name": "stderr",
     "output_type": "stream",
     "text": [
      "100%|█████████████████████████████████████████| 100/100 [00:04<00:00, 20.02it/s]\n"
     ]
    },
    {
     "name": "stdout",
     "output_type": "stream",
     "text": [
      "Finished processing 55th image\n",
      "Processing 56th image\n"
     ]
    },
    {
     "name": "stderr",
     "output_type": "stream",
     "text": [
      "100%|█████████████████████████████████████████| 100/100 [00:05<00:00, 19.94it/s]\n"
     ]
    },
    {
     "name": "stdout",
     "output_type": "stream",
     "text": [
      "Finished processing 56th image\n",
      "Processing 57th image\n"
     ]
    },
    {
     "name": "stderr",
     "output_type": "stream",
     "text": [
      "100%|█████████████████████████████████████████| 100/100 [00:05<00:00, 19.89it/s]\n"
     ]
    },
    {
     "name": "stdout",
     "output_type": "stream",
     "text": [
      "Finished processing 57th image\n",
      "Processing 58th image\n"
     ]
    },
    {
     "name": "stderr",
     "output_type": "stream",
     "text": [
      "100%|█████████████████████████████████████████| 100/100 [00:04<00:00, 20.02it/s]\n"
     ]
    },
    {
     "name": "stdout",
     "output_type": "stream",
     "text": [
      "Finished processing 58th image\n",
      "Processing 59th image\n"
     ]
    },
    {
     "name": "stderr",
     "output_type": "stream",
     "text": [
      "100%|█████████████████████████████████████████| 100/100 [00:05<00:00, 19.94it/s]\n"
     ]
    },
    {
     "name": "stdout",
     "output_type": "stream",
     "text": [
      "Finished processing 59th image\n",
      "Processing 60th image\n"
     ]
    },
    {
     "name": "stderr",
     "output_type": "stream",
     "text": [
      "100%|█████████████████████████████████████████| 100/100 [00:04<00:00, 20.10it/s]\n"
     ]
    },
    {
     "name": "stdout",
     "output_type": "stream",
     "text": [
      "Finished processing 60th image\n",
      "Processing 61th image\n"
     ]
    },
    {
     "name": "stderr",
     "output_type": "stream",
     "text": [
      "100%|█████████████████████████████████████████| 100/100 [00:05<00:00, 19.98it/s]\n"
     ]
    },
    {
     "name": "stdout",
     "output_type": "stream",
     "text": [
      "Finished processing 61th image\n",
      "Processing 62th image\n"
     ]
    },
    {
     "name": "stderr",
     "output_type": "stream",
     "text": [
      "100%|█████████████████████████████████████████| 100/100 [00:05<00:00, 19.91it/s]\n"
     ]
    },
    {
     "name": "stdout",
     "output_type": "stream",
     "text": [
      "Finished processing 62th image\n",
      "Processing 63th image\n"
     ]
    },
    {
     "name": "stderr",
     "output_type": "stream",
     "text": [
      "100%|█████████████████████████████████████████| 100/100 [00:04<00:00, 20.03it/s]\n"
     ]
    },
    {
     "name": "stdout",
     "output_type": "stream",
     "text": [
      "Finished processing 63th image\n",
      "Processing 64th image\n"
     ]
    },
    {
     "name": "stderr",
     "output_type": "stream",
     "text": [
      "100%|█████████████████████████████████████████| 100/100 [00:05<00:00, 19.96it/s]\n"
     ]
    },
    {
     "name": "stdout",
     "output_type": "stream",
     "text": [
      "Finished processing 64th image\n",
      "Processing 65th image\n"
     ]
    },
    {
     "name": "stderr",
     "output_type": "stream",
     "text": [
      "100%|█████████████████████████████████████████| 100/100 [00:05<00:00, 19.75it/s]\n"
     ]
    },
    {
     "name": "stdout",
     "output_type": "stream",
     "text": [
      "Finished processing 65th image\n",
      "Processing 66th image\n"
     ]
    },
    {
     "name": "stderr",
     "output_type": "stream",
     "text": [
      "100%|█████████████████████████████████████████| 100/100 [00:05<00:00, 19.88it/s]\n"
     ]
    },
    {
     "name": "stdout",
     "output_type": "stream",
     "text": [
      "Finished processing 66th image\n",
      "Processing 67th image\n"
     ]
    },
    {
     "name": "stderr",
     "output_type": "stream",
     "text": [
      "100%|█████████████████████████████████████████| 100/100 [00:05<00:00, 19.90it/s]\n"
     ]
    },
    {
     "name": "stdout",
     "output_type": "stream",
     "text": [
      "Finished processing 67th image\n",
      "Processing 68th image\n"
     ]
    },
    {
     "name": "stderr",
     "output_type": "stream",
     "text": [
      "100%|█████████████████████████████████████████| 100/100 [00:05<00:00, 19.81it/s]\n"
     ]
    },
    {
     "name": "stdout",
     "output_type": "stream",
     "text": [
      "Finished processing 68th image\n",
      "Processing 69th image\n"
     ]
    },
    {
     "name": "stderr",
     "output_type": "stream",
     "text": [
      "100%|█████████████████████████████████████████| 100/100 [00:05<00:00, 19.96it/s]\n"
     ]
    },
    {
     "name": "stdout",
     "output_type": "stream",
     "text": [
      "Finished processing 69th image\n",
      "Processing 70th image\n"
     ]
    },
    {
     "name": "stderr",
     "output_type": "stream",
     "text": [
      "100%|█████████████████████████████████████████| 100/100 [00:05<00:00, 19.80it/s]\n"
     ]
    },
    {
     "name": "stdout",
     "output_type": "stream",
     "text": [
      "Finished processing 70th image\n",
      "Processing 71th image\n"
     ]
    },
    {
     "name": "stderr",
     "output_type": "stream",
     "text": [
      "100%|█████████████████████████████████████████| 100/100 [00:05<00:00, 19.76it/s]\n"
     ]
    },
    {
     "name": "stdout",
     "output_type": "stream",
     "text": [
      "Finished processing 71th image\n",
      "Processing 72th image\n"
     ]
    },
    {
     "name": "stderr",
     "output_type": "stream",
     "text": [
      "100%|█████████████████████████████████████████| 100/100 [00:05<00:00, 19.85it/s]\n"
     ]
    },
    {
     "name": "stdout",
     "output_type": "stream",
     "text": [
      "Finished processing 72th image\n",
      "Processing 73th image\n"
     ]
    },
    {
     "name": "stderr",
     "output_type": "stream",
     "text": [
      "100%|█████████████████████████████████████████| 100/100 [00:05<00:00, 19.61it/s]\n"
     ]
    },
    {
     "name": "stdout",
     "output_type": "stream",
     "text": [
      "Finished processing 73th image\n",
      "Processing 74th image\n"
     ]
    },
    {
     "name": "stderr",
     "output_type": "stream",
     "text": [
      "100%|█████████████████████████████████████████| 100/100 [00:05<00:00, 19.52it/s]\n"
     ]
    },
    {
     "name": "stdout",
     "output_type": "stream",
     "text": [
      "Finished processing 74th image\n",
      "Processing 75th image\n"
     ]
    },
    {
     "name": "stderr",
     "output_type": "stream",
     "text": [
      "100%|█████████████████████████████████████████| 100/100 [00:05<00:00, 19.79it/s]\n"
     ]
    },
    {
     "name": "stdout",
     "output_type": "stream",
     "text": [
      "Finished processing 75th image\n",
      "Processing 76th image\n"
     ]
    },
    {
     "name": "stderr",
     "output_type": "stream",
     "text": [
      "100%|█████████████████████████████████████████| 100/100 [00:05<00:00, 19.69it/s]\n"
     ]
    },
    {
     "name": "stdout",
     "output_type": "stream",
     "text": [
      "Finished processing 76th image\n",
      "Processing 77th image\n"
     ]
    },
    {
     "name": "stderr",
     "output_type": "stream",
     "text": [
      "100%|█████████████████████████████████████████| 100/100 [00:05<00:00, 18.13it/s]\n"
     ]
    },
    {
     "name": "stdout",
     "output_type": "stream",
     "text": [
      "Finished processing 77th image\n",
      "Processing 78th image\n"
     ]
    },
    {
     "name": "stderr",
     "output_type": "stream",
     "text": [
      "100%|█████████████████████████████████████████| 100/100 [00:05<00:00, 19.63it/s]\n"
     ]
    },
    {
     "name": "stdout",
     "output_type": "stream",
     "text": [
      "Finished processing 78th image\n",
      "Processing 79th image\n"
     ]
    },
    {
     "name": "stderr",
     "output_type": "stream",
     "text": [
      "100%|█████████████████████████████████████████| 100/100 [00:05<00:00, 19.38it/s]\n"
     ]
    },
    {
     "name": "stdout",
     "output_type": "stream",
     "text": [
      "Finished processing 79th image\n",
      "Processing 80th image\n"
     ]
    },
    {
     "name": "stderr",
     "output_type": "stream",
     "text": [
      "100%|█████████████████████████████████████████| 100/100 [00:05<00:00, 18.88it/s]\n"
     ]
    },
    {
     "name": "stdout",
     "output_type": "stream",
     "text": [
      "Finished processing 80th image\n",
      "Processing 81th image\n"
     ]
    },
    {
     "name": "stderr",
     "output_type": "stream",
     "text": [
      "100%|█████████████████████████████████████████| 100/100 [00:05<00:00, 19.81it/s]\n"
     ]
    },
    {
     "name": "stdout",
     "output_type": "stream",
     "text": [
      "Finished processing 81th image\n",
      "Processing 82th image\n"
     ]
    },
    {
     "name": "stderr",
     "output_type": "stream",
     "text": [
      "100%|█████████████████████████████████████████| 100/100 [00:05<00:00, 19.58it/s]\n"
     ]
    },
    {
     "name": "stdout",
     "output_type": "stream",
     "text": [
      "Finished processing 82th image\n",
      "Processing 83th image\n"
     ]
    },
    {
     "name": "stderr",
     "output_type": "stream",
     "text": [
      "100%|█████████████████████████████████████████| 100/100 [00:05<00:00, 19.64it/s]\n"
     ]
    },
    {
     "name": "stdout",
     "output_type": "stream",
     "text": [
      "Finished processing 83th image\n",
      "Processing 84th image\n"
     ]
    },
    {
     "name": "stderr",
     "output_type": "stream",
     "text": [
      "100%|█████████████████████████████████████████| 100/100 [00:05<00:00, 19.70it/s]\n"
     ]
    },
    {
     "name": "stdout",
     "output_type": "stream",
     "text": [
      "Finished processing 84th image\n",
      "Processing 85th image\n"
     ]
    },
    {
     "name": "stderr",
     "output_type": "stream",
     "text": [
      "100%|█████████████████████████████████████████| 100/100 [00:05<00:00, 19.72it/s]\n"
     ]
    },
    {
     "name": "stdout",
     "output_type": "stream",
     "text": [
      "Finished processing 85th image\n",
      "Processing 86th image\n"
     ]
    },
    {
     "name": "stderr",
     "output_type": "stream",
     "text": [
      "100%|█████████████████████████████████████████| 100/100 [00:05<00:00, 19.57it/s]\n"
     ]
    },
    {
     "name": "stdout",
     "output_type": "stream",
     "text": [
      "Finished processing 86th image\n",
      "Processing 87th image\n"
     ]
    },
    {
     "name": "stderr",
     "output_type": "stream",
     "text": [
      "100%|█████████████████████████████████████████| 100/100 [00:05<00:00, 19.11it/s]\n"
     ]
    },
    {
     "name": "stdout",
     "output_type": "stream",
     "text": [
      "Finished processing 87th image\n",
      "Processing 88th image\n"
     ]
    },
    {
     "name": "stderr",
     "output_type": "stream",
     "text": [
      "100%|█████████████████████████████████████████| 100/100 [00:05<00:00, 19.53it/s]\n"
     ]
    },
    {
     "name": "stdout",
     "output_type": "stream",
     "text": [
      "Finished processing 88th image\n",
      "Processing 89th image\n"
     ]
    },
    {
     "name": "stderr",
     "output_type": "stream",
     "text": [
      "100%|█████████████████████████████████████████| 100/100 [00:05<00:00, 19.23it/s]\n"
     ]
    },
    {
     "name": "stdout",
     "output_type": "stream",
     "text": [
      "Finished processing 89th image\n",
      "Processing 90th image\n"
     ]
    },
    {
     "name": "stderr",
     "output_type": "stream",
     "text": [
      "100%|█████████████████████████████████████████| 100/100 [00:05<00:00, 19.92it/s]\n"
     ]
    },
    {
     "name": "stdout",
     "output_type": "stream",
     "text": [
      "Finished processing 90th image\n",
      "Processing 91th image\n"
     ]
    },
    {
     "name": "stderr",
     "output_type": "stream",
     "text": [
      "100%|█████████████████████████████████████████| 100/100 [00:05<00:00, 19.67it/s]\n"
     ]
    },
    {
     "name": "stdout",
     "output_type": "stream",
     "text": [
      "Finished processing 91th image\n",
      "Processing 92th image\n"
     ]
    },
    {
     "name": "stderr",
     "output_type": "stream",
     "text": [
      "100%|█████████████████████████████████████████| 100/100 [00:05<00:00, 19.77it/s]\n"
     ]
    },
    {
     "name": "stdout",
     "output_type": "stream",
     "text": [
      "Finished processing 92th image\n",
      "Processing 93th image\n"
     ]
    },
    {
     "name": "stderr",
     "output_type": "stream",
     "text": [
      "100%|█████████████████████████████████████████| 100/100 [00:05<00:00, 19.86it/s]\n"
     ]
    },
    {
     "name": "stdout",
     "output_type": "stream",
     "text": [
      "Finished processing 93th image\n",
      "Processing 94th image\n"
     ]
    },
    {
     "name": "stderr",
     "output_type": "stream",
     "text": [
      "100%|█████████████████████████████████████████| 100/100 [00:05<00:00, 19.70it/s]\n"
     ]
    },
    {
     "name": "stdout",
     "output_type": "stream",
     "text": [
      "Finished processing 94th image\n",
      "Processing 95th image\n"
     ]
    },
    {
     "name": "stderr",
     "output_type": "stream",
     "text": [
      "100%|█████████████████████████████████████████| 100/100 [00:05<00:00, 19.63it/s]\n"
     ]
    },
    {
     "name": "stdout",
     "output_type": "stream",
     "text": [
      "Finished processing 95th image\n",
      "Processing 96th image\n"
     ]
    },
    {
     "name": "stderr",
     "output_type": "stream",
     "text": [
      "100%|█████████████████████████████████████████| 100/100 [00:05<00:00, 19.73it/s]\n"
     ]
    },
    {
     "name": "stdout",
     "output_type": "stream",
     "text": [
      "Finished processing 96th image\n",
      "Processing 97th image\n"
     ]
    },
    {
     "name": "stderr",
     "output_type": "stream",
     "text": [
      "100%|█████████████████████████████████████████| 100/100 [00:05<00:00, 19.38it/s]\n"
     ]
    },
    {
     "name": "stdout",
     "output_type": "stream",
     "text": [
      "Finished processing 97th image\n",
      "Processing 98th image\n"
     ]
    },
    {
     "name": "stderr",
     "output_type": "stream",
     "text": [
      "100%|█████████████████████████████████████████| 100/100 [00:05<00:00, 19.55it/s]\n"
     ]
    },
    {
     "name": "stdout",
     "output_type": "stream",
     "text": [
      "Finished processing 98th image\n",
      "Processing 99th image\n"
     ]
    },
    {
     "name": "stderr",
     "output_type": "stream",
     "text": [
      "100%|█████████████████████████████████████████| 100/100 [00:05<00:00, 19.61it/s]\n"
     ]
    },
    {
     "name": "stdout",
     "output_type": "stream",
     "text": [
      "Finished processing 99th image\n",
      "Processing 100th image\n"
     ]
    },
    {
     "name": "stderr",
     "output_type": "stream",
     "text": [
      "100%|█████████████████████████████████████████| 100/100 [00:05<00:00, 19.56it/s]\n"
     ]
    },
    {
     "name": "stdout",
     "output_type": "stream",
     "text": [
      "Finished processing 100th image\n",
      "Process done!!!\n"
     ]
    }
   ],
   "source": [
    "import os\n",
    "import json\n",
    "\n",
    "file_path = '/scratch/nkusumba/test/edit_sessions.json'\n",
    "\n",
    "with open(file_path, 'r') as file:\n",
    "    json_data = json.load(file)\n",
    "\n",
    "# Printing each key and its corresponding value\n",
    "dic = {}\n",
    "for key, value in json_data.items():\n",
    "    dic[key] = value[0]['instruction']\n",
    "\n",
    "images_path = '/scratch/nkusumba/test/images/'\n",
    "os.makedirs('/scratch/nkusumba/test/outputs/', exist_ok=True)\n",
    "\n",
    "tokenizer = AutoTokenizer.from_pretrained(\"bert-base-uncased\")\n",
    "processor = AutoProcessor.from_pretrained(\"openai/clip-vit-base-patch32\")\n",
    "\n",
    "\n",
    "print('Started Evaluation')\n",
    "count = -1\n",
    "dir_name = []\n",
    "for dirpath, dirname, filenames in os.walk(images_path):\n",
    "    if count == -1:\n",
    "        count = 0\n",
    "        dir_name = dirname\n",
    "    if count == 100:\n",
    "        print('Process done!!!')\n",
    "        break\n",
    "    input_path = ''\n",
    "    output_path = ''\n",
    "    for file in filenames:\n",
    "        filepath = os.path.join(dirpath, file)\n",
    "        if filepath.endswith('input.png'):\n",
    "            input_path = filepath\n",
    "        elif filepath.endswith('output1.png'):\n",
    "            output_path = filepath\n",
    "    if input_path == '':\n",
    "        continue\n",
    "    print(f'Processing {count+1}th image')\n",
    "    dir = f'/scratch/nkusumba/test/outputs/{count+1}'\n",
    "    os.makedirs(dir, exist_ok=True)\n",
    "    out_img = Image.open(output_path)\n",
    "    out_img.save(f'{dir}/groundtruth.png')\n",
    "\n",
    "    # Process the image\n",
    "    img = Image.open(input_path)\n",
    "    inputs = processor(images=img, return_tensors=\"pt\")\n",
    "    input_image = inputs[\"pixel_values\"].to(device)\n",
    "    img.save(f'{dir}/input_image.png')\n",
    "\n",
    "    # Process the instruction\n",
    "    instruction = dic[dir_name[count]]\n",
    "    encoded_instruction = custom_encode(instruction, tokenizer).to(device)\n",
    "    instruction_attention_mask = torch.zeros(encoded_instruction.shape, dtype=torch.long).to(device)\n",
    "    instruction_attention_mask[encoded_instruction != tokenizer.pad_token_id] = 1\n",
    "    with open(f'{dir}/instruction.txt', 'w') as f:\n",
    "        f.write(instruction)\n",
    "\n",
    "    # If 'instruction_1' is an empty or alternative string, prepare it similarly\n",
    "    instruction_1 = \"\"\n",
    "    encoded_instruction_1 = custom_encode(instruction_1, tokenizer).to(device)\n",
    "    instruction_1_attention_mask = torch.zeros(encoded_instruction_1.shape, dtype=torch.long).to(device)\n",
    "    instruction_1_attention_mask[encoded_instruction_1 != tokenizer.pad_token_id] = 1\n",
    "\n",
    "    # Visualize the output\n",
    "    loaded_model.visualization(\n",
    "        input_img=input_image,\n",
    "        instruction=encoded_instruction,  \n",
    "        instruction_attention_mask=instruction_attention_mask,  \n",
    "        filename=f'{dir}/output.png',\n",
    "        negative_instruction=encoded_instruction_1,  \n",
    "        negative_instruction_attention_mask=instruction_1_attention_mask\n",
    "    )\n",
    "    print(f'Finished processing {count+1}th image')\n",
    "    count += 1\n"
   ]
  },
  {
   "cell_type": "code",
   "execution_count": 6,
   "id": "864d5f8d-0452-4ecc-9d9b-801c4fa4e25c",
   "metadata": {},
   "outputs": [
    {
     "name": "stderr",
     "output_type": "stream",
     "text": [
      "100%|█████████████████████████████████████████| 100/100 [00:05<00:00, 19.98it/s]\n"
     ]
    },
    {
     "name": "stdout",
     "output_type": "stream",
     "text": [
      "Finished processing 1th image\n"
     ]
    },
    {
     "name": "stderr",
     "output_type": "stream",
     "text": [
      "100%|█████████████████████████████████████████| 100/100 [00:05<00:00, 19.66it/s]\n"
     ]
    },
    {
     "name": "stdout",
     "output_type": "stream",
     "text": [
      "Finished processing 2th image\n"
     ]
    },
    {
     "name": "stderr",
     "output_type": "stream",
     "text": [
      "100%|█████████████████████████████████████████| 100/100 [00:04<00:00, 20.23it/s]\n"
     ]
    },
    {
     "name": "stdout",
     "output_type": "stream",
     "text": [
      "Finished processing 3th image\n"
     ]
    },
    {
     "name": "stderr",
     "output_type": "stream",
     "text": [
      "100%|█████████████████████████████████████████| 100/100 [00:05<00:00, 19.74it/s]\n"
     ]
    },
    {
     "name": "stdout",
     "output_type": "stream",
     "text": [
      "Finished processing 4th image\n"
     ]
    },
    {
     "name": "stderr",
     "output_type": "stream",
     "text": [
      "100%|█████████████████████████████████████████| 100/100 [00:05<00:00, 18.25it/s]\n"
     ]
    },
    {
     "name": "stdout",
     "output_type": "stream",
     "text": [
      "Finished processing 5th image\n"
     ]
    },
    {
     "name": "stderr",
     "output_type": "stream",
     "text": [
      "100%|█████████████████████████████████████████| 100/100 [00:05<00:00, 19.94it/s]\n"
     ]
    },
    {
     "name": "stdout",
     "output_type": "stream",
     "text": [
      "Finished processing 6th image\n"
     ]
    },
    {
     "name": "stderr",
     "output_type": "stream",
     "text": [
      "100%|█████████████████████████████████████████| 100/100 [00:05<00:00, 19.83it/s]\n"
     ]
    },
    {
     "name": "stdout",
     "output_type": "stream",
     "text": [
      "Finished processing 7th image\n"
     ]
    },
    {
     "name": "stderr",
     "output_type": "stream",
     "text": [
      "100%|█████████████████████████████████████████| 100/100 [00:04<00:00, 20.13it/s]\n"
     ]
    },
    {
     "name": "stdout",
     "output_type": "stream",
     "text": [
      "Finished processing 8th image\n"
     ]
    },
    {
     "name": "stderr",
     "output_type": "stream",
     "text": [
      "100%|█████████████████████████████████████████| 100/100 [00:04<00:00, 20.20it/s]\n"
     ]
    },
    {
     "name": "stdout",
     "output_type": "stream",
     "text": [
      "Finished processing 9th image\n"
     ]
    },
    {
     "name": "stderr",
     "output_type": "stream",
     "text": [
      "100%|█████████████████████████████████████████| 100/100 [00:04<00:00, 20.24it/s]\n"
     ]
    },
    {
     "name": "stdout",
     "output_type": "stream",
     "text": [
      "Finished processing 10th image\n"
     ]
    },
    {
     "name": "stderr",
     "output_type": "stream",
     "text": [
      "100%|█████████████████████████████████████████| 100/100 [00:04<00:00, 20.27it/s]\n"
     ]
    },
    {
     "name": "stdout",
     "output_type": "stream",
     "text": [
      "Finished processing 11th image\n"
     ]
    },
    {
     "name": "stderr",
     "output_type": "stream",
     "text": [
      "100%|█████████████████████████████████████████| 100/100 [00:04<00:00, 20.04it/s]\n"
     ]
    },
    {
     "name": "stdout",
     "output_type": "stream",
     "text": [
      "Finished processing 12th image\n"
     ]
    },
    {
     "name": "stderr",
     "output_type": "stream",
     "text": [
      "100%|█████████████████████████████████████████| 100/100 [00:04<00:00, 20.19it/s]\n"
     ]
    },
    {
     "name": "stdout",
     "output_type": "stream",
     "text": [
      "Finished processing 13th image\n"
     ]
    },
    {
     "name": "stderr",
     "output_type": "stream",
     "text": [
      "100%|█████████████████████████████████████████| 100/100 [00:04<00:00, 20.19it/s]\n"
     ]
    },
    {
     "name": "stdout",
     "output_type": "stream",
     "text": [
      "Finished processing 14th image\n"
     ]
    },
    {
     "name": "stderr",
     "output_type": "stream",
     "text": [
      "100%|█████████████████████████████████████████| 100/100 [00:04<00:00, 20.08it/s]\n"
     ]
    },
    {
     "name": "stdout",
     "output_type": "stream",
     "text": [
      "Finished processing 15th image\n"
     ]
    },
    {
     "name": "stderr",
     "output_type": "stream",
     "text": [
      "100%|█████████████████████████████████████████| 100/100 [00:04<00:00, 20.24it/s]\n"
     ]
    },
    {
     "name": "stdout",
     "output_type": "stream",
     "text": [
      "Finished processing 16th image\n"
     ]
    },
    {
     "name": "stderr",
     "output_type": "stream",
     "text": [
      "100%|█████████████████████████████████████████| 100/100 [00:04<00:00, 20.13it/s]\n"
     ]
    },
    {
     "name": "stdout",
     "output_type": "stream",
     "text": [
      "Finished processing 17th image\n"
     ]
    },
    {
     "name": "stderr",
     "output_type": "stream",
     "text": [
      "100%|█████████████████████████████████████████| 100/100 [00:04<00:00, 20.18it/s]\n"
     ]
    },
    {
     "name": "stdout",
     "output_type": "stream",
     "text": [
      "Finished processing 18th image\n"
     ]
    },
    {
     "name": "stderr",
     "output_type": "stream",
     "text": [
      "100%|█████████████████████████████████████████| 100/100 [00:04<00:00, 20.20it/s]\n"
     ]
    },
    {
     "name": "stdout",
     "output_type": "stream",
     "text": [
      "Finished processing 19th image\n"
     ]
    },
    {
     "name": "stderr",
     "output_type": "stream",
     "text": [
      "100%|█████████████████████████████████████████| 100/100 [00:04<00:00, 20.09it/s]\n"
     ]
    },
    {
     "name": "stdout",
     "output_type": "stream",
     "text": [
      "Finished processing 20th image\n"
     ]
    },
    {
     "name": "stderr",
     "output_type": "stream",
     "text": [
      "100%|█████████████████████████████████████████| 100/100 [00:04<00:00, 20.13it/s]\n"
     ]
    },
    {
     "name": "stdout",
     "output_type": "stream",
     "text": [
      "Finished processing 21th image\n"
     ]
    },
    {
     "name": "stderr",
     "output_type": "stream",
     "text": [
      "100%|█████████████████████████████████████████| 100/100 [00:04<00:00, 20.09it/s]\n"
     ]
    },
    {
     "name": "stdout",
     "output_type": "stream",
     "text": [
      "Finished processing 22th image\n"
     ]
    },
    {
     "name": "stderr",
     "output_type": "stream",
     "text": [
      "100%|█████████████████████████████████████████| 100/100 [00:05<00:00, 19.91it/s]\n"
     ]
    },
    {
     "name": "stdout",
     "output_type": "stream",
     "text": [
      "Finished processing 23th image\n"
     ]
    },
    {
     "name": "stderr",
     "output_type": "stream",
     "text": [
      "100%|█████████████████████████████████████████| 100/100 [00:04<00:00, 20.07it/s]\n"
     ]
    },
    {
     "name": "stdout",
     "output_type": "stream",
     "text": [
      "Finished processing 24th image\n"
     ]
    },
    {
     "name": "stderr",
     "output_type": "stream",
     "text": [
      "100%|█████████████████████████████████████████| 100/100 [00:04<00:00, 20.11it/s]\n"
     ]
    },
    {
     "name": "stdout",
     "output_type": "stream",
     "text": [
      "Finished processing 25th image\n"
     ]
    },
    {
     "name": "stderr",
     "output_type": "stream",
     "text": [
      "100%|█████████████████████████████████████████| 100/100 [00:04<00:00, 20.39it/s]\n"
     ]
    },
    {
     "name": "stdout",
     "output_type": "stream",
     "text": [
      "Finished processing 26th image\n"
     ]
    },
    {
     "name": "stderr",
     "output_type": "stream",
     "text": [
      "100%|█████████████████████████████████████████| 100/100 [00:04<00:00, 20.40it/s]\n"
     ]
    },
    {
     "name": "stdout",
     "output_type": "stream",
     "text": [
      "Finished processing 27th image\n"
     ]
    },
    {
     "name": "stderr",
     "output_type": "stream",
     "text": [
      "100%|█████████████████████████████████████████| 100/100 [00:04<00:00, 20.40it/s]\n"
     ]
    },
    {
     "name": "stdout",
     "output_type": "stream",
     "text": [
      "Finished processing 28th image\n"
     ]
    },
    {
     "name": "stderr",
     "output_type": "stream",
     "text": [
      "100%|█████████████████████████████████████████| 100/100 [00:04<00:00, 20.41it/s]\n"
     ]
    },
    {
     "name": "stdout",
     "output_type": "stream",
     "text": [
      "Finished processing 29th image\n"
     ]
    },
    {
     "name": "stderr",
     "output_type": "stream",
     "text": [
      "100%|█████████████████████████████████████████| 100/100 [00:04<00:00, 20.36it/s]\n"
     ]
    },
    {
     "name": "stdout",
     "output_type": "stream",
     "text": [
      "Finished processing 30th image\n"
     ]
    },
    {
     "name": "stderr",
     "output_type": "stream",
     "text": [
      "100%|█████████████████████████████████████████| 100/100 [00:04<00:00, 20.40it/s]\n"
     ]
    },
    {
     "name": "stdout",
     "output_type": "stream",
     "text": [
      "Finished processing 31th image\n"
     ]
    },
    {
     "name": "stderr",
     "output_type": "stream",
     "text": [
      "100%|█████████████████████████████████████████| 100/100 [00:04<00:00, 20.41it/s]\n"
     ]
    },
    {
     "name": "stdout",
     "output_type": "stream",
     "text": [
      "Finished processing 32th image\n"
     ]
    },
    {
     "name": "stderr",
     "output_type": "stream",
     "text": [
      "100%|█████████████████████████████████████████| 100/100 [00:05<00:00, 19.99it/s]\n"
     ]
    },
    {
     "name": "stdout",
     "output_type": "stream",
     "text": [
      "Finished processing 33th image\n"
     ]
    },
    {
     "name": "stderr",
     "output_type": "stream",
     "text": [
      "100%|█████████████████████████████████████████| 100/100 [00:04<00:00, 20.07it/s]\n"
     ]
    },
    {
     "name": "stdout",
     "output_type": "stream",
     "text": [
      "Finished processing 34th image\n"
     ]
    },
    {
     "name": "stderr",
     "output_type": "stream",
     "text": [
      "100%|█████████████████████████████████████████| 100/100 [00:04<00:00, 20.35it/s]\n"
     ]
    },
    {
     "name": "stdout",
     "output_type": "stream",
     "text": [
      "Finished processing 35th image\n"
     ]
    },
    {
     "name": "stderr",
     "output_type": "stream",
     "text": [
      "100%|█████████████████████████████████████████| 100/100 [00:04<00:00, 20.38it/s]\n"
     ]
    },
    {
     "name": "stdout",
     "output_type": "stream",
     "text": [
      "Finished processing 36th image\n"
     ]
    },
    {
     "name": "stderr",
     "output_type": "stream",
     "text": [
      "100%|█████████████████████████████████████████| 100/100 [00:04<00:00, 20.41it/s]\n"
     ]
    },
    {
     "name": "stdout",
     "output_type": "stream",
     "text": [
      "Finished processing 37th image\n"
     ]
    },
    {
     "name": "stderr",
     "output_type": "stream",
     "text": [
      "100%|█████████████████████████████████████████| 100/100 [00:04<00:00, 20.36it/s]\n"
     ]
    },
    {
     "name": "stdout",
     "output_type": "stream",
     "text": [
      "Finished processing 38th image\n"
     ]
    },
    {
     "name": "stderr",
     "output_type": "stream",
     "text": [
      "100%|█████████████████████████████████████████| 100/100 [00:04<00:00, 20.43it/s]\n"
     ]
    },
    {
     "name": "stdout",
     "output_type": "stream",
     "text": [
      "Finished processing 39th image\n"
     ]
    },
    {
     "name": "stderr",
     "output_type": "stream",
     "text": [
      "100%|█████████████████████████████████████████| 100/100 [00:04<00:00, 20.41it/s]\n"
     ]
    },
    {
     "name": "stdout",
     "output_type": "stream",
     "text": [
      "Finished processing 40th image\n"
     ]
    },
    {
     "name": "stderr",
     "output_type": "stream",
     "text": [
      "100%|█████████████████████████████████████████| 100/100 [00:04<00:00, 20.30it/s]\n"
     ]
    },
    {
     "name": "stdout",
     "output_type": "stream",
     "text": [
      "Finished processing 41th image\n"
     ]
    },
    {
     "name": "stderr",
     "output_type": "stream",
     "text": [
      "100%|█████████████████████████████████████████| 100/100 [00:04<00:00, 20.40it/s]\n"
     ]
    },
    {
     "name": "stdout",
     "output_type": "stream",
     "text": [
      "Finished processing 42th image\n"
     ]
    },
    {
     "name": "stderr",
     "output_type": "stream",
     "text": [
      "100%|█████████████████████████████████████████| 100/100 [00:04<00:00, 20.07it/s]\n"
     ]
    },
    {
     "name": "stdout",
     "output_type": "stream",
     "text": [
      "Finished processing 43th image\n"
     ]
    },
    {
     "name": "stderr",
     "output_type": "stream",
     "text": [
      "100%|█████████████████████████████████████████| 100/100 [00:04<00:00, 20.39it/s]\n"
     ]
    },
    {
     "name": "stdout",
     "output_type": "stream",
     "text": [
      "Finished processing 44th image\n"
     ]
    },
    {
     "name": "stderr",
     "output_type": "stream",
     "text": [
      "100%|█████████████████████████████████████████| 100/100 [00:04<00:00, 20.40it/s]\n"
     ]
    },
    {
     "name": "stdout",
     "output_type": "stream",
     "text": [
      "Finished processing 45th image\n"
     ]
    },
    {
     "name": "stderr",
     "output_type": "stream",
     "text": [
      "100%|█████████████████████████████████████████| 100/100 [00:04<00:00, 20.35it/s]\n"
     ]
    },
    {
     "name": "stdout",
     "output_type": "stream",
     "text": [
      "Finished processing 46th image\n"
     ]
    },
    {
     "name": "stderr",
     "output_type": "stream",
     "text": [
      "100%|█████████████████████████████████████████| 100/100 [00:04<00:00, 20.40it/s]\n"
     ]
    },
    {
     "name": "stdout",
     "output_type": "stream",
     "text": [
      "Finished processing 47th image\n"
     ]
    },
    {
     "name": "stderr",
     "output_type": "stream",
     "text": [
      "100%|█████████████████████████████████████████| 100/100 [00:04<00:00, 20.42it/s]\n"
     ]
    },
    {
     "name": "stdout",
     "output_type": "stream",
     "text": [
      "Finished processing 48th image\n"
     ]
    },
    {
     "name": "stderr",
     "output_type": "stream",
     "text": [
      "100%|█████████████████████████████████████████| 100/100 [00:04<00:00, 20.36it/s]\n"
     ]
    },
    {
     "name": "stdout",
     "output_type": "stream",
     "text": [
      "Finished processing 49th image\n"
     ]
    },
    {
     "name": "stderr",
     "output_type": "stream",
     "text": [
      "100%|█████████████████████████████████████████| 100/100 [00:04<00:00, 20.40it/s]\n"
     ]
    },
    {
     "name": "stdout",
     "output_type": "stream",
     "text": [
      "Finished processing 50th image\n"
     ]
    },
    {
     "name": "stderr",
     "output_type": "stream",
     "text": [
      "100%|█████████████████████████████████████████| 100/100 [00:04<00:00, 20.38it/s]\n"
     ]
    },
    {
     "name": "stdout",
     "output_type": "stream",
     "text": [
      "Finished processing 51th image\n"
     ]
    },
    {
     "name": "stderr",
     "output_type": "stream",
     "text": [
      "100%|█████████████████████████████████████████| 100/100 [00:04<00:00, 20.38it/s]\n"
     ]
    },
    {
     "name": "stdout",
     "output_type": "stream",
     "text": [
      "Finished processing 52th image\n"
     ]
    },
    {
     "name": "stderr",
     "output_type": "stream",
     "text": [
      "100%|█████████████████████████████████████████| 100/100 [00:04<00:00, 20.40it/s]\n"
     ]
    },
    {
     "name": "stdout",
     "output_type": "stream",
     "text": [
      "Finished processing 53th image\n"
     ]
    },
    {
     "name": "stderr",
     "output_type": "stream",
     "text": [
      "100%|█████████████████████████████████████████| 100/100 [00:04<00:00, 20.32it/s]\n"
     ]
    },
    {
     "name": "stdout",
     "output_type": "stream",
     "text": [
      "Finished processing 54th image\n"
     ]
    },
    {
     "name": "stderr",
     "output_type": "stream",
     "text": [
      "100%|█████████████████████████████████████████| 100/100 [00:05<00:00, 19.16it/s]\n"
     ]
    },
    {
     "name": "stdout",
     "output_type": "stream",
     "text": [
      "Finished processing 55th image\n"
     ]
    },
    {
     "name": "stderr",
     "output_type": "stream",
     "text": [
      "100%|█████████████████████████████████████████| 100/100 [00:04<00:00, 20.32it/s]\n"
     ]
    },
    {
     "name": "stdout",
     "output_type": "stream",
     "text": [
      "Finished processing 56th image\n"
     ]
    },
    {
     "name": "stderr",
     "output_type": "stream",
     "text": [
      "100%|█████████████████████████████████████████| 100/100 [00:04<00:00, 20.23it/s]\n"
     ]
    },
    {
     "name": "stdout",
     "output_type": "stream",
     "text": [
      "Finished processing 57th image\n"
     ]
    },
    {
     "name": "stderr",
     "output_type": "stream",
     "text": [
      "100%|█████████████████████████████████████████| 100/100 [00:04<00:00, 20.31it/s]\n"
     ]
    },
    {
     "name": "stdout",
     "output_type": "stream",
     "text": [
      "Finished processing 58th image\n"
     ]
    },
    {
     "name": "stderr",
     "output_type": "stream",
     "text": [
      "100%|█████████████████████████████████████████| 100/100 [00:04<00:00, 20.36it/s]\n"
     ]
    },
    {
     "name": "stdout",
     "output_type": "stream",
     "text": [
      "Finished processing 59th image\n"
     ]
    },
    {
     "name": "stderr",
     "output_type": "stream",
     "text": [
      "100%|█████████████████████████████████████████| 100/100 [00:04<00:00, 20.16it/s]\n"
     ]
    },
    {
     "name": "stdout",
     "output_type": "stream",
     "text": [
      "Finished processing 60th image\n"
     ]
    },
    {
     "name": "stderr",
     "output_type": "stream",
     "text": [
      "100%|█████████████████████████████████████████| 100/100 [00:04<00:00, 20.34it/s]\n"
     ]
    },
    {
     "name": "stdout",
     "output_type": "stream",
     "text": [
      "Finished processing 61th image\n"
     ]
    },
    {
     "name": "stderr",
     "output_type": "stream",
     "text": [
      "100%|█████████████████████████████████████████| 100/100 [00:04<00:00, 20.36it/s]\n"
     ]
    },
    {
     "name": "stdout",
     "output_type": "stream",
     "text": [
      "Finished processing 62th image\n"
     ]
    },
    {
     "name": "stderr",
     "output_type": "stream",
     "text": [
      "100%|█████████████████████████████████████████| 100/100 [00:04<00:00, 20.34it/s]\n"
     ]
    },
    {
     "name": "stdout",
     "output_type": "stream",
     "text": [
      "Finished processing 63th image\n"
     ]
    },
    {
     "name": "stderr",
     "output_type": "stream",
     "text": [
      "100%|█████████████████████████████████████████| 100/100 [00:05<00:00, 19.90it/s]\n"
     ]
    },
    {
     "name": "stdout",
     "output_type": "stream",
     "text": [
      "Finished processing 64th image\n"
     ]
    },
    {
     "name": "stderr",
     "output_type": "stream",
     "text": [
      "100%|█████████████████████████████████████████| 100/100 [00:05<00:00, 19.16it/s]\n"
     ]
    },
    {
     "name": "stdout",
     "output_type": "stream",
     "text": [
      "Finished processing 65th image\n"
     ]
    },
    {
     "name": "stderr",
     "output_type": "stream",
     "text": [
      "100%|█████████████████████████████████████████| 100/100 [00:04<00:00, 20.08it/s]\n"
     ]
    },
    {
     "name": "stdout",
     "output_type": "stream",
     "text": [
      "Finished processing 66th image\n"
     ]
    },
    {
     "name": "stderr",
     "output_type": "stream",
     "text": [
      "100%|█████████████████████████████████████████| 100/100 [00:04<00:00, 20.38it/s]\n"
     ]
    },
    {
     "name": "stdout",
     "output_type": "stream",
     "text": [
      "Finished processing 67th image\n"
     ]
    },
    {
     "name": "stderr",
     "output_type": "stream",
     "text": [
      "100%|█████████████████████████████████████████| 100/100 [00:04<00:00, 20.33it/s]\n"
     ]
    },
    {
     "name": "stdout",
     "output_type": "stream",
     "text": [
      "Finished processing 68th image\n"
     ]
    },
    {
     "name": "stderr",
     "output_type": "stream",
     "text": [
      "100%|█████████████████████████████████████████| 100/100 [00:04<00:00, 20.33it/s]\n"
     ]
    },
    {
     "name": "stdout",
     "output_type": "stream",
     "text": [
      "Finished processing 69th image\n"
     ]
    },
    {
     "name": "stderr",
     "output_type": "stream",
     "text": [
      "100%|█████████████████████████████████████████| 100/100 [00:04<00:00, 20.37it/s]\n"
     ]
    },
    {
     "name": "stdout",
     "output_type": "stream",
     "text": [
      "Finished processing 70th image\n"
     ]
    },
    {
     "name": "stderr",
     "output_type": "stream",
     "text": [
      "100%|█████████████████████████████████████████| 100/100 [00:04<00:00, 20.37it/s]\n"
     ]
    },
    {
     "name": "stdout",
     "output_type": "stream",
     "text": [
      "Finished processing 71th image\n"
     ]
    },
    {
     "name": "stderr",
     "output_type": "stream",
     "text": [
      "100%|█████████████████████████████████████████| 100/100 [00:04<00:00, 20.33it/s]\n"
     ]
    },
    {
     "name": "stdout",
     "output_type": "stream",
     "text": [
      "Finished processing 72th image\n"
     ]
    },
    {
     "name": "stderr",
     "output_type": "stream",
     "text": [
      "100%|█████████████████████████████████████████| 100/100 [00:04<00:00, 20.20it/s]\n"
     ]
    },
    {
     "name": "stdout",
     "output_type": "stream",
     "text": [
      "Finished processing 73th image\n"
     ]
    },
    {
     "name": "stderr",
     "output_type": "stream",
     "text": [
      "100%|█████████████████████████████████████████| 100/100 [00:04<00:00, 20.24it/s]\n"
     ]
    },
    {
     "name": "stdout",
     "output_type": "stream",
     "text": [
      "Finished processing 74th image\n"
     ]
    },
    {
     "name": "stderr",
     "output_type": "stream",
     "text": [
      "100%|█████████████████████████████████████████| 100/100 [00:05<00:00, 17.68it/s]\n"
     ]
    },
    {
     "name": "stdout",
     "output_type": "stream",
     "text": [
      "Finished processing 75th image\n"
     ]
    }
   ],
   "source": [
    "import json\n",
    "\n",
    "json_file_path = '/scratch/nkusumba/test/edit_turns.json'\n",
    "tokenizer = AutoTokenizer.from_pretrained(\"bert-base-uncased\")\n",
    "processor = AutoProcessor.from_pretrained(\"openai/clip-vit-base-patch32\")\n",
    "\n",
    "add_ids = []\n",
    "remove_ids = []\n",
    "with open(json_file_path, 'r') as file:\n",
    "    data = json.load(file)\n",
    "    for d in data:\n",
    "        id = int(d['input'].split('-')[0])\n",
    "        if 'add' in d['instruction'].lower():\n",
    "            add_ids.append((id, d['instruction'], d['input'], d['output']))\n",
    "        elif 'remove' in d['instruction'].lower():\n",
    "            remove_ids.append((id, d['instruction'], d['input'], d['output']))\n",
    "\n",
    "\n",
    "dir_path = '/scratch/nkusumba/test/images'\n",
    "out_dir = '/scratch/nkusumba/test/aux_outputs'\n",
    "os.makedirs(out_dir, exist_ok=True)\n",
    "count = 0\n",
    "\n",
    "inputs = add_ids[0:25] + remove_ids[0:50]\n",
    "\n",
    "for i in inputs:\n",
    "    id = i[0]\n",
    "    input_img_path = f'{dir_path}/{id}/{i[2]}'\n",
    "    output_img_path = f'{dir_path}/{id}/{i[3]}'\n",
    "    instruction = i[1]\n",
    "\n",
    "    res_out_dir = f'{out_dir}/{count+1}'\n",
    "    os.makedirs(res_out_dir, exist_ok=True)\n",
    "    \n",
    "    out_img = Image.open(output_img_path)\n",
    "    out_img.save(f'{res_out_dir}/groundtruth.png')\n",
    "\n",
    "    img = Image.open(input_img_path)\n",
    "    inputs = processor(images=img, return_tensors=\"pt\")\n",
    "    input_image = inputs[\"pixel_values\"].to(device)\n",
    "    img.save(f'{res_out_dir}/input_image.png')\n",
    "\n",
    "    # Process the instruction\n",
    "    encoded_instruction = custom_encode(instruction, tokenizer).to(device)\n",
    "    instruction_attention_mask = torch.zeros(encoded_instruction.shape, dtype=torch.long).to(device)\n",
    "    instruction_attention_mask[encoded_instruction != tokenizer.pad_token_id] = 1\n",
    "    with open(f'{res_out_dir}/instruction.txt', 'w') as f:\n",
    "        f.write(instruction)\n",
    "\n",
    "    # If 'instruction_1' is an empty or alternative string, prepare it similarly\n",
    "    instruction_1 = \"\"\n",
    "    encoded_instruction_1 = custom_encode(instruction_1, tokenizer).to(device)\n",
    "    instruction_1_attention_mask = torch.zeros(encoded_instruction_1.shape, dtype=torch.long).to(device)\n",
    "    instruction_1_attention_mask[encoded_instruction_1 != tokenizer.pad_token_id] = 1\n",
    "\n",
    "    # Visualize the output\n",
    "    loaded_model.visualization(\n",
    "        input_img=input_image,\n",
    "        instruction=encoded_instruction,  \n",
    "        instruction_attention_mask=instruction_attention_mask,  \n",
    "        filename=f'{res_out_dir}/output.png',\n",
    "        negative_instruction=encoded_instruction_1,  \n",
    "        negative_instruction_attention_mask=instruction_1_attention_mask\n",
    "    )\n",
    "    print(f'Finished processing {count+1}th image')\n",
    "    count += 1\n"
   ]
  },
  {
   "cell_type": "code",
   "execution_count": 7,
   "id": "ff5a4e36-c9e4-4d22-ac4a-7a7b46ea8900",
   "metadata": {},
   "outputs": [
    {
     "name": "stdout",
     "output_type": "stream",
     "text": [
      "huggingface/tokenizers: The current process just got forked, after parallelism has already been used. Disabling parallelism to avoid deadlocks...\n",
      "To disable this warning, you can either:\n",
      "\t- Avoid using `tokenizers` before the fork if possible\n",
      "\t- Explicitly set the environment variable TOKENIZERS_PARALLELISM=(true | false)\n",
      "updating: scratch/nkusumba/test/aux_outputs/ (stored 0%)\n",
      "updating: scratch/nkusumba/test/aux_outputs/50/ (stored 0%)\n",
      "updating: scratch/nkusumba/test/aux_outputs/50/groundtruth.png (deflated 0%)\n",
      "updating: scratch/nkusumba/test/aux_outputs/50/output.png (deflated 1%)\n",
      "updating: scratch/nkusumba/test/aux_outputs/50/instruction.txt (stored 0%)\n",
      "updating: scratch/nkusumba/test/aux_outputs/50/input_image.png (deflated 0%)\n",
      "updating: scratch/nkusumba/test/aux_outputs/16/ (stored 0%)\n",
      "updating: scratch/nkusumba/test/aux_outputs/16/groundtruth.png (deflated 0%)\n",
      "updating: scratch/nkusumba/test/aux_outputs/16/input_image.png (deflated 0%)\n",
      "updating: scratch/nkusumba/test/aux_outputs/16/output.png (deflated 0%)\n",
      "updating: scratch/nkusumba/test/aux_outputs/16/instruction.txt (stored 0%)\n",
      "updating: scratch/nkusumba/test/aux_outputs/11/ (stored 0%)\n",
      "updating: scratch/nkusumba/test/aux_outputs/11/groundtruth.png (deflated 0%)\n",
      "updating: scratch/nkusumba/test/aux_outputs/11/instruction.txt (stored 0%)\n",
      "updating: scratch/nkusumba/test/aux_outputs/11/input_image.png (deflated 0%)\n",
      "updating: scratch/nkusumba/test/aux_outputs/11/output.png (deflated 0%)\n",
      "updating: scratch/nkusumba/test/aux_outputs/42/ (stored 0%)\n",
      "updating: scratch/nkusumba/test/aux_outputs/42/input_image.png (deflated 0%)\n",
      "updating: scratch/nkusumba/test/aux_outputs/42/groundtruth.png (deflated 0%)\n",
      "updating: scratch/nkusumba/test/aux_outputs/42/output.png (deflated 0%)\n",
      "updating: scratch/nkusumba/test/aux_outputs/42/instruction.txt (deflated 6%)\n",
      "updating: scratch/nkusumba/test/aux_outputs/74/ (stored 0%)\n",
      "updating: scratch/nkusumba/test/aux_outputs/74/groundtruth.png (deflated 0%)\n",
      "updating: scratch/nkusumba/test/aux_outputs/74/instruction.txt (deflated 2%)\n",
      "updating: scratch/nkusumba/test/aux_outputs/74/output.png (deflated 0%)\n",
      "updating: scratch/nkusumba/test/aux_outputs/74/input_image.png (deflated 0%)\n",
      "updating: scratch/nkusumba/test/aux_outputs/34/ (stored 0%)\n",
      "updating: scratch/nkusumba/test/aux_outputs/34/input_image.png (deflated 0%)\n",
      "updating: scratch/nkusumba/test/aux_outputs/34/groundtruth.png (deflated 0%)\n",
      "updating: scratch/nkusumba/test/aux_outputs/34/output.png (deflated 0%)\n",
      "updating: scratch/nkusumba/test/aux_outputs/34/instruction.txt (deflated 6%)\n",
      "updating: scratch/nkusumba/test/aux_outputs/3/ (stored 0%)\n",
      "updating: scratch/nkusumba/test/aux_outputs/3/groundtruth.png (deflated 0%)\n",
      "updating: scratch/nkusumba/test/aux_outputs/3/output.png (deflated 0%)\n",
      "updating: scratch/nkusumba/test/aux_outputs/3/instruction.txt (stored 0%)\n",
      "updating: scratch/nkusumba/test/aux_outputs/3/input_image.png (deflated 0%)\n",
      "updating: scratch/nkusumba/test/aux_outputs/51/ (stored 0%)\n",
      "updating: scratch/nkusumba/test/aux_outputs/51/groundtruth.png (deflated 0%)\n",
      "updating: scratch/nkusumba/test/aux_outputs/51/instruction.txt (stored 0%)\n",
      "updating: scratch/nkusumba/test/aux_outputs/51/input_image.png (deflated 0%)\n",
      "updating: scratch/nkusumba/test/aux_outputs/51/output.png (deflated 0%)\n",
      "updating: scratch/nkusumba/test/aux_outputs/22/ (stored 0%)\n",
      "updating: scratch/nkusumba/test/aux_outputs/22/groundtruth.png (deflated 0%)\n",
      "updating: scratch/nkusumba/test/aux_outputs/22/input_image.png (deflated 0%)\n",
      "updating: scratch/nkusumba/test/aux_outputs/22/output.png (deflated 0%)\n",
      "updating: scratch/nkusumba/test/aux_outputs/22/instruction.txt (stored 0%)\n",
      "updating: scratch/nkusumba/test/aux_outputs/14/ (stored 0%)\n",
      "updating: scratch/nkusumba/test/aux_outputs/14/groundtruth.png (deflated 0%)\n",
      "updating: scratch/nkusumba/test/aux_outputs/14/instruction.txt (deflated 7%)\n",
      "updating: scratch/nkusumba/test/aux_outputs/14/output.png (deflated 0%)\n",
      "updating: scratch/nkusumba/test/aux_outputs/14/input_image.png (deflated 0%)\n",
      "updating: scratch/nkusumba/test/aux_outputs/15/ (stored 0%)\n",
      "updating: scratch/nkusumba/test/aux_outputs/15/groundtruth.png (deflated 0%)\n",
      "updating: scratch/nkusumba/test/aux_outputs/15/instruction.txt (stored 0%)\n",
      "updating: scratch/nkusumba/test/aux_outputs/15/input_image.png (deflated 0%)\n",
      "updating: scratch/nkusumba/test/aux_outputs/15/output.png (deflated 0%)\n",
      "updating: scratch/nkusumba/test/aux_outputs/35/ (stored 0%)\n",
      "updating: scratch/nkusumba/test/aux_outputs/35/input_image.png (deflated 0%)\n",
      "updating: scratch/nkusumba/test/aux_outputs/35/groundtruth.png (deflated 0%)\n",
      "updating: scratch/nkusumba/test/aux_outputs/35/output.png (deflated 0%)\n",
      "updating: scratch/nkusumba/test/aux_outputs/35/instruction.txt (stored 0%)\n",
      "updating: scratch/nkusumba/test/aux_outputs/65/ (stored 0%)\n",
      "updating: scratch/nkusumba/test/aux_outputs/65/input_image.png (deflated 0%)\n",
      "updating: scratch/nkusumba/test/aux_outputs/65/groundtruth.png (deflated 0%)\n",
      "updating: scratch/nkusumba/test/aux_outputs/65/output.png (deflated 0%)\n",
      "updating: scratch/nkusumba/test/aux_outputs/65/instruction.txt (stored 0%)\n",
      "updating: scratch/nkusumba/test/aux_outputs/40/ (stored 0%)\n",
      "updating: scratch/nkusumba/test/aux_outputs/40/groundtruth.png (deflated 0%)\n",
      "updating: scratch/nkusumba/test/aux_outputs/40/output.png (deflated 0%)\n",
      "updating: scratch/nkusumba/test/aux_outputs/40/instruction.txt (deflated 8%)\n",
      "updating: scratch/nkusumba/test/aux_outputs/40/input_image.png (deflated 0%)\n",
      "updating: scratch/nkusumba/test/aux_outputs/68/ (stored 0%)\n",
      "updating: scratch/nkusumba/test/aux_outputs/68/groundtruth.png (deflated 0%)\n",
      "updating: scratch/nkusumba/test/aux_outputs/68/output.png (deflated 0%)\n",
      "updating: scratch/nkusumba/test/aux_outputs/68/instruction.txt (deflated 3%)\n",
      "updating: scratch/nkusumba/test/aux_outputs/68/input_image.png (deflated 0%)\n",
      "updating: scratch/nkusumba/test/aux_outputs/28/ (stored 0%)\n",
      "updating: scratch/nkusumba/test/aux_outputs/28/groundtruth.png (deflated 0%)\n",
      "updating: scratch/nkusumba/test/aux_outputs/28/instruction.txt (stored 0%)\n",
      "updating: scratch/nkusumba/test/aux_outputs/28/input_image.png (deflated 0%)\n",
      "updating: scratch/nkusumba/test/aux_outputs/28/output.png (deflated 0%)\n",
      "updating: scratch/nkusumba/test/aux_outputs/55/ (stored 0%)\n",
      "updating: scratch/nkusumba/test/aux_outputs/55/input_image.png (deflated 0%)\n",
      "updating: scratch/nkusumba/test/aux_outputs/55/groundtruth.png (deflated 0%)\n",
      "updating: scratch/nkusumba/test/aux_outputs/55/output.png (deflated 0%)\n",
      "updating: scratch/nkusumba/test/aux_outputs/55/instruction.txt (stored 0%)\n",
      "updating: scratch/nkusumba/test/aux_outputs/41/ (stored 0%)\n",
      "updating: scratch/nkusumba/test/aux_outputs/41/groundtruth.png (deflated 0%)\n",
      "updating: scratch/nkusumba/test/aux_outputs/41/instruction.txt (stored 0%)\n",
      "updating: scratch/nkusumba/test/aux_outputs/41/output.png (deflated 0%)\n",
      "updating: scratch/nkusumba/test/aux_outputs/41/input_image.png (deflated 0%)\n",
      "updating: scratch/nkusumba/test/aux_outputs/25/ (stored 0%)\n",
      "updating: scratch/nkusumba/test/aux_outputs/25/groundtruth.png (deflated 0%)\n",
      "updating: scratch/nkusumba/test/aux_outputs/25/output.png (deflated 0%)\n",
      "updating: scratch/nkusumba/test/aux_outputs/25/instruction.txt (deflated 7%)\n",
      "updating: scratch/nkusumba/test/aux_outputs/25/input_image.png (deflated 0%)\n",
      "updating: scratch/nkusumba/test/aux_outputs/2/ (stored 0%)\n",
      "updating: scratch/nkusumba/test/aux_outputs/2/groundtruth.png (deflated 0%)\n",
      "updating: scratch/nkusumba/test/aux_outputs/2/instruction.txt (stored 0%)\n",
      "updating: scratch/nkusumba/test/aux_outputs/2/output.png (deflated 0%)\n",
      "updating: scratch/nkusumba/test/aux_outputs/2/input_image.png (deflated 0%)\n",
      "updating: scratch/nkusumba/test/aux_outputs/52/ (stored 0%)\n",
      "updating: scratch/nkusumba/test/aux_outputs/52/input_image.png (deflated 0%)\n",
      "updating: scratch/nkusumba/test/aux_outputs/52/output.png (deflated 0%)\n",
      "updating: scratch/nkusumba/test/aux_outputs/52/groundtruth.png (deflated 0%)\n",
      "updating: scratch/nkusumba/test/aux_outputs/52/instruction.txt (deflated 6%)\n",
      "updating: scratch/nkusumba/test/aux_outputs/61/ (stored 0%)\n",
      "updating: scratch/nkusumba/test/aux_outputs/61/groundtruth.png (deflated 0%)\n",
      "updating: scratch/nkusumba/test/aux_outputs/61/input_image.png (deflated 0%)\n",
      "updating: scratch/nkusumba/test/aux_outputs/61/output.png (deflated 0%)\n",
      "updating: scratch/nkusumba/test/aux_outputs/61/instruction.txt (stored 0%)\n",
      "updating: scratch/nkusumba/test/aux_outputs/47/ (stored 0%)\n",
      "updating: scratch/nkusumba/test/aux_outputs/47/groundtruth.png (deflated 0%)\n",
      "updating: scratch/nkusumba/test/aux_outputs/47/input_image.png (deflated 0%)\n",
      "updating: scratch/nkusumba/test/aux_outputs/47/output.png (deflated 0%)\n",
      "updating: scratch/nkusumba/test/aux_outputs/47/instruction.txt (stored 0%)\n",
      "updating: scratch/nkusumba/test/aux_outputs/59/ (stored 0%)\n",
      "updating: scratch/nkusumba/test/aux_outputs/59/input_image.png (deflated 0%)\n",
      "updating: scratch/nkusumba/test/aux_outputs/59/output.png (deflated 0%)\n",
      "updating: scratch/nkusumba/test/aux_outputs/59/groundtruth.png (deflated 0%)\n",
      "updating: scratch/nkusumba/test/aux_outputs/59/instruction.txt (stored 0%)\n",
      "updating: scratch/nkusumba/test/aux_outputs/69/ (stored 0%)\n",
      "updating: scratch/nkusumba/test/aux_outputs/69/groundtruth.png (deflated 0%)\n",
      "updating: scratch/nkusumba/test/aux_outputs/69/output.png (deflated 0%)\n",
      "updating: scratch/nkusumba/test/aux_outputs/69/instruction.txt (stored 0%)\n",
      "updating: scratch/nkusumba/test/aux_outputs/69/input_image.png (deflated 0%)\n",
      "updating: scratch/nkusumba/test/aux_outputs/33/ (stored 0%)\n",
      "updating: scratch/nkusumba/test/aux_outputs/33/input_image.png (deflated 0%)\n",
      "updating: scratch/nkusumba/test/aux_outputs/33/output.png (deflated 0%)\n",
      "updating: scratch/nkusumba/test/aux_outputs/33/groundtruth.png (deflated 0%)\n",
      "updating: scratch/nkusumba/test/aux_outputs/33/instruction.txt (deflated 4%)\n",
      "updating: scratch/nkusumba/test/aux_outputs/20/ (stored 0%)\n",
      "updating: scratch/nkusumba/test/aux_outputs/20/groundtruth.png (deflated 0%)\n",
      "updating: scratch/nkusumba/test/aux_outputs/20/instruction.txt (stored 0%)\n",
      "updating: scratch/nkusumba/test/aux_outputs/20/output.png (deflated 0%)\n",
      "updating: scratch/nkusumba/test/aux_outputs/20/input_image.png (deflated 0%)\n",
      "updating: scratch/nkusumba/test/aux_outputs/23/ (stored 0%)\n",
      "updating: scratch/nkusumba/test/aux_outputs/23/input_image.png (deflated 0%)\n",
      "updating: scratch/nkusumba/test/aux_outputs/23/output.png (deflated 0%)\n",
      "updating: scratch/nkusumba/test/aux_outputs/23/groundtruth.png (deflated 0%)\n",
      "updating: scratch/nkusumba/test/aux_outputs/23/instruction.txt (deflated 3%)\n",
      "updating: scratch/nkusumba/test/aux_outputs/9/ (stored 0%)\n",
      "updating: scratch/nkusumba/test/aux_outputs/9/groundtruth.png (deflated 0%)\n",
      "updating: scratch/nkusumba/test/aux_outputs/9/instruction.txt (stored 0%)\n",
      "updating: scratch/nkusumba/test/aux_outputs/9/input_image.png (deflated 0%)\n",
      "updating: scratch/nkusumba/test/aux_outputs/9/output.png (deflated 0%)\n",
      "updating: scratch/nkusumba/test/aux_outputs/8/ (stored 0%)\n",
      "updating: scratch/nkusumba/test/aux_outputs/8/groundtruth.png (deflated 0%)\n",
      "updating: scratch/nkusumba/test/aux_outputs/8/output.png (deflated 0%)\n",
      "updating: scratch/nkusumba/test/aux_outputs/8/instruction.txt (stored 0%)\n",
      "updating: scratch/nkusumba/test/aux_outputs/8/input_image.png (deflated 0%)\n",
      "updating: scratch/nkusumba/test/aux_outputs/37/ (stored 0%)\n",
      "updating: scratch/nkusumba/test/aux_outputs/37/groundtruth.png (deflated 0%)\n",
      "updating: scratch/nkusumba/test/aux_outputs/37/instruction.txt (stored 0%)\n",
      "updating: scratch/nkusumba/test/aux_outputs/37/output.png (deflated 0%)\n",
      "updating: scratch/nkusumba/test/aux_outputs/37/input_image.png (deflated 0%)\n",
      "updating: scratch/nkusumba/test/aux_outputs/1/ (stored 0%)\n",
      "updating: scratch/nkusumba/test/aux_outputs/1/input_image.png (deflated 0%)\n",
      "updating: scratch/nkusumba/test/aux_outputs/1/output.png (deflated 0%)\n",
      "updating: scratch/nkusumba/test/aux_outputs/1/groundtruth.png (deflated 0%)\n",
      "updating: scratch/nkusumba/test/aux_outputs/1/instruction.txt (stored 0%)\n",
      "updating: scratch/nkusumba/test/aux_outputs/39/ (stored 0%)\n",
      "updating: scratch/nkusumba/test/aux_outputs/39/groundtruth.png (deflated 0%)\n",
      "updating: scratch/nkusumba/test/aux_outputs/39/output.png (deflated 0%)\n",
      "updating: scratch/nkusumba/test/aux_outputs/39/instruction.txt (deflated 13%)\n",
      "updating: scratch/nkusumba/test/aux_outputs/39/input_image.png (deflated 0%)\n",
      "updating: scratch/nkusumba/test/aux_outputs/44/ (stored 0%)\n",
      "updating: scratch/nkusumba/test/aux_outputs/44/groundtruth.png (deflated 0%)\n",
      "updating: scratch/nkusumba/test/aux_outputs/44/output.png (deflated 0%)\n",
      "updating: scratch/nkusumba/test/aux_outputs/44/instruction.txt (stored 0%)\n",
      "updating: scratch/nkusumba/test/aux_outputs/44/input_image.png (deflated 0%)\n",
      "updating: scratch/nkusumba/test/aux_outputs/7/ (stored 0%)\n",
      "updating: scratch/nkusumba/test/aux_outputs/7/input_image.png (deflated 0%)\n",
      "updating: scratch/nkusumba/test/aux_outputs/7/output.png (deflated 0%)\n",
      "updating: scratch/nkusumba/test/aux_outputs/7/groundtruth.png (deflated 0%)\n",
      "updating: scratch/nkusumba/test/aux_outputs/7/instruction.txt (stored 0%)\n",
      "updating: scratch/nkusumba/test/aux_outputs/64/ (stored 0%)\n",
      "updating: scratch/nkusumba/test/aux_outputs/64/groundtruth.png (deflated 0%)\n",
      "updating: scratch/nkusumba/test/aux_outputs/64/input_image.png (deflated 0%)\n",
      "updating: scratch/nkusumba/test/aux_outputs/64/output.png (deflated 0%)\n",
      "updating: scratch/nkusumba/test/aux_outputs/64/instruction.txt (stored 0%)\n",
      "updating: scratch/nkusumba/test/aux_outputs/58/ (stored 0%)\n",
      "updating: scratch/nkusumba/test/aux_outputs/58/groundtruth.png (deflated 0%)\n",
      "updating: scratch/nkusumba/test/aux_outputs/58/instruction.txt (stored 0%)\n",
      "updating: scratch/nkusumba/test/aux_outputs/58/output.png (deflated 0%)\n",
      "updating: scratch/nkusumba/test/aux_outputs/58/input_image.png (deflated 0%)\n",
      "updating: scratch/nkusumba/test/aux_outputs/21/ (stored 0%)\n",
      "updating: scratch/nkusumba/test/aux_outputs/21/groundtruth.png (deflated 0%)\n",
      "updating: scratch/nkusumba/test/aux_outputs/21/instruction.txt (stored 0%)\n",
      "updating: scratch/nkusumba/test/aux_outputs/21/output.png (deflated 0%)\n",
      "updating: scratch/nkusumba/test/aux_outputs/21/input_image.png (deflated 0%)\n",
      "updating: scratch/nkusumba/test/aux_outputs/30/ (stored 0%)\n",
      "updating: scratch/nkusumba/test/aux_outputs/30/groundtruth.png (deflated 0%)\n",
      "updating: scratch/nkusumba/test/aux_outputs/30/instruction.txt (stored 0%)\n",
      "updating: scratch/nkusumba/test/aux_outputs/30/input_image.png (deflated 0%)\n",
      "updating: scratch/nkusumba/test/aux_outputs/30/output.png (deflated 0%)\n",
      "updating: scratch/nkusumba/test/aux_outputs/17/ (stored 0%)\n",
      "updating: scratch/nkusumba/test/aux_outputs/17/input_image.png (deflated 0%)\n",
      "updating: scratch/nkusumba/test/aux_outputs/17/groundtruth.png (deflated 0%)\n",
      "updating: scratch/nkusumba/test/aux_outputs/17/output.png (deflated 0%)\n",
      "updating: scratch/nkusumba/test/aux_outputs/17/instruction.txt (stored 0%)\n",
      "updating: scratch/nkusumba/test/aux_outputs/38/ (stored 0%)\n",
      "updating: scratch/nkusumba/test/aux_outputs/38/groundtruth.png (deflated 0%)\n",
      "updating: scratch/nkusumba/test/aux_outputs/38/instruction.txt (stored 0%)\n",
      "updating: scratch/nkusumba/test/aux_outputs/38/output.png (deflated 0%)\n",
      "updating: scratch/nkusumba/test/aux_outputs/38/input_image.png (deflated 0%)\n",
      "updating: scratch/nkusumba/test/aux_outputs/36/ (stored 0%)\n",
      "updating: scratch/nkusumba/test/aux_outputs/36/input_image.png (deflated 0%)\n",
      "updating: scratch/nkusumba/test/aux_outputs/36/output.png (deflated 0%)\n",
      "updating: scratch/nkusumba/test/aux_outputs/36/groundtruth.png (deflated 0%)\n",
      "updating: scratch/nkusumba/test/aux_outputs/36/instruction.txt (stored 0%)\n",
      "updating: scratch/nkusumba/test/aux_outputs/62/ (stored 0%)\n",
      "updating: scratch/nkusumba/test/aux_outputs/62/groundtruth.png (deflated 0%)\n",
      "updating: scratch/nkusumba/test/aux_outputs/62/instruction.txt (deflated 10%)\n",
      "updating: scratch/nkusumba/test/aux_outputs/62/input_image.png (deflated 0%)\n",
      "updating: scratch/nkusumba/test/aux_outputs/62/output.png (deflated 0%)\n",
      "updating: scratch/nkusumba/test/aux_outputs/5/ (stored 0%)\n",
      "updating: scratch/nkusumba/test/aux_outputs/5/groundtruth.png (deflated 0%)\n",
      "updating: scratch/nkusumba/test/aux_outputs/5/instruction.txt (stored 0%)\n",
      "updating: scratch/nkusumba/test/aux_outputs/5/input_image.png (deflated 0%)\n",
      "updating: scratch/nkusumba/test/aux_outputs/5/output.png (deflated 0%)\n",
      "updating: scratch/nkusumba/test/aux_outputs/70/ (stored 0%)\n",
      "updating: scratch/nkusumba/test/aux_outputs/70/input_image.png (deflated 0%)\n",
      "updating: scratch/nkusumba/test/aux_outputs/70/output.png (deflated 0%)\n",
      "updating: scratch/nkusumba/test/aux_outputs/70/groundtruth.png (deflated 0%)\n",
      "updating: scratch/nkusumba/test/aux_outputs/70/instruction.txt (stored 0%)\n",
      "updating: scratch/nkusumba/test/aux_outputs/6/ (stored 0%)\n",
      "updating: scratch/nkusumba/test/aux_outputs/6/groundtruth.png (deflated 0%)\n",
      "updating: scratch/nkusumba/test/aux_outputs/6/input_image.png (deflated 0%)\n",
      "updating: scratch/nkusumba/test/aux_outputs/6/output.png (deflated 0%)\n",
      "updating: scratch/nkusumba/test/aux_outputs/6/instruction.txt (stored 0%)\n",
      "updating: scratch/nkusumba/test/aux_outputs/49/ (stored 0%)\n",
      "updating: scratch/nkusumba/test/aux_outputs/49/groundtruth.png (deflated 0%)\n",
      "updating: scratch/nkusumba/test/aux_outputs/49/input_image.png (deflated 1%)\n",
      "updating: scratch/nkusumba/test/aux_outputs/49/output.png (deflated 1%)\n",
      "updating: scratch/nkusumba/test/aux_outputs/49/instruction.txt (stored 0%)\n",
      "updating: scratch/nkusumba/test/aux_outputs/31/ (stored 0%)\n",
      "updating: scratch/nkusumba/test/aux_outputs/31/groundtruth.png (deflated 0%)\n",
      "updating: scratch/nkusumba/test/aux_outputs/31/input_image.png (deflated 0%)\n",
      "updating: scratch/nkusumba/test/aux_outputs/31/output.png (deflated 0%)\n",
      "updating: scratch/nkusumba/test/aux_outputs/31/instruction.txt (stored 0%)\n",
      "updating: scratch/nkusumba/test/aux_outputs/63/ (stored 0%)\n",
      "updating: scratch/nkusumba/test/aux_outputs/63/input_image.png (deflated 0%)\n",
      "updating: scratch/nkusumba/test/aux_outputs/63/output.png (deflated 0%)\n",
      "updating: scratch/nkusumba/test/aux_outputs/63/groundtruth.png (deflated 0%)\n",
      "updating: scratch/nkusumba/test/aux_outputs/63/instruction.txt (stored 0%)\n",
      "updating: scratch/nkusumba/test/aux_outputs/43/ (stored 0%)\n",
      "updating: scratch/nkusumba/test/aux_outputs/43/input_image.png (deflated 0%)\n",
      "updating: scratch/nkusumba/test/aux_outputs/43/output.png (deflated 0%)\n",
      "updating: scratch/nkusumba/test/aux_outputs/43/groundtruth.png (deflated 0%)\n",
      "updating: scratch/nkusumba/test/aux_outputs/43/instruction.txt (stored 0%)\n",
      "updating: scratch/nkusumba/test/aux_outputs/67/ (stored 0%)\n",
      "updating: scratch/nkusumba/test/aux_outputs/67/input_image.png (deflated 0%)\n",
      "updating: scratch/nkusumba/test/aux_outputs/67/output.png (deflated 0%)\n",
      "updating: scratch/nkusumba/test/aux_outputs/67/groundtruth.png (deflated 0%)\n",
      "updating: scratch/nkusumba/test/aux_outputs/67/instruction.txt (stored 0%)\n",
      "updating: scratch/nkusumba/test/aux_outputs/45/ (stored 0%)\n",
      "updating: scratch/nkusumba/test/aux_outputs/45/groundtruth.png (deflated 0%)\n",
      "updating: scratch/nkusumba/test/aux_outputs/45/output.png (deflated 0%)\n",
      "updating: scratch/nkusumba/test/aux_outputs/45/instruction.txt (deflated 9%)\n",
      "updating: scratch/nkusumba/test/aux_outputs/45/input_image.png (deflated 0%)\n",
      "updating: scratch/nkusumba/test/aux_outputs/27/ (stored 0%)\n",
      "updating: scratch/nkusumba/test/aux_outputs/27/groundtruth.png (deflated 0%)\n",
      "updating: scratch/nkusumba/test/aux_outputs/27/instruction.txt (deflated 3%)\n",
      "updating: scratch/nkusumba/test/aux_outputs/27/output.png (deflated 0%)\n",
      "updating: scratch/nkusumba/test/aux_outputs/27/input_image.png (deflated 0%)\n",
      "updating: scratch/nkusumba/test/aux_outputs/66/ (stored 0%)\n",
      "updating: scratch/nkusumba/test/aux_outputs/66/input_image.png (deflated 0%)\n",
      "updating: scratch/nkusumba/test/aux_outputs/66/groundtruth.png (deflated 0%)\n",
      "updating: scratch/nkusumba/test/aux_outputs/66/output.png (deflated 0%)\n",
      "updating: scratch/nkusumba/test/aux_outputs/66/instruction.txt (stored 0%)\n",
      "updating: scratch/nkusumba/test/aux_outputs/73/ (stored 0%)\n",
      "updating: scratch/nkusumba/test/aux_outputs/73/groundtruth.png (deflated 0%)\n",
      "updating: scratch/nkusumba/test/aux_outputs/73/instruction.txt (stored 0%)\n",
      "updating: scratch/nkusumba/test/aux_outputs/73/output.png (deflated 0%)\n",
      "updating: scratch/nkusumba/test/aux_outputs/73/input_image.png (deflated 0%)\n",
      "updating: scratch/nkusumba/test/aux_outputs/54/ (stored 0%)\n",
      "updating: scratch/nkusumba/test/aux_outputs/54/groundtruth.png (deflated 0%)\n",
      "updating: scratch/nkusumba/test/aux_outputs/54/instruction.txt (stored 0%)\n",
      "updating: scratch/nkusumba/test/aux_outputs/54/input_image.png (deflated 0%)\n",
      "updating: scratch/nkusumba/test/aux_outputs/54/output.png (deflated 0%)\n",
      "updating: scratch/nkusumba/test/aux_outputs/26/ (stored 0%)\n",
      "updating: scratch/nkusumba/test/aux_outputs/26/input_image.png (deflated 1%)\n",
      "updating: scratch/nkusumba/test/aux_outputs/26/groundtruth.png (deflated 0%)\n",
      "updating: scratch/nkusumba/test/aux_outputs/26/output.png (deflated 0%)\n",
      "updating: scratch/nkusumba/test/aux_outputs/26/instruction.txt (stored 0%)\n",
      "updating: scratch/nkusumba/test/aux_outputs/48/ (stored 0%)\n",
      "updating: scratch/nkusumba/test/aux_outputs/48/input_image.png (deflated 0%)\n",
      "updating: scratch/nkusumba/test/aux_outputs/48/output.png (deflated 0%)\n",
      "updating: scratch/nkusumba/test/aux_outputs/48/groundtruth.png (deflated 0%)\n",
      "updating: scratch/nkusumba/test/aux_outputs/48/instruction.txt (stored 0%)\n",
      "updating: scratch/nkusumba/test/aux_outputs/29/ (stored 0%)\n",
      "updating: scratch/nkusumba/test/aux_outputs/29/groundtruth.png (deflated 0%)\n",
      "updating: scratch/nkusumba/test/aux_outputs/29/instruction.txt (deflated 9%)\n",
      "updating: scratch/nkusumba/test/aux_outputs/29/input_image.png (deflated 0%)\n",
      "updating: scratch/nkusumba/test/aux_outputs/29/output.png (deflated 0%)\n",
      "updating: scratch/nkusumba/test/aux_outputs/12/ (stored 0%)\n",
      "updating: scratch/nkusumba/test/aux_outputs/12/groundtruth.png (deflated 0%)\n",
      "updating: scratch/nkusumba/test/aux_outputs/12/instruction.txt (deflated 2%)\n",
      "updating: scratch/nkusumba/test/aux_outputs/12/output.png (deflated 0%)\n",
      "updating: scratch/nkusumba/test/aux_outputs/12/input_image.png (deflated 0%)\n",
      "updating: scratch/nkusumba/test/aux_outputs/72/ (stored 0%)\n",
      "updating: scratch/nkusumba/test/aux_outputs/72/input_image.png (deflated 0%)\n",
      "updating: scratch/nkusumba/test/aux_outputs/72/output.png (deflated 0%)\n",
      "updating: scratch/nkusumba/test/aux_outputs/72/groundtruth.png (deflated 0%)\n",
      "updating: scratch/nkusumba/test/aux_outputs/72/instruction.txt (stored 0%)\n",
      "updating: scratch/nkusumba/test/aux_outputs/10/ (stored 0%)\n",
      "updating: scratch/nkusumba/test/aux_outputs/10/groundtruth.png (deflated 0%)\n",
      "updating: scratch/nkusumba/test/aux_outputs/10/input_image.png (deflated 0%)\n",
      "updating: scratch/nkusumba/test/aux_outputs/10/output.png (deflated 0%)\n",
      "updating: scratch/nkusumba/test/aux_outputs/10/instruction.txt (stored 0%)\n",
      "updating: scratch/nkusumba/test/aux_outputs/60/ (stored 0%)\n",
      "updating: scratch/nkusumba/test/aux_outputs/60/input_image.png (deflated 0%)\n",
      "updating: scratch/nkusumba/test/aux_outputs/60/groundtruth.png (deflated 0%)\n",
      "updating: scratch/nkusumba/test/aux_outputs/60/output.png (deflated 0%)\n",
      "updating: scratch/nkusumba/test/aux_outputs/60/instruction.txt (stored 0%)\n",
      "updating: scratch/nkusumba/test/aux_outputs/13/ (stored 0%)\n",
      "updating: scratch/nkusumba/test/aux_outputs/13/groundtruth.png (deflated 0%)\n",
      "updating: scratch/nkusumba/test/aux_outputs/13/output.png (deflated 0%)\n",
      "updating: scratch/nkusumba/test/aux_outputs/13/instruction.txt (stored 0%)\n",
      "updating: scratch/nkusumba/test/aux_outputs/13/input_image.png (deflated 0%)\n",
      "updating: scratch/nkusumba/test/aux_outputs/19/ (stored 0%)\n",
      "updating: scratch/nkusumba/test/aux_outputs/19/groundtruth.png (deflated 0%)\n",
      "updating: scratch/nkusumba/test/aux_outputs/19/input_image.png (deflated 0%)\n",
      "updating: scratch/nkusumba/test/aux_outputs/19/output.png (deflated 0%)\n",
      "updating: scratch/nkusumba/test/aux_outputs/19/instruction.txt (stored 0%)\n",
      "updating: scratch/nkusumba/test/aux_outputs/75/ (stored 0%)\n",
      "updating: scratch/nkusumba/test/aux_outputs/75/input_image.png (deflated 0%)\n",
      "updating: scratch/nkusumba/test/aux_outputs/75/groundtruth.png (deflated 0%)\n",
      "updating: scratch/nkusumba/test/aux_outputs/75/output.png (deflated 0%)\n",
      "updating: scratch/nkusumba/test/aux_outputs/75/instruction.txt (stored 0%)\n",
      "updating: scratch/nkusumba/test/aux_outputs/4/ (stored 0%)\n",
      "updating: scratch/nkusumba/test/aux_outputs/4/groundtruth.png (deflated 0%)\n",
      "updating: scratch/nkusumba/test/aux_outputs/4/output.png (deflated 0%)\n",
      "updating: scratch/nkusumba/test/aux_outputs/4/instruction.txt (stored 0%)\n",
      "updating: scratch/nkusumba/test/aux_outputs/4/input_image.png (deflated 0%)\n",
      "updating: scratch/nkusumba/test/aux_outputs/18/ (stored 0%)\n",
      "updating: scratch/nkusumba/test/aux_outputs/18/groundtruth.png (deflated 0%)\n",
      "updating: scratch/nkusumba/test/aux_outputs/18/input_image.png (deflated 0%)\n",
      "updating: scratch/nkusumba/test/aux_outputs/18/output.png (deflated 0%)\n",
      "updating: scratch/nkusumba/test/aux_outputs/18/instruction.txt (stored 0%)\n",
      "updating: scratch/nkusumba/test/aux_outputs/56/ (stored 0%)\n",
      "updating: scratch/nkusumba/test/aux_outputs/56/input_image.png (deflated 0%)\n",
      "updating: scratch/nkusumba/test/aux_outputs/56/groundtruth.png (deflated 0%)\n",
      "updating: scratch/nkusumba/test/aux_outputs/56/output.png (deflated 0%)\n",
      "updating: scratch/nkusumba/test/aux_outputs/56/instruction.txt (stored 0%)\n",
      "updating: scratch/nkusumba/test/aux_outputs/24/ (stored 0%)\n",
      "updating: scratch/nkusumba/test/aux_outputs/24/groundtruth.png (deflated 0%)\n",
      "updating: scratch/nkusumba/test/aux_outputs/24/instruction.txt (stored 0%)\n",
      "updating: scratch/nkusumba/test/aux_outputs/24/output.png (deflated 0%)\n",
      "updating: scratch/nkusumba/test/aux_outputs/24/input_image.png (deflated 0%)\n",
      "updating: scratch/nkusumba/test/aux_outputs/71/ (stored 0%)\n",
      "updating: scratch/nkusumba/test/aux_outputs/71/groundtruth.png (deflated 0%)\n",
      "updating: scratch/nkusumba/test/aux_outputs/71/instruction.txt (stored 0%)\n",
      "updating: scratch/nkusumba/test/aux_outputs/71/output.png (deflated 0%)\n",
      "updating: scratch/nkusumba/test/aux_outputs/71/input_image.png (deflated 0%)\n",
      "updating: scratch/nkusumba/test/aux_outputs/46/ (stored 0%)\n",
      "updating: scratch/nkusumba/test/aux_outputs/46/input_image.png (deflated 0%)\n",
      "updating: scratch/nkusumba/test/aux_outputs/46/output.png (deflated 0%)\n",
      "updating: scratch/nkusumba/test/aux_outputs/46/groundtruth.png (deflated 0%)\n",
      "updating: scratch/nkusumba/test/aux_outputs/46/instruction.txt (stored 0%)\n",
      "updating: scratch/nkusumba/test/aux_outputs/53/ (stored 0%)\n",
      "updating: scratch/nkusumba/test/aux_outputs/53/groundtruth.png (deflated 0%)\n",
      "updating: scratch/nkusumba/test/aux_outputs/53/input_image.png (deflated 0%)\n",
      "updating: scratch/nkusumba/test/aux_outputs/53/output.png (deflated 0%)\n",
      "updating: scratch/nkusumba/test/aux_outputs/53/instruction.txt (stored 0%)\n",
      "updating: scratch/nkusumba/test/aux_outputs/32/ (stored 0%)\n",
      "updating: scratch/nkusumba/test/aux_outputs/32/groundtruth.png (deflated 0%)\n",
      "updating: scratch/nkusumba/test/aux_outputs/32/instruction.txt (deflated 6%)\n",
      "updating: scratch/nkusumba/test/aux_outputs/32/input_image.png (deflated 0%)\n",
      "updating: scratch/nkusumba/test/aux_outputs/32/output.png (deflated 0%)\n",
      "updating: scratch/nkusumba/test/aux_outputs/57/ (stored 0%)\n",
      "updating: scratch/nkusumba/test/aux_outputs/57/input_image.png (deflated 0%)\n",
      "updating: scratch/nkusumba/test/aux_outputs/57/groundtruth.png (deflated 0%)\n",
      "updating: scratch/nkusumba/test/aux_outputs/57/output.png (deflated 0%)\n",
      "updating: scratch/nkusumba/test/aux_outputs/57/instruction.txt (deflated 3%)\n"
     ]
    }
   ],
   "source": [
    "!zip -r /scratch/nkusumba/test/kandinsky_bert_aux_outputs.zip /scratch/nkusumba/test/aux_outputs"
   ]
  },
  {
   "cell_type": "code",
   "execution_count": null,
   "id": "92c982e1-b87a-4096-8a49-381431461efd",
   "metadata": {},
   "outputs": [],
   "source": []
  }
 ],
 "metadata": {
  "kernelspec": {
   "display_name": "nlp-project",
   "language": "python",
   "name": "nlp-project"
  },
  "language_info": {
   "codemirror_mode": {
    "name": "ipython",
    "version": 3
   },
   "file_extension": ".py",
   "mimetype": "text/x-python",
   "name": "python",
   "nbconvert_exporter": "python",
   "pygments_lexer": "ipython3",
   "version": "3.10.13"
  }
 },
 "nbformat": 4,
 "nbformat_minor": 5
}
