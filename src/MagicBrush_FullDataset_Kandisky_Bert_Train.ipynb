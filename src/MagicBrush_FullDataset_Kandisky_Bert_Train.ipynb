{
 "cells": [
  {
   "cell_type": "code",
   "execution_count": 1,
   "id": "f27848ec",
   "metadata": {},
   "outputs": [],
   "source": [
    "import subprocess\n",
    "\n",
    "def kill_cuda_processes():\n",
    "    # Get the list of process IDs (PIDs) using nvidia-smi\n",
    "    cmd = \"nvidia-smi | grep 'python' | awk '{print $3}'\"\n",
    "    pids_str = subprocess.check_output(cmd, shell=True).decode('utf-8')\n",
    "    pids = pids_str.split('\\n')[:-1]\n",
    "\n",
    "    # Kill each process by its PID\n",
    "    for pid in pids:\n",
    "        try:\n",
    "            subprocess.run([\"kill\", \"-9\", pid])\n",
    "            print(f\"Killed process {pid}\")\n",
    "        except Exception as e:\n",
    "            print(f\"Error killing process {pid}: {e}\")\n",
    "\n",
    "# Run the function\n",
    "kill_cuda_processes()\n"
   ]
  },
  {
   "cell_type": "code",
   "execution_count": 2,
   "id": "0e5a1be2",
   "metadata": {},
   "outputs": [],
   "source": [
    "#Set this cuda variable\n",
    "import os\n",
    "\n",
    "# Set the environment variable\n",
    "os.environ['PYTORCH_CUDA_ALLOC_CONF'] = 'max_split_size_mb:512'"
   ]
  },
  {
   "cell_type": "code",
   "execution_count": 3,
   "id": "6d61db9a-a7fc-46cb-b7df-2442a29c6039",
   "metadata": {},
   "outputs": [
    {
     "name": "stdout",
     "output_type": "stream",
     "text": [
      "There are 1 GPU(s) available.\n",
      "We will use the GPU: NVIDIA A100-SXM4-80GB\n"
     ]
    }
   ],
   "source": [
    "import torch\n",
    "\n",
    "# If there's a GPU available...\n",
    "if torch.cuda.is_available():\n",
    "    # Tell PyTorch to use the GPU.\n",
    "    device = torch.device(\"cuda\")\n",
    "\n",
    "    print(\"There are %d GPU(s) available.\" % torch.cuda.device_count())\n",
    "\n",
    "    print(\"We will use the GPU:\", torch.cuda.get_device_name(0))\n",
    "\n",
    "# If not...\n",
    "elif torch.backends.mps.is_available():\n",
    "    device = torch.device(\"mps\")\n",
    "\n",
    "    print(\"Using mps backend\")\n",
    "else:\n",
    "    print(\"No GPU available, using the CPU instead.\")\n",
    "    device = torch.device(\"cpu\")"
   ]
  },
  {
   "cell_type": "code",
   "execution_count": 4,
   "id": "c4b4b92f",
   "metadata": {},
   "outputs": [],
   "source": [
    "torch.cuda.empty_cache()"
   ]
  },
  {
   "cell_type": "code",
   "execution_count": 5,
   "id": "9f0758dc",
   "metadata": {},
   "outputs": [],
   "source": [
    "train_dataset = torch.load('train_dataset_kandisky_bert_magicbrush.pth')\n",
    "dev_dataset = torch.load('dev_dataset_kandisky_bert_magicbrush.pth')"
   ]
  },
  {
   "cell_type": "code",
   "execution_count": 6,
   "id": "a0c58c6a",
   "metadata": {},
   "outputs": [],
   "source": [
    "from torch.utils.data import TensorDataset, DataLoader, RandomSampler, SequentialSampler\n",
    "train_dataloader = DataLoader(\n",
    "    train_dataset, sampler=RandomSampler(train_dataset), batch_size=16\n",
    ")\n",
    "\n",
    "validation_dataloader = DataLoader(\n",
    "    dev_dataset, sampler=SequentialSampler(dev_dataset), batch_size=16\n",
    ")"
   ]
  },
  {
   "cell_type": "code",
   "execution_count": 7,
   "id": "8e526a1d",
   "metadata": {},
   "outputs": [],
   "source": [
    "from transformers import AutoTokenizer, AutoProcessor\n",
    "from torch.utils.data import TensorDataset, DataLoader, RandomSampler, SequentialSampler\n",
    "import requests\n",
    "from PIL import Image\n",
    "import numpy as np\n",
    "from io import BytesIO\n",
    "from diffusers import (\n",
    "    KandinskyV22Pipeline,\n",
    "    KandinskyV22PriorEmb2EmbPipeline,\n",
    "    KandinskyV22PriorPipeline,\n",
    ")\n",
    "from diffusers.utils import load_image\n",
    "from torchvision.transforms import ToPILImage"
   ]
  },
  {
   "cell_type": "code",
   "execution_count": 8,
   "id": "d2262a1d",
   "metadata": {
    "scrolled": true
   },
   "outputs": [
    {
     "data": {
      "text/plain": [
       "T2IModel(\n",
       "  (text_model): BertModel(\n",
       "    (embeddings): BertEmbeddings(\n",
       "      (word_embeddings): Embedding(30522, 768, padding_idx=0)\n",
       "      (position_embeddings): Embedding(512, 768)\n",
       "      (token_type_embeddings): Embedding(2, 768)\n",
       "      (LayerNorm): LayerNorm((768,), eps=1e-12, elementwise_affine=True)\n",
       "      (dropout): Dropout(p=0.1, inplace=False)\n",
       "    )\n",
       "    (encoder): BertEncoder(\n",
       "      (layer): ModuleList(\n",
       "        (0-11): 12 x BertLayer(\n",
       "          (attention): BertAttention(\n",
       "            (self): BertSelfAttention(\n",
       "              (query): Linear(in_features=768, out_features=768, bias=True)\n",
       "              (key): Linear(in_features=768, out_features=768, bias=True)\n",
       "              (value): Linear(in_features=768, out_features=768, bias=True)\n",
       "              (dropout): Dropout(p=0.1, inplace=False)\n",
       "            )\n",
       "            (output): BertSelfOutput(\n",
       "              (dense): Linear(in_features=768, out_features=768, bias=True)\n",
       "              (LayerNorm): LayerNorm((768,), eps=1e-12, elementwise_affine=True)\n",
       "              (dropout): Dropout(p=0.1, inplace=False)\n",
       "            )\n",
       "          )\n",
       "          (intermediate): BertIntermediate(\n",
       "            (dense): Linear(in_features=768, out_features=3072, bias=True)\n",
       "            (intermediate_act_fn): GELUActivation()\n",
       "          )\n",
       "          (output): BertOutput(\n",
       "            (dense): Linear(in_features=3072, out_features=768, bias=True)\n",
       "            (LayerNorm): LayerNorm((768,), eps=1e-12, elementwise_affine=True)\n",
       "            (dropout): Dropout(p=0.1, inplace=False)\n",
       "          )\n",
       "        )\n",
       "      )\n",
       "    )\n",
       "    (pooler): BertPooler(\n",
       "      (dense): Linear(in_features=768, out_features=768, bias=True)\n",
       "      (activation): Tanh()\n",
       "    )\n",
       "  )\n",
       "  (vision_model): CLIPVisionModelWithProjection(\n",
       "    (vision_model): CLIPVisionTransformer(\n",
       "      (embeddings): CLIPVisionEmbeddings(\n",
       "        (patch_embedding): Conv2d(3, 1664, kernel_size=(14, 14), stride=(14, 14), bias=False)\n",
       "        (position_embedding): Embedding(257, 1664)\n",
       "      )\n",
       "      (pre_layrnorm): LayerNorm((1664,), eps=1e-05, elementwise_affine=True)\n",
       "      (encoder): CLIPEncoder(\n",
       "        (layers): ModuleList(\n",
       "          (0-47): 48 x CLIPEncoderLayer(\n",
       "            (self_attn): CLIPAttention(\n",
       "              (k_proj): Linear(in_features=1664, out_features=1664, bias=True)\n",
       "              (v_proj): Linear(in_features=1664, out_features=1664, bias=True)\n",
       "              (q_proj): Linear(in_features=1664, out_features=1664, bias=True)\n",
       "              (out_proj): Linear(in_features=1664, out_features=1664, bias=True)\n",
       "            )\n",
       "            (layer_norm1): LayerNorm((1664,), eps=1e-05, elementwise_affine=True)\n",
       "            (mlp): CLIPMLP(\n",
       "              (activation_fn): GELUActivation()\n",
       "              (fc1): Linear(in_features=1664, out_features=8192, bias=True)\n",
       "              (fc2): Linear(in_features=8192, out_features=1664, bias=True)\n",
       "            )\n",
       "            (layer_norm2): LayerNorm((1664,), eps=1e-05, elementwise_affine=True)\n",
       "          )\n",
       "        )\n",
       "      )\n",
       "      (post_layernorm): LayerNorm((1664,), eps=1e-05, elementwise_affine=True)\n",
       "    )\n",
       "    (visual_projection): Linear(in_features=1664, out_features=1280, bias=False)\n",
       "  )\n",
       "  (fc): Linear(in_features=2048, out_features=1280, bias=True)\n",
       ")"
      ]
     },
     "execution_count": 8,
     "metadata": {},
     "output_type": "execute_result"
    }
   ],
   "source": [
    "from transformers import CLIPTextModelWithProjection, CLIPVisionModelWithProjection, BertModel\n",
    "import torch.nn as nn\n",
    "from transformers import AdamW\n",
    "import os\n",
    "\n",
    "\n",
    "class T2IModel(nn.Module):\n",
    "    def __init__(self):\n",
    "        super(T2IModel, self).__init__()\n",
    "        self.text_model = BertModel.from_pretrained('bert-base-uncased')\n",
    "        self.vision_model = CLIPVisionModelWithProjection.from_pretrained(\n",
    "            \"kandinsky-community/kandinsky-2-2-prior\", subfolder=\"image_encoder\"\n",
    "        )\n",
    "        # Adjust the input features of the FC layer to the combined size of text and vision outputs\n",
    "        self.fc = nn.Linear(self.text_model.config.hidden_size + self.vision_model.config.projection_dim, 1280)\n",
    "\n",
    "\n",
    "    def initialize_optimizer(self):\n",
    "        params = (\n",
    "            list(self.fc.parameters())\n",
    "        )\n",
    "        optimizer = AdamW(params, lr=1e-4)\n",
    "        return optimizer\n",
    "\n",
    "    def forward(self, input_imgs, input_txt, attention_mask=None):\n",
    "        text_outputs = self.text_model(input_txt, attention_mask=attention_mask)\n",
    "        text_embeds = text_outputs.last_hidden_state[:, 0, :]  # Use the representation of the [CLS] token\n",
    "\n",
    "        vision_outputs = self.vision_model(input_imgs)\n",
    "        vision_embeds = vision_outputs.image_embeds\n",
    "\n",
    "        combined_embeds = torch.cat((vision_embeds, text_embeds), dim=1)\n",
    "        x = self.fc(combined_embeds)\n",
    "        return x\n",
    "\n",
    "    def output_embedding(self, target_images):\n",
    "        target_image_output = self.vision_model(target_images)\n",
    "        target_image_embeds = target_image_output.image_embeds\n",
    "        return target_image_embeds\n",
    "\n",
    "    def custom_loss(self, output_embeddings, target_embeddings):\n",
    "        mse_loss = nn.MSELoss()\n",
    "        loss = mse_loss(output_embeddings, target_embeddings)\n",
    "\n",
    "        return loss\n",
    "\n",
    "    def save_model(self, output_dir=\"../model_save/\", filename=\"model_checkpoint.pt\"):\n",
    "        if not os.path.exists(output_dir):\n",
    "            os.makedirs(output_dir)\n",
    "        file_path = output_dir + filename\n",
    "        print(\"Saving model to %s\" % file_path)\n",
    "\n",
    "        torch.save(model.state_dict(), file_path)\n",
    "\n",
    "    def get_cos(self, input1, input2):\n",
    "        cos = torch.nn.CosineSimilarity(dim=1, eps=1e-6)\n",
    "        similarity = cos(input1, input2)\n",
    "        avg = torch.sum(similarity) / len(similarity)\n",
    "        return avg\n",
    "\n",
    "    def metrics(self, input1, input2):\n",
    "        cos = self.get_cos(input1, input2)\n",
    "        return [cos]\n",
    "\n",
    "    def visualization(self, input_img, instruction, instruction_attention_mask, filename, negative_instruction=None, negative_instruction_attention_mask=None):\n",
    "        # Generate output embeddings with the provided attention mask\n",
    "        output_embeddings = self.forward(input_img, instruction, attention_mask=instruction_attention_mask)\n",
    "\n",
    "        # Handle the negative instruction if provided\n",
    "        neg_image_embed = None\n",
    "        if negative_instruction is not None and negative_instruction_attention_mask is not None:\n",
    "            neg_image_embed = self.forward(input_img, negative_instruction, attention_mask=negative_instruction_attention_mask)\n",
    "        else:\n",
    "            # If no negative instruction is provided, we'll use a tensor of zeros as a placeholder\n",
    "            neg_image_embed = torch.zeros_like(output_embeddings)\n",
    "\n",
    "        # Initialize the pipeline for the Kandinsky V2.2 decoder\n",
    "        pipe = KandinskyV22Pipeline.from_pretrained(\n",
    "            \"kandinsky-community/kandinsky-2-2-decoder\", torch_dtype=torch.float16\n",
    "        )\n",
    "        pipe.to(device) \n",
    "        \n",
    "        # Generate the image using the pipeline\n",
    "        image = pipe(\n",
    "            image_embeds=output_embeddings,\n",
    "            negative_image_embeds=neg_image_embed,\n",
    "            height=768,\n",
    "            width=768,\n",
    "            num_inference_steps=100,\n",
    "        ).images\n",
    "\n",
    "        # Save the generated image\n",
    "        image[0].save(filename)\n",
    "\n",
    "model = T2IModel()\n",
    "model.to(device=device)"
   ]
  },
  {
   "cell_type": "code",
   "execution_count": 9,
   "id": "16096a00",
   "metadata": {},
   "outputs": [
    {
     "name": "stderr",
     "output_type": "stream",
     "text": [
      "/home/sadibha2/.local/lib/python3.11/site-packages/transformers/optimization.py:411: FutureWarning: This implementation of AdamW is deprecated and will be removed in a future version. Use the PyTorch implementation torch.optim.AdamW instead, or set `no_deprecation_warning=True` to disable this warning\n",
      "  warnings.warn(\n"
     ]
    }
   ],
   "source": [
    "optimizer = model.initialize_optimizer()"
   ]
  },
  {
   "cell_type": "markdown",
   "id": "8bfdccfa",
   "metadata": {},
   "source": [
    "### Use the below cell not to retrain but load the model"
   ]
  },
  {
   "cell_type": "code",
   "execution_count": null,
   "id": "bc36a588",
   "metadata": {},
   "outputs": [],
   "source": [
    "import torch\n",
    "\n",
    "def load_model_from_checkpoint(model, checkpoint_path, device='cuda'):\n",
    "    \"\"\"\n",
    "    Load a PyTorch model from a saved checkpoint.\n",
    "    \n",
    "    Parameters:\n",
    "    - model (torch.nn.Module): The model architecture (untrained).\n",
    "    - checkpoint_path (str): Path to the saved model checkpoint (.pth file).\n",
    "    - device (str): Device to which the model should be loaded ('cuda' or 'cpu').\n",
    "\n",
    "    Returns:\n",
    "    - model (torch.nn.Module): Model populated with the loaded weights.\n",
    "    \"\"\"\n",
    "\n",
    "    # Load the model state dictionary from the specified path\n",
    "    state_dict = torch.load(checkpoint_path, map_location=device)\n",
    "    \n",
    "    # Load the state dictionary into the model\n",
    "    model.load_state_dict(state_dict)\n",
    "    \n",
    "    # Move the model to the desired device\n",
    "    model.to(device)\n",
    "    \n",
    "    return model\n",
    "\n",
    "# Usage\n",
    "loaded_model = load_model_from_checkpoint(model, 'magicbrush_imagewithinstruction_10epochs_full_v2.pth', device='cuda')\n"
   ]
  },
  {
   "cell_type": "markdown",
   "id": "678f507f",
   "metadata": {},
   "source": [
    "### Use the below cell only to re-train or else don't execute"
   ]
  },
  {
   "cell_type": "code",
   "execution_count": 10,
   "id": "bc633e12",
   "metadata": {},
   "outputs": [
    {
     "name": "stdout",
     "output_type": "stream",
     "text": [
      "\n",
      "======== Epoch 1 / 10 ========\n",
      "Training...\n"
     ]
    },
    {
     "data": {
      "application/vnd.jupyter.widget-view+json": {
       "model_id": "249932df6ff94403b09941df9529c1c7",
       "version_major": 2,
       "version_minor": 0
      },
      "text/plain": [
       "Training:   0%|          | 0/551 [00:00<?, ?it/s]"
      ]
     },
     "metadata": {},
     "output_type": "display_data"
    },
    {
     "name": "stdout",
     "output_type": "stream",
     "text": [
      "  Average training loss: 0.72\n",
      "\n",
      "Running Validation...\n"
     ]
    },
    {
     "data": {
      "application/vnd.jupyter.widget-view+json": {
       "model_id": "fe94f1ca10ff41538a15ab1a3f0ef0a2",
       "version_major": 2,
       "version_minor": 0
      },
      "text/plain": [
       "Validation:   0%|          | 0/33 [00:00<?, ?it/s]"
      ]
     },
     "metadata": {},
     "output_type": "display_data"
    },
    {
     "name": "stdout",
     "output_type": "stream",
     "text": [
      "  Validation Loss: 0.52\n",
      "  Validation Cosine Similarity: 0.79\n",
      "\n",
      "======== Epoch 2 / 10 ========\n",
      "Training...\n"
     ]
    },
    {
     "data": {
      "application/vnd.jupyter.widget-view+json": {
       "model_id": "248db2d25c8e4643942c579ccdff934e",
       "version_major": 2,
       "version_minor": 0
      },
      "text/plain": [
       "Training:   0%|          | 0/551 [00:00<?, ?it/s]"
      ]
     },
     "metadata": {},
     "output_type": "display_data"
    },
    {
     "name": "stdout",
     "output_type": "stream",
     "text": [
      "  Average training loss: 0.42\n",
      "\n",
      "Running Validation...\n"
     ]
    },
    {
     "data": {
      "application/vnd.jupyter.widget-view+json": {
       "model_id": "bd05f60c450c4d809678ac2118c8d33e",
       "version_major": 2,
       "version_minor": 0
      },
      "text/plain": [
       "Validation:   0%|          | 0/33 [00:00<?, ?it/s]"
      ]
     },
     "metadata": {},
     "output_type": "display_data"
    },
    {
     "name": "stdout",
     "output_type": "stream",
     "text": [
      "  Validation Loss: 0.38\n",
      "  Validation Cosine Similarity: 0.85\n",
      "\n",
      "======== Epoch 3 / 10 ========\n",
      "Training...\n"
     ]
    },
    {
     "data": {
      "application/vnd.jupyter.widget-view+json": {
       "model_id": "dc18942be1554cf9859141af978d800e",
       "version_major": 2,
       "version_minor": 0
      },
      "text/plain": [
       "Training:   0%|          | 0/551 [00:00<?, ?it/s]"
      ]
     },
     "metadata": {},
     "output_type": "display_data"
    },
    {
     "name": "stdout",
     "output_type": "stream",
     "text": [
      "  Average training loss: 0.33\n",
      "\n",
      "Running Validation...\n"
     ]
    },
    {
     "data": {
      "application/vnd.jupyter.widget-view+json": {
       "model_id": "0e46cf31eed046d78f5db36fe78baf38",
       "version_major": 2,
       "version_minor": 0
      },
      "text/plain": [
       "Validation:   0%|          | 0/33 [00:00<?, ?it/s]"
      ]
     },
     "metadata": {},
     "output_type": "display_data"
    },
    {
     "name": "stdout",
     "output_type": "stream",
     "text": [
      "  Validation Loss: 0.33\n",
      "  Validation Cosine Similarity: 0.87\n",
      "\n",
      "======== Epoch 4 / 10 ========\n",
      "Training...\n"
     ]
    },
    {
     "data": {
      "application/vnd.jupyter.widget-view+json": {
       "model_id": "00af172ed44847acb482b96f10334eb3",
       "version_major": 2,
       "version_minor": 0
      },
      "text/plain": [
       "Training:   0%|          | 0/551 [00:00<?, ?it/s]"
      ]
     },
     "metadata": {},
     "output_type": "display_data"
    },
    {
     "name": "stdout",
     "output_type": "stream",
     "text": [
      "  Average training loss: 0.28\n",
      "\n",
      "Running Validation...\n"
     ]
    },
    {
     "data": {
      "application/vnd.jupyter.widget-view+json": {
       "model_id": "b35bbe15df8541438b45d99b1d746287",
       "version_major": 2,
       "version_minor": 0
      },
      "text/plain": [
       "Validation:   0%|          | 0/33 [00:00<?, ?it/s]"
      ]
     },
     "metadata": {},
     "output_type": "display_data"
    },
    {
     "name": "stdout",
     "output_type": "stream",
     "text": [
      "  Validation Loss: 0.29\n",
      "  Validation Cosine Similarity: 0.89\n",
      "\n",
      "======== Epoch 5 / 10 ========\n",
      "Training...\n"
     ]
    },
    {
     "data": {
      "application/vnd.jupyter.widget-view+json": {
       "model_id": "6abac69bfcfc4aeea25f803e387580cc",
       "version_major": 2,
       "version_minor": 0
      },
      "text/plain": [
       "Training:   0%|          | 0/551 [00:00<?, ?it/s]"
      ]
     },
     "metadata": {},
     "output_type": "display_data"
    },
    {
     "name": "stdout",
     "output_type": "stream",
     "text": [
      "  Average training loss: 0.26\n",
      "\n",
      "Running Validation...\n"
     ]
    },
    {
     "data": {
      "application/vnd.jupyter.widget-view+json": {
       "model_id": "a18ce64208ac4d3e99581a35bcf84663",
       "version_major": 2,
       "version_minor": 0
      },
      "text/plain": [
       "Validation:   0%|          | 0/33 [00:00<?, ?it/s]"
      ]
     },
     "metadata": {},
     "output_type": "display_data"
    },
    {
     "name": "stdout",
     "output_type": "stream",
     "text": [
      "  Validation Loss: 0.27\n",
      "  Validation Cosine Similarity: 0.89\n",
      "\n",
      "======== Epoch 6 / 10 ========\n",
      "Training...\n"
     ]
    },
    {
     "data": {
      "application/vnd.jupyter.widget-view+json": {
       "model_id": "6d8f408e25b44345b454016793471bc8",
       "version_major": 2,
       "version_minor": 0
      },
      "text/plain": [
       "Training:   0%|          | 0/551 [00:00<?, ?it/s]"
      ]
     },
     "metadata": {},
     "output_type": "display_data"
    },
    {
     "name": "stdout",
     "output_type": "stream",
     "text": [
      "  Average training loss: 0.24\n",
      "\n",
      "Running Validation...\n"
     ]
    },
    {
     "data": {
      "application/vnd.jupyter.widget-view+json": {
       "model_id": "22dde6919c534dd796891dc2bef8cdd2",
       "version_major": 2,
       "version_minor": 0
      },
      "text/plain": [
       "Validation:   0%|          | 0/33 [00:00<?, ?it/s]"
      ]
     },
     "metadata": {},
     "output_type": "display_data"
    },
    {
     "name": "stdout",
     "output_type": "stream",
     "text": [
      "  Validation Loss: 0.26\n",
      "  Validation Cosine Similarity: 0.90\n",
      "\n",
      "======== Epoch 7 / 10 ========\n",
      "Training...\n"
     ]
    },
    {
     "data": {
      "application/vnd.jupyter.widget-view+json": {
       "model_id": "fc2bc4c31c2d4df382acc19f0c2fac60",
       "version_major": 2,
       "version_minor": 0
      },
      "text/plain": [
       "Training:   0%|          | 0/551 [00:00<?, ?it/s]"
      ]
     },
     "metadata": {},
     "output_type": "display_data"
    },
    {
     "name": "stdout",
     "output_type": "stream",
     "text": [
      "  Average training loss: 0.23\n",
      "\n",
      "Running Validation...\n"
     ]
    },
    {
     "data": {
      "application/vnd.jupyter.widget-view+json": {
       "model_id": "5e7c74db42c44fb4b6fb99e1ad0144bd",
       "version_major": 2,
       "version_minor": 0
      },
      "text/plain": [
       "Validation:   0%|          | 0/33 [00:00<?, ?it/s]"
      ]
     },
     "metadata": {},
     "output_type": "display_data"
    },
    {
     "name": "stdout",
     "output_type": "stream",
     "text": [
      "  Validation Loss: 0.25\n",
      "  Validation Cosine Similarity: 0.90\n",
      "\n",
      "======== Epoch 8 / 10 ========\n",
      "Training...\n"
     ]
    },
    {
     "data": {
      "application/vnd.jupyter.widget-view+json": {
       "model_id": "520dc722768441988f78bd9f10e197ca",
       "version_major": 2,
       "version_minor": 0
      },
      "text/plain": [
       "Training:   0%|          | 0/551 [00:00<?, ?it/s]"
      ]
     },
     "metadata": {},
     "output_type": "display_data"
    },
    {
     "name": "stdout",
     "output_type": "stream",
     "text": [
      "  Average training loss: 0.23\n",
      "\n",
      "Running Validation...\n"
     ]
    },
    {
     "data": {
      "application/vnd.jupyter.widget-view+json": {
       "model_id": "ed03e0c3503f450e9cb9414713695596",
       "version_major": 2,
       "version_minor": 0
      },
      "text/plain": [
       "Validation:   0%|          | 0/33 [00:00<?, ?it/s]"
      ]
     },
     "metadata": {},
     "output_type": "display_data"
    },
    {
     "name": "stdout",
     "output_type": "stream",
     "text": [
      "  Validation Loss: 0.25\n",
      "  Validation Cosine Similarity: 0.91\n",
      "\n",
      "======== Epoch 9 / 10 ========\n",
      "Training...\n"
     ]
    },
    {
     "data": {
      "application/vnd.jupyter.widget-view+json": {
       "model_id": "22e978838c8b438ebff9114a8e6fc89c",
       "version_major": 2,
       "version_minor": 0
      },
      "text/plain": [
       "Training:   0%|          | 0/551 [00:00<?, ?it/s]"
      ]
     },
     "metadata": {},
     "output_type": "display_data"
    },
    {
     "name": "stdout",
     "output_type": "stream",
     "text": [
      "  Average training loss: 0.22\n",
      "\n",
      "Running Validation...\n"
     ]
    },
    {
     "data": {
      "application/vnd.jupyter.widget-view+json": {
       "model_id": "184d1067f9204f3699980d0d7bff3618",
       "version_major": 2,
       "version_minor": 0
      },
      "text/plain": [
       "Validation:   0%|          | 0/33 [00:00<?, ?it/s]"
      ]
     },
     "metadata": {},
     "output_type": "display_data"
    },
    {
     "name": "stdout",
     "output_type": "stream",
     "text": [
      "  Validation Loss: 0.24\n",
      "  Validation Cosine Similarity: 0.91\n",
      "\n",
      "======== Epoch 10 / 10 ========\n",
      "Training...\n"
     ]
    },
    {
     "data": {
      "application/vnd.jupyter.widget-view+json": {
       "model_id": "10f1bddcf0364ec38c01e1cdbdc3ab37",
       "version_major": 2,
       "version_minor": 0
      },
      "text/plain": [
       "Training:   0%|          | 0/551 [00:00<?, ?it/s]"
      ]
     },
     "metadata": {},
     "output_type": "display_data"
    },
    {
     "name": "stdout",
     "output_type": "stream",
     "text": [
      "  Average training loss: 0.22\n",
      "\n",
      "Running Validation...\n"
     ]
    },
    {
     "data": {
      "application/vnd.jupyter.widget-view+json": {
       "model_id": "8e2143a4342a4a95ae10f97a387a2e13",
       "version_major": 2,
       "version_minor": 0
      },
      "text/plain": [
       "Validation:   0%|          | 0/33 [00:00<?, ?it/s]"
      ]
     },
     "metadata": {},
     "output_type": "display_data"
    },
    {
     "name": "stdout",
     "output_type": "stream",
     "text": [
      "  Validation Loss: 0.24\n",
      "  Validation Cosine Similarity: 0.91\n",
      "Training completed!\n"
     ]
    }
   ],
   "source": [
    "from transformers import BertTokenizer\n",
    "import torch\n",
    "from tqdm.notebook import tqdm\n",
    "\n",
    "# Initialize the tokenizer\n",
    "tokenizer = BertTokenizer.from_pretrained('bert-base-uncased')\n",
    "\n",
    "device = torch.device(\"cuda\" if torch.cuda.is_available() else \"cpu\")\n",
    "model = T2IModel().to(device)\n",
    "optimizer = model.initialize_optimizer()\n",
    "\n",
    "num_epochs = 10\n",
    "training_stats = []\n",
    "\n",
    "for epoch in range(num_epochs):\n",
    "    print(f'\\n======== Epoch {epoch + 1} / {num_epochs} ========')\n",
    "    print('Training...')\n",
    "\n",
    "    total_train_loss = 0\n",
    "    model.train()\n",
    "\n",
    "    for batch in tqdm(train_dataloader, desc=\"Training\"):\n",
    "        optimizer.zero_grad()\n",
    "\n",
    "        # Convert textual input to the right format\n",
    "        instructions = batch[1]\n",
    "        if isinstance(instructions, torch.Tensor):\n",
    "            instructions = instructions.tolist()\n",
    "        if not isinstance(instructions[0], str):\n",
    "            instructions = [tokenizer.decode(text_input) for text_input in instructions]\n",
    "\n",
    "        inputs = tokenizer(instructions, padding=True, truncation=True, return_tensors=\"pt\")\n",
    "        input_ids = inputs['input_ids'].to(device)\n",
    "        attention_masks = inputs['attention_mask'].to(device)\n",
    "\n",
    "        # Prepare image data\n",
    "        input_images = batch[0].to(device)\n",
    "        target_images = batch[2].to(device)\n",
    "\n",
    "        # Forward pass\n",
    "        output_embeddings = model(input_images, input_ids, attention_mask=attention_masks)\n",
    "\n",
    "        # Generate target embeddings\n",
    "        target_img_embeddings = model.output_embedding(target_images)\n",
    "\n",
    "        # Calculate loss\n",
    "        loss = model.custom_loss(output_embeddings, target_img_embeddings)\n",
    "        total_train_loss += loss.item()\n",
    "\n",
    "        # Backward pass and optimization\n",
    "        loss.backward()\n",
    "        optimizer.step()\n",
    "\n",
    "        # Clear memory\n",
    "        del input_images, input_ids, attention_masks, target_images, output_embeddings, target_img_embeddings, loss\n",
    "\n",
    "    avg_train_loss = total_train_loss / len(train_dataloader)\n",
    "    print(f\"  Average training loss: {avg_train_loss:.2f}\")\n",
    "\n",
    "    # Validation phase\n",
    "    print(\"\\nRunning Validation...\")\n",
    "    model.eval()\n",
    "\n",
    "    total_eval_loss = 0\n",
    "    avg_cos = 0\n",
    "\n",
    "    for batch in tqdm(validation_dataloader, desc=\"Validation\"):\n",
    "        with torch.no_grad():\n",
    "            # Convert textual input to the right format\n",
    "            instructions = batch[1]\n",
    "            if isinstance(instructions, torch.Tensor):\n",
    "                instructions = instructions.tolist()\n",
    "            if not isinstance(instructions[0], str):\n",
    "                instructions = [tokenizer.decode(text_input) for text_input in instructions]\n",
    "\n",
    "            inputs = tokenizer(instructions, padding=True, truncation=True, return_tensors=\"pt\")\n",
    "            input_ids = inputs['input_ids'].to(device)\n",
    "            attention_masks = inputs['attention_mask'].to(device)\n",
    "\n",
    "            # Prepare image data\n",
    "            input_images = batch[0].to(device)\n",
    "            target_images = batch[2].to(device)\n",
    "\n",
    "            # Forward pass\n",
    "            output_embeddings = model(input_images, input_ids, attention_mask=attention_masks)\n",
    "            target_img_embeddings = model.output_embedding(target_images)\n",
    "\n",
    "            # Calculate loss\n",
    "            loss = model.custom_loss(output_embeddings, target_img_embeddings)\n",
    "            total_eval_loss += loss.item()\n",
    "            avg_cos += model.get_cos(output_embeddings, target_img_embeddings).item()\n",
    "\n",
    "    avg_val_loss = total_eval_loss / len(validation_dataloader)\n",
    "    avg_cos /= len(validation_dataloader)\n",
    "    print(f\"  Validation Loss: {avg_val_loss:.2f}\")\n",
    "    print(f\"  Validation Cosine Similarity: {avg_cos:.2f}\")\n",
    "\n",
    "    # Store the statistics\n",
    "    training_stats.append({\n",
    "        \"epoch\": epoch + 1,\n",
    "        \"Training Loss\": avg_train_loss,\n",
    "        \"Validation Loss\": avg_val_loss,\n",
    "        \"Validation Cosine Similarity\": avg_cos,\n",
    "    })\n",
    "\n",
    "print(\"Training completed!\")\n"
   ]
  },
  {
   "cell_type": "code",
   "execution_count": 11,
   "id": "88a8bfa8",
   "metadata": {},
   "outputs": [],
   "source": [
    "torch.save(model.state_dict(), 'magicbrush_kadinsky_bert_imagewithinstruction_10epochs_full_v1.pth')"
   ]
  },
  {
   "cell_type": "code",
   "execution_count": null,
   "id": "f608b741",
   "metadata": {},
   "outputs": [],
   "source": [
    "def compute_max_instruction_length(dataloader, tokenizer):\n",
    "    \"\"\"\n",
    "    Compute the maximum instruction length from the dataloader batches.\n",
    "\n",
    "    Args:\n",
    "    - dataloader (DataLoader): DataLoader containing your data.\n",
    "    - tokenizer: Tokenizer used to tokenize the instructions.\n",
    "\n",
    "    Returns:\n",
    "    - int: Maximum instruction length.\n",
    "    \"\"\"\n",
    "    max_len = 0\n",
    "    \n",
    "    for batch in dataloader:\n",
    "        instructions = batch[1]  # Assuming instructions are in position 1 in your batch\n",
    "        for instruction in instructions:\n",
    "            decoded_string = tokenizer.decode(instruction)\n",
    "            tokens = tokenizer.tokenize(decoded_string)\n",
    "            length = len(tokens)\n",
    "            if length > max_len:\n",
    "                max_len = length\n",
    "                \n",
    "    return max_len\n",
    "\n",
    "def custom_encode(instruction, max_len, tokenizer):\n",
    "    encoded_inst = tokenizer.encode_plus(\n",
    "    instruction,  # Sentence to encode.\n",
    "    add_special_tokens=True,  # Add '[CLS]' and '[SEP]'\n",
    "    max_length=max_len + 10,  # Pad & truncate all sentences.\n",
    "    pad_to_max_length=True,\n",
    "    padding=\"max_length\",\n",
    "    return_tensors=\"pt\",  # Return pytorch tensors\n",
    "    )\n",
    "    \n",
    "    return encoded_inst[\"input_ids\"]\n",
    "    "
   ]
  },
  {
   "cell_type": "code",
   "execution_count": null,
   "id": "8d016230",
   "metadata": {},
   "outputs": [],
   "source": [
    "from PIL import Image\n",
    "img = Image.open(\"cat1.png\")\n",
    "tokenizer = AutoTokenizer.from_pretrained(\"openai/clip-vit-base-patch32\")\n",
    "processor = AutoProcessor.from_pretrained(\"openai/clip-vit-base-patch32\")\n",
    "\n",
    "input_image = processor(images=img, return_tensors=\"pt\")[\"pixel_values\"]\n",
    "\n",
    "max_len = compute_max_instruction_length(train_dataloader, tokenizer)\n",
    "\n",
    "instruction = \"Put a toy in the cat's mouth.\"\n",
    "instruction_1 = \"Low quality image\"\n",
    "\n",
    "input_image = input_image.to(device)\n",
    "instruction = custom_encode(instruction,max_len,tokenizer).to(device)\n",
    "instruction_1 = custom_encode(instruction_1,max_len,tokenizer).to(device)\n",
    "\n",
    "model.visualization(input_image, instruction, instruction_1)"
   ]
  },
  {
   "cell_type": "markdown",
   "id": "664500c2",
   "metadata": {},
   "source": [
    "## Run the below code for plotting metrics"
   ]
  },
  {
   "cell_type": "code",
   "execution_count": 12,
   "id": "63bf598e",
   "metadata": {},
   "outputs": [
    {
     "data": {
      "text/html": [
       "<div>\n",
       "<style scoped>\n",
       "    .dataframe tbody tr th:only-of-type {\n",
       "        vertical-align: middle;\n",
       "    }\n",
       "\n",
       "    .dataframe tbody tr th {\n",
       "        vertical-align: top;\n",
       "    }\n",
       "\n",
       "    .dataframe thead th {\n",
       "        text-align: right;\n",
       "    }\n",
       "</style>\n",
       "<table border=\"1\" class=\"dataframe\">\n",
       "  <thead>\n",
       "    <tr style=\"text-align: right;\">\n",
       "      <th></th>\n",
       "      <th>Training Loss</th>\n",
       "      <th>Validation Loss</th>\n",
       "      <th>Validation Cosine Similarity</th>\n",
       "    </tr>\n",
       "    <tr>\n",
       "      <th>epoch</th>\n",
       "      <th></th>\n",
       "      <th></th>\n",
       "      <th></th>\n",
       "    </tr>\n",
       "  </thead>\n",
       "  <tbody>\n",
       "    <tr>\n",
       "      <th>1</th>\n",
       "      <td>0.72</td>\n",
       "      <td>0.52</td>\n",
       "      <td>0.79</td>\n",
       "    </tr>\n",
       "    <tr>\n",
       "      <th>2</th>\n",
       "      <td>0.42</td>\n",
       "      <td>0.38</td>\n",
       "      <td>0.85</td>\n",
       "    </tr>\n",
       "    <tr>\n",
       "      <th>3</th>\n",
       "      <td>0.33</td>\n",
       "      <td>0.33</td>\n",
       "      <td>0.87</td>\n",
       "    </tr>\n",
       "    <tr>\n",
       "      <th>4</th>\n",
       "      <td>0.28</td>\n",
       "      <td>0.29</td>\n",
       "      <td>0.89</td>\n",
       "    </tr>\n",
       "    <tr>\n",
       "      <th>5</th>\n",
       "      <td>0.26</td>\n",
       "      <td>0.27</td>\n",
       "      <td>0.89</td>\n",
       "    </tr>\n",
       "    <tr>\n",
       "      <th>6</th>\n",
       "      <td>0.24</td>\n",
       "      <td>0.26</td>\n",
       "      <td>0.90</td>\n",
       "    </tr>\n",
       "    <tr>\n",
       "      <th>7</th>\n",
       "      <td>0.23</td>\n",
       "      <td>0.25</td>\n",
       "      <td>0.90</td>\n",
       "    </tr>\n",
       "    <tr>\n",
       "      <th>8</th>\n",
       "      <td>0.23</td>\n",
       "      <td>0.25</td>\n",
       "      <td>0.91</td>\n",
       "    </tr>\n",
       "    <tr>\n",
       "      <th>9</th>\n",
       "      <td>0.22</td>\n",
       "      <td>0.24</td>\n",
       "      <td>0.91</td>\n",
       "    </tr>\n",
       "    <tr>\n",
       "      <th>10</th>\n",
       "      <td>0.22</td>\n",
       "      <td>0.24</td>\n",
       "      <td>0.91</td>\n",
       "    </tr>\n",
       "  </tbody>\n",
       "</table>\n",
       "</div>"
      ],
      "text/plain": [
       "       Training Loss  Validation Loss  Validation Cosine Similarity\n",
       "epoch                                                              \n",
       "1               0.72             0.52                          0.79\n",
       "2               0.42             0.38                          0.85\n",
       "3               0.33             0.33                          0.87\n",
       "4               0.28             0.29                          0.89\n",
       "5               0.26             0.27                          0.89\n",
       "6               0.24             0.26                          0.90\n",
       "7               0.23             0.25                          0.90\n",
       "8               0.23             0.25                          0.91\n",
       "9               0.22             0.24                          0.91\n",
       "10              0.22             0.24                          0.91"
      ]
     },
     "execution_count": 12,
     "metadata": {},
     "output_type": "execute_result"
    }
   ],
   "source": [
    "import pandas as pd\n",
    "\n",
    "pd.set_option(\"display.precision\", 2)\n",
    "df_stats = pd.DataFrame(data=training_stats)\n",
    "df_stats = df_stats.set_index(\"epoch\")\n",
    "df_stats"
   ]
  },
  {
   "cell_type": "code",
   "execution_count": 15,
   "id": "4cd5c1c4",
   "metadata": {},
   "outputs": [
    {
     "data": {
      "image/png": "[encoded data removed]",
      "text/plain": [
       "<Figure size 1200x600 with 1 Axes>"
      ]
     },
     "metadata": {},
     "output_type": "display_data"
    }
   ],
   "source": [
    "import matplotlib.pyplot as plt\n",
    "\n",
    "%matplotlib inline\n",
    "\n",
    "import seaborn as sns\n",
    "\n",
    "\n",
    "# Use plot styling from seaborn.\n",
    "sns.set(style=\"darkgrid\")\n",
    "\n",
    "# Increase the plot size and font size.\n",
    "sns.set(font_scale=1.5)\n",
    "plt.rcParams[\"figure.figsize\"] = (12, 6)\n",
    "\n",
    "# Plot the learning curve.\n",
    "plt.plot(df_stats[\"Training Loss\"], \"b-o\", label=\"Training\")\n",
    "plt.plot(df_stats[\"Validation Loss\"], \"g-o\", label=\"Validation\")\n",
    "plt.plot(df_stats[\"Validation Cosine Similarity\"], \"y-o\", label=\"Val Cosine Similarity\")\n",
    "\n",
    "# Label the plot.\n",
    "plt.title(\"Training & Validation Loss\")\n",
    "plt.xlabel(\"Epoch\")\n",
    "plt.ylabel(\"Loss\")\n",
    "plt.legend()\n",
    "plt.xticks(df_stats.index)\n",
    "\n",
    "plt.show()"
   ]
  },
  {
   "cell_type": "code",
   "execution_count": null,
   "id": "72c05e68",
   "metadata": {},
   "outputs": [],
   "source": []
  }
 ],
 "metadata": {
  "kernelspec": {
   "display_name": "Python 3 (ipykernel)",
   "language": "python",
   "name": "python3"
  },
  "language_info": {
   "codemirror_mode": {
    "name": "ipython",
    "version": 3
   },
   "file_extension": ".py",
   "mimetype": "text/x-python",
   "name": "python",
   "nbconvert_exporter": "python",
   "pygments_lexer": "ipython3",
   "version": "3.11.5"
  }
 },
 "nbformat": 4,
 "nbformat_minor": 5
}
