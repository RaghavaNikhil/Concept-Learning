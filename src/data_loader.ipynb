{
 "cells": [
  {
   "cell_type": "code",
   "execution_count": 1,
   "metadata": {},
   "outputs": [],
   "source": [
    "from torch.utils.data import DataLoader, RandomSampler, SequentialSampler\n",
    "import requests\n",
    "from PIL import Image\n",
    "import numpy as np\n",
    "from io import BytesIO"
   ]
  },
  {
   "cell_type": "code",
   "execution_count": 2,
   "metadata": {},
   "outputs": [],
   "source": [
    "batch_size = 32\n",
    "target_size = (1024, 1024)\n",
    "\n",
    "trainDB_url = \"https://datasets-server.huggingface.co/first-rows?dataset=osunlp%2FMagicBrush&config=default&split=train\"\n",
    "devDB_url = \"https://datasets-server.huggingface.co/first-rows?dataset=osunlp%2FMagicBrush&config=default&split=dev\""
   ]
  },
  {
   "cell_type": "code",
   "execution_count": 3,
   "metadata": {},
   "outputs": [],
   "source": [
    "res = requests.get(trainDB_url)\n",
    "features = res.json()['features']\n",
    "data = res.json()['rows']"
   ]
  },
  {
   "cell_type": "code",
   "execution_count": 4,
   "metadata": {},
   "outputs": [],
   "source": [
    "train_instructions = []\n",
    "train_input_imgs = []\n",
    "train_output_imgs = []"
   ]
  },
  {
   "cell_type": "code",
   "execution_count": 5,
   "metadata": {},
   "outputs": [],
   "source": [
    "for d in data:\n",
    "  # Getting the instruction from dataset\n",
    "  train_instructions.append(d['row']['instruction'])\n",
    "\n",
    "  # downloading the source image from the url\n",
    "  res = requests.get(d['row']['source_img']['src'])\n",
    "  img = Image.open(BytesIO(res.content))\n",
    "  img = img.resize(target_size)\n",
    "  input_img = np.array(img)\n",
    "\n",
    "  # downloading the target image from the url\n",
    "  res = requests.get(d['row']['target_img']['src'])\n",
    "  img = Image.open(BytesIO(res.content))\n",
    "  img = img.resize(target_size)\n",
    "  output_img = np.array(img)\n",
    "\n",
    "  train_input_imgs.append(input_img)\n",
    "  train_output_imgs.append(output_img)"
   ]
  },
  {
   "cell_type": "code",
   "execution_count": 6,
   "metadata": {},
   "outputs": [],
   "source": [
    "res = requests.get(devDB_url)\n",
    "features = res.json()['features']\n",
    "data = res.json()['rows']"
   ]
  },
  {
   "cell_type": "code",
   "execution_count": 7,
   "metadata": {},
   "outputs": [],
   "source": [
    "dev_instructions = []\n",
    "dev_input_imgs = []\n",
    "dev_output_imgs = []"
   ]
  },
  {
   "cell_type": "code",
   "execution_count": 8,
   "metadata": {},
   "outputs": [],
   "source": [
    "for d in data:\n",
    "  # Getting the instruction from dataset\n",
    "  dev_instructions.append(d['row']['instruction'])\n",
    "\n",
    "  # downloading the source image from the url\n",
    "  res = requests.get(d['row']['source_img']['src'])\n",
    "  img = Image.open(BytesIO(res.content))\n",
    "  img = img.resize(target_size)\n",
    "  input_img = np.array(img)\n",
    "\n",
    "  # downloading the target image from the url\n",
    "  res = requests.get(d['row']['target_img']['src'])\n",
    "  img = Image.open(BytesIO(res.content))\n",
    "  img = img.resize(target_size)\n",
    "  output_img = np.array(img)\n",
    "\n",
    "  dev_input_imgs.append(input_img)\n",
    "  dev_output_imgs.append(output_img)"
   ]
  },
  {
   "cell_type": "code",
   "execution_count": 9,
   "metadata": {},
   "outputs": [],
   "source": [
    "train_dataset = []\n",
    "l = len(train_input_imgs)\n",
    "for i in range(l):\n",
    "    train_dataset.append(\n",
    "        (train_input_imgs[i], train_instructions[i], train_output_imgs[i])\n",
    "    )\n",
    "\n",
    "\n",
    "dev_dataset = []\n",
    "l = len(dev_input_imgs)\n",
    "for i in range(l):\n",
    "    dev_dataset.append((dev_input_imgs[i], dev_instructions[i], dev_output_imgs[i]))"
   ]
  },
  {
   "cell_type": "code",
   "execution_count": 10,
   "metadata": {},
   "outputs": [],
   "source": [
    "train_dataloader = DataLoader(\n",
    "    train_dataset, sampler=RandomSampler(train_dataset), batch_size=batch_size\n",
    ")\n",
    "\n",
    "validation_dataloader = DataLoader(\n",
    "    dev_dataset, sampler=SequentialSampler(dev_dataset), batch_size=batch_size\n",
    ")"
   ]
  },
  {
   "cell_type": "code",
   "execution_count": null,
   "metadata": {},
   "outputs": [],
   "source": []
  },
  {
   "cell_type": "code",
   "execution_count": null,
   "metadata": {},
   "outputs": [],
   "source": []
  }
 ],
 "metadata": {
  "kernelspec": {
   "display_name": "t2i",
   "language": "python",
   "name": "python3"
  },
  "language_info": {
   "codemirror_mode": {
    "name": "ipython",
    "version": 3
   },
   "file_extension": ".py",
   "mimetype": "text/x-python",
   "name": "python",
   "nbconvert_exporter": "python",
   "pygments_lexer": "ipython3",
   "version": "3.10.13"
  }
 },
 "nbformat": 4,
 "nbformat_minor": 2
}
