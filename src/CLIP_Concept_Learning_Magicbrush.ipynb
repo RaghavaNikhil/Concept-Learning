{
 "cells": [
  {
   "cell_type": "code",
   "execution_count": 1,
   "metadata": {
    "colab": {
     "base_uri": "https://localhost:8080/"
    },
    "id": "LK58PE1E4qUJ",
    "outputId": "5d5c7456-9628-461c-c8bd-b3306554fa3a"
   },
   "outputs": [
    {
     "name": "stdout",
     "output_type": "stream",
     "text": [
<<<<<<< HEAD
      "Using mps backend\n"
=======
      "No GPU available, using the CPU instead.\n"
>>>>>>> main
     ]
    }
   ],
   "source": [
    "import torch\n",
    "\n",
    "# If there's a GPU available...\n",
    "if torch.cuda.is_available():\n",
    "    # Tell PyTorch to use the GPU.\n",
    "    device = torch.device(\"cuda\")\n",
    "\n",
    "    print(\"There are %d GPU(s) available.\" % torch.cuda.device_count())\n",
    "\n",
    "    print(\"We will use the GPU:\", torch.cuda.get_device_name(0))\n",
    "\n",
    "# If not...\n",
    "elif torch.backends.mps.is_available():\n",
    "    device = torch.device(\"mps\")\n",
    "\n",
    "    print(\"Using mps backend\")\n",
    "else:\n",
    "    print(\"No GPU available, using the CPU instead.\")\n",
    "    device = torch.device(\"cpu\")"
   ]
  },
  {
   "cell_type": "code",
   "execution_count": 2,
   "metadata": {},
   "outputs": [],
   "source": [
    "# !pip install transformer"
   ]
  },
  {
   "cell_type": "code",
<<<<<<< HEAD
   "execution_count": 3,
=======
   "execution_count": 2,
>>>>>>> main
   "metadata": {
    "id": "J9s15A6S4w48"
   },
   "outputs": [
    {
     "name": "stderr",
     "output_type": "stream",
     "text": [
      "/Users/abhiram/miniconda3/envs/nlp/lib/python3.10/site-packages/tqdm/auto.py:21: TqdmWarning: IProgress not found. Please update jupyter and ipywidgets. See https://ipywidgets.readthedocs.io/en/stable/user_install.html\n",
      "  from .autonotebook import tqdm as notebook_tqdm\n"
     ]
    }
   ],
   "source": [
    "from transformers import AutoTokenizer, AutoProcessor\n",
    "from torch.utils.data import TensorDataset, DataLoader, RandomSampler, SequentialSampler\n",
    "import requests\n",
    "from PIL import Image\n",
    "import numpy as np\n",
    "from io import BytesIO\n",
    "from diffusers import (\n",
    "    KandinskyV22Pipeline,\n",
    "    KandinskyV22PriorEmb2EmbPipeline,\n",
    "    KandinskyV22PriorPipeline,\n",
    ")\n",
    "from diffusers.utils import load_image\n",
    "\n",
    "batch_size = 32\n",
    "\n",
    "trainDB_url = \"https://datasets-server.huggingface.co/first-rows?dataset=osunlp%2FMagicBrush&config=default&split=train\"\n",
    "devDB_url = \"https://datasets-server.huggingface.co/first-rows?dataset=osunlp%2FMagicBrush&config=default&split=dev\"\n",
    "\n",
    "res = requests.get(trainDB_url)\n",
    "features = res.json()[\"features\"]\n",
    "data = res.json()[\"rows\"]\n",
    "\n",
    "train_instructions = []\n",
    "train_input_imgs = []\n",
    "train_output_imgs = []\n",
    "\n",
    "tokenizer = AutoTokenizer.from_pretrained(\"openai/clip-vit-base-patch32\")\n",
    "processor = AutoProcessor.from_pretrained(\"openai/clip-vit-base-patch32\")\n",
    "\n",
    "max_len_input = 0\n",
    "\n",
    "for d in data:\n",
    "    instruction = d[\"row\"][\"instruction\"]\n",
    "    max_len_input = max(len(instruction), max_len_input)\n",
    "\n",
    "\n",
    "for d in data:\n",
    "    train_instructions.append(d[\"row\"][\"instruction\"])\n",
    "\n",
    "    # downloading the source image from the url\n",
    "    res = requests.get(d[\"row\"][\"source_img\"][\"src\"])\n",
    "    img = Image.open(BytesIO(res.content))\n",
    "    input_img = processor(images=img, return_tensors=\"pt\")[\"pixel_values\"]\n",
    "\n",
    "    # downloading the target image from the url\n",
    "    res = requests.get(d[\"row\"][\"target_img\"][\"src\"])\n",
    "    img = Image.open(BytesIO(res.content))\n",
    "    output_img = processor(images=img, return_tensors=\"pt\")[\"pixel_values\"]\n",
    "\n",
    "    train_input_imgs.append(input_img)\n",
    "    train_output_imgs.append(output_img)\n",
    "\n",
    "res = requests.get(devDB_url)\n",
    "features = res.json()[\"features\"]\n",
    "data = res.json()[\"rows\"]\n",
    "\n",
    "dev_instructions = []\n",
    "dev_input_imgs = []\n",
    "dev_output_imgs = []\n",
    "\n",
    "max_len_out = 0\n",
    "for d in data:\n",
    "    instruction = d[\"row\"][\"instruction\"]\n",
    "    max_len_output = max(len(instruction), max_len_out)\n",
    "\n",
    "for d in data:\n",
    "    dev_instructions.append(d[\"row\"][\"instruction\"])\n",
    "\n",
    "    # downloading the source image from the url\n",
    "    res = requests.get(d[\"row\"][\"source_img\"][\"src\"])\n",
    "    img = Image.open(BytesIO(res.content))\n",
    "    input_img = processor(images=img, return_tensors=\"pt\")[\"pixel_values\"]\n",
    "\n",
    "    # downloading the target image from the url\n",
    "    res = requests.get(d[\"row\"][\"target_img\"][\"src\"])\n",
    "    img = Image.open(BytesIO(res.content))\n",
    "    output_img = processor(images=img, return_tensors=\"pt\")[\"pixel_values\"]\n",
    "\n",
    "    dev_input_imgs.append(input_img)\n",
    "    dev_output_imgs.append(output_img)\n",
    "\n",
    "\n",
    "input_ids = []\n",
    "max_len = max(max_len_input, max_len_out)\n",
    "for sent in train_instructions:\n",
    "    encoded_dict = tokenizer.encode_plus(\n",
    "        sent,  # Sentence to encode.\n",
    "        add_special_tokens=True,  # Add '[CLS]' and '[SEP]'\n",
    "        max_length=max_len + 10,  # Pad & truncate all sentences.\n",
    "        pad_to_max_length=True,\n",
    "        padding=\"max_length\",\n",
    "        return_tensors=\"pt\",  # Return pytorch tensors.\n",
    "    )\n",
    "    input_ids.append(encoded_dict[\"input_ids\"])\n",
    "train_instructions = input_ids\n",
    "\n",
    "input_ids = []\n",
    "for sent in dev_instructions:\n",
    "    encoded_dict = tokenizer.encode_plus(\n",
    "        sent,  # Sentence to encode.\n",
    "        add_special_tokens=True,  # Add '[CLS]' and '[SEP]'\n",
    "        max_length=max_len + 10,  # Pad & truncate all sentences.\n",
    "        pad_to_max_length=True,\n",
    "        padding=\"max_length\",\n",
    "        return_tensors=\"pt\",  # Return pytorch tensors.\n",
    "    )\n",
    "\n",
    "    input_ids.append(encoded_dict[\"input_ids\"])\n",
    "dev_instructions = input_ids\n",
    "\n",
    "\n",
    "train_input_imgs = torch.cat(train_input_imgs, dim=0)\n",
    "dev_input_imgs = torch.cat(dev_input_imgs, dim=0)\n",
    "\n",
    "train_output_imgs = torch.cat(train_output_imgs, dim=0)\n",
    "dev_output_imgs = torch.cat(dev_output_imgs, dim=0)\n",
    "\n",
    "train_instructions = torch.cat(train_instructions, dim=0)\n",
    "dev_instructions = torch.cat(dev_instructions, dim=0)\n",
    "\n",
    "train_dataset = TensorDataset(train_input_imgs, train_instructions, train_output_imgs)\n",
    "dev_dataset = TensorDataset(dev_input_imgs, dev_instructions, dev_output_imgs)\n",
    "\n",
    "train_dataloader = DataLoader(\n",
    "    train_dataset, sampler=RandomSampler(train_dataset), batch_size=batch_size\n",
    ")\n",
    "\n",
    "validation_dataloader = DataLoader(\n",
    "    dev_dataset, sampler=SequentialSampler(dev_dataset), batch_size=batch_size\n",
    ")"
   ]
  },
  {
   "cell_type": "markdown",
   "metadata": {},
   "source": [
    "# Model Definition"
   ]
  },
  {
   "cell_type": "code",
<<<<<<< HEAD
   "execution_count": 4,
=======
   "execution_count": 3,
>>>>>>> main
   "metadata": {},
   "outputs": [
    {
     "data": {
      "text/plain": [
       "T2IModel(\n",
       "  (text_model_): CLIPTextModelWithProjection(\n",
       "    (text_model): CLIPTextTransformer(\n",
       "      (embeddings): CLIPTextEmbeddings(\n",
       "        (token_embedding): Embedding(49408, 512)\n",
       "        (position_embedding): Embedding(77, 512)\n",
       "      )\n",
       "      (encoder): CLIPEncoder(\n",
       "        (layers): ModuleList(\n",
       "          (0-11): 12 x CLIPEncoderLayer(\n",
       "            (self_attn): CLIPAttention(\n",
       "              (k_proj): Linear(in_features=512, out_features=512, bias=True)\n",
       "              (v_proj): Linear(in_features=512, out_features=512, bias=True)\n",
       "              (q_proj): Linear(in_features=512, out_features=512, bias=True)\n",
       "              (out_proj): Linear(in_features=512, out_features=512, bias=True)\n",
       "            )\n",
       "            (layer_norm1): LayerNorm((512,), eps=1e-05, elementwise_affine=True)\n",
       "            (mlp): CLIPMLP(\n",
       "              (activation_fn): QuickGELUActivation()\n",
       "              (fc1): Linear(in_features=512, out_features=2048, bias=True)\n",
       "              (fc2): Linear(in_features=2048, out_features=512, bias=True)\n",
       "            )\n",
       "            (layer_norm2): LayerNorm((512,), eps=1e-05, elementwise_affine=True)\n",
       "          )\n",
       "        )\n",
       "      )\n",
       "      (final_layer_norm): LayerNorm((512,), eps=1e-05, elementwise_affine=True)\n",
       "    )\n",
       "    (text_projection): Linear(in_features=512, out_features=512, bias=False)\n",
       "  )\n",
       "  (vision_model_): CLIPVisionModelWithProjection(\n",
       "    (vision_model): CLIPVisionTransformer(\n",
       "      (embeddings): CLIPVisionEmbeddings(\n",
       "        (patch_embedding): Conv2d(3, 768, kernel_size=(32, 32), stride=(32, 32), bias=False)\n",
       "        (position_embedding): Embedding(50, 768)\n",
       "      )\n",
       "      (pre_layrnorm): LayerNorm((768,), eps=1e-05, elementwise_affine=True)\n",
       "      (encoder): CLIPEncoder(\n",
       "        (layers): ModuleList(\n",
       "          (0-11): 12 x CLIPEncoderLayer(\n",
       "            (self_attn): CLIPAttention(\n",
       "              (k_proj): Linear(in_features=768, out_features=768, bias=True)\n",
       "              (v_proj): Linear(in_features=768, out_features=768, bias=True)\n",
       "              (q_proj): Linear(in_features=768, out_features=768, bias=True)\n",
       "              (out_proj): Linear(in_features=768, out_features=768, bias=True)\n",
       "            )\n",
       "            (layer_norm1): LayerNorm((768,), eps=1e-05, elementwise_affine=True)\n",
       "            (mlp): CLIPMLP(\n",
       "              (activation_fn): QuickGELUActivation()\n",
       "              (fc1): Linear(in_features=768, out_features=3072, bias=True)\n",
       "              (fc2): Linear(in_features=3072, out_features=768, bias=True)\n",
       "            )\n",
       "            (layer_norm2): LayerNorm((768,), eps=1e-05, elementwise_affine=True)\n",
       "          )\n",
       "        )\n",
       "      )\n",
       "      (post_layernorm): LayerNorm((768,), eps=1e-05, elementwise_affine=True)\n",
       "    )\n",
       "    (visual_projection): Linear(in_features=768, out_features=512, bias=False)\n",
       "  )\n",
       "  (fc): Linear(in_features=2560, out_features=1280, bias=True)\n",
       "  (fc1): Linear(in_features=512, out_features=1280, bias=True)\n",
       "  (fc2): Linear(in_features=512, out_features=1280, bias=True)\n",
       ")"
      ]
     },
     "execution_count": 4,
     "metadata": {},
     "output_type": "execute_result"
    }
   ],
   "source": [
    "from transformers import CLIPTextModelWithProjection, CLIPVisionModelWithProjection\n",
    "import torch.nn as nn\n",
    "from transformers import AdamW\n",
    "import os\n",
    "\n",
    "\n",
    "class T2IModel(nn.Module):\n",
    "    def __init__(self):\n",
    "        super(T2IModel, self).__init__()\n",
    "        self.text_model_ = CLIPTextModelWithProjection.from_pretrained(\n",
    "            \"openai/clip-vit-base-patch32\"\n",
    "        )\n",
    "        self.vision_model_ = CLIPVisionModelWithProjection.from_pretrained(\n",
    "            \"openai/clip-vit-base-patch32\"\n",
    "        )\n",
    "        self.fc = nn.Linear(2 * 1280, 1280)\n",
    "        self.fc1 = nn.Linear(512, 1280)\n",
    "        self.fc2 = nn.Linear(512, 1280)\n",
    "\n",
    "    def vision_model(self, imgs):\n",
    "        x = self.vision_model_(imgs).image_embeds\n",
    "        x = self.fc1(x)\n",
    "        return x\n",
    "\n",
    "    def text_model(self, instructions):\n",
    "        x = self.text_model_(instructions).text_embeds\n",
    "        x = self.fc2(x)\n",
    "\n",
    "        return x\n",
    "\n",
    "    def initialize_optimizer(self):\n",
    "        params = (\n",
    "            list(self.fc.parameters())\n",
    "            + list(self.fc1.parameters())\n",
    "            + list(self.fc2.parameters())\n",
    "        )\n",
    "        optimizer = AdamW(params, lr=1e-4)\n",
    "        return optimizer\n",
    "\n",
    "    def forward(self, input_imgs, instructions):\n",
    "        text_embeds = self.text_model(instructions)\n",
    "        vision_embeds = self.vision_model(input_imgs)\n",
    "        x = torch.cat((vision_embeds, text_embeds), 1)\n",
    "        x = self.fc(x)\n",
    "        return x\n",
    "\n",
    "    def output_embedding(self, target_images):\n",
    "        target_image_embeds = self.vision_model(target_images)\n",
    "\n",
    "        return target_image_embeds\n",
    "\n",
    "    def custom_loss(self, output_embeddings, target_embeddings):\n",
    "        mse_loss = nn.MSELoss()\n",
    "        loss = mse_loss(output_embeddings, target_embeddings)\n",
    "\n",
    "        return loss\n",
    "\n",
    "    def save_model(self, output_dir=\"../model_save/\", filename=\"model_checkpoint.pt\"):\n",
    "        if not os.path.exists(output_dir):\n",
    "            os.makedirs(output_dir)\n",
    "        file_path = output_dir + filename\n",
    "        print(\"Saving model to %s\" % file_path)\n",
    "\n",
    "        torch.save(model.state_dict(), file_path)\n",
    "\n",
    "    def get_cos(self, input1, input2):\n",
    "        cos = torch.nn.CosineSimilarity(dim=1, eps=1e-6)\n",
    "        similarity = cos(input1, input2)\n",
    "        avg = torch.sum(similarity) / len(similarity)\n",
    "        return avg\n",
    "\n",
    "    def metrics(self, input1, input2):\n",
    "        cos = self.get_cos(input1, input2)\n",
    "        return [cos]\n",
    "\n",
    "    def visualization(self, input_img, instruction):\n",
    "        output_embeddings = self.forward(input_img, instruction)\n",
    "        neg_image_embed = self.vision_model(input_img)\n",
    "\n",
    "        pipe = KandinskyV22Pipeline.from_pretrained(\n",
    "            \"kandinsky-community/kandinsky-2-2-decoder\", torch_dtype=torch.float16\n",
    "        )\n",
    "        pipe.to(device)\n",
    "        image = pipe(\n",
    "            image_embeds=output_embeddings,\n",
    "            negative_image_embeds=neg_image_embed,\n",
    "            height=768,\n",
    "            width=768,\n",
    "            num_inference_steps=100,\n",
    "        ).images\n",
    "\n",
    "        image[0].save(\"./out.png\")\n",
    "\n",
    "\n",
    "model = T2IModel()\n",
    "model.to(device=device)"
   ]
  },
  {
   "cell_type": "code",
<<<<<<< HEAD
   "execution_count": 5,
=======
   "execution_count": 4,
   "metadata": {},
   "outputs": [],
   "source": [
    "\n",
    "def load_model(model, model_path):\n",
    "    loaded_model = T2IModel()  \n",
    "\n",
    "    state_dict = torch.load(model_path)\n",
    "\n",
    "    loaded_model.load_state_dict(state_dict)\n",
    "\n",
    "    return loaded_model\n"
   ]
  },
  {
   "cell_type": "code",
   "execution_count": null,
>>>>>>> main
   "metadata": {},
   "outputs": [
    {
     "name": "stderr",
     "output_type": "stream",
     "text": [
      "/Users/abhiram/miniconda3/envs/nlp/lib/python3.10/site-packages/transformers/optimization.py:411: FutureWarning: This implementation of AdamW is deprecated and will be removed in a future version. Use the PyTorch implementation torch.optim.AdamW instead, or set `no_deprecation_warning=True` to disable this warning\n",
      "  warnings.warn(\n"
     ]
    }
   ],
   "source": [
    "optimizer = model.initialize_optimizer()"
   ]
  },
  {
   "cell_type": "markdown",
   "metadata": {},
   "source": [
    "# Training Loop"
   ]
  },
  {
   "cell_type": "code",
   "execution_count": 6,
   "metadata": {},
   "outputs": [
    {
     "name": "stdout",
     "output_type": "stream",
     "text": [
      "\n",
      "======== Epoch 1 / 1 ========\n",
      "Training...\n",
      "  Average training loss: 0.08\n",
      "\n",
      "Running Validation...\n",
      "  Validation Loss: 0.06\n",
      " Validation cosine similarity: 0.42\n",
      " Training completed!\n"
     ]
    }
   ],
   "source": [
    "from tensordict import TensorDict\n",
    "\n",
    "num_epochs = 1\n",
    "training_stats = []\n",
    "\n",
    "for epoch in range(num_epochs):\n",
    "    print(\"\")\n",
    "    print(\"======== Epoch {:} / {:} ========\".format(epoch + 1, num_epochs))\n",
    "    print(\"Training...\")\n",
    "\n",
    "    total_train_loss = 0\n",
    "    model.train()\n",
    "    for batch in train_dataloader:\n",
    "        model.zero_grad()\n",
    "\n",
    "        # forward pass\n",
    "        input_images = batch[0].to(device=device)\n",
    "        instructions = batch[1].to(device=device)\n",
    "        target_images = batch[2].to(device=device)\n",
    "        output_embeddings = model(input_images, instructions)\n",
    "        input_images = input_images.to(\"cpu\")\n",
    "        instructions = instructions.to(\"cpu\")\n",
    "        target_images = target_images.to(\"cpu\")\n",
    "\n",
    "        # Generating target embeddings\n",
    "        target_images = target_images.to(device=device)\n",
    "        target_img_embeddings = model.output_embedding(target_images)\n",
    "        target_images = target_images.to(\"cpu\")\n",
    "\n",
    "        # Calculate loss\n",
    "        loss = model.custom_loss(output_embeddings, target_img_embeddings)\n",
    "        total_train_loss += loss.item()\n",
    "\n",
    "        # Backward pass\n",
    "        loss.backward()\n",
    "        optimizer.step()\n",
    "\n",
    "    avg_train_loss = total_train_loss / len(train_dataloader)\n",
    "    print(\"  Average training loss: {0:.2f}\".format(avg_train_loss))\n",
    "\n",
    "    print(\"\")\n",
    "    print(\"Running Validation...\")\n",
    "    model.eval()\n",
    "\n",
    "    total_eval_loss = 0\n",
    "    avg_cos = 0\n",
    "    nb_eval_steps = 0\n",
    "\n",
    "    for batch in validation_dataloader:\n",
    "        model.zero_grad()\n",
    "\n",
    "        # Forward pass\n",
    "        input_images = batch[0].to(device=device)\n",
    "        instructions = batch[1].to(device=device)\n",
    "        target_images = batch[2].to(device=device)\n",
    "        output_embeddings = model(input_images, instructions)\n",
    "        input_images = input_images.to(\"cpu\")\n",
    "        instructions = instructions.to(\"cpu\")\n",
    "        target_images = target_images.to(\"cpu\")\n",
    "\n",
    "        # Generating target embeddings\n",
    "        target_images = target_images.to(device=device)\n",
    "        target_img_embeddings = model.output_embedding(target_images)\n",
    "        target_images = target_images.to(\"cpu\")\n",
    "\n",
    "        # Calculate loss\n",
    "        loss = model.custom_loss(output_embeddings, target_img_embeddings)\n",
    "        total_eval_loss += loss.item()\n",
    "        avg_cos += model.get_cos(output_embeddings, target_img_embeddings).item()\n",
    "\n",
    "    avg_val_loss = total_eval_loss / len(validation_dataloader)\n",
    "    print(\"  Validation Loss: {0:.2f}\".format(avg_val_loss))\n",
    "\n",
    "    avg_cos /= len(validation_dataloader)\n",
    "    print(\" Validation cosine similarity: {0:.2f}\".format(avg_cos))\n",
    "\n",
    "    training_stats.append(\n",
    "        {\n",
    "            \"epoch\": epoch + 1,\n",
    "            \"avg_training_loss\": avg_train_loss,\n",
    "            \"avg_val_loss\": avg_val_loss,\n",
    "            \"avg_cos\": avg_cos,\n",
    "        }\n",
    "    )\n",
    "\n",
    "print(\" Training completed!\")"
   ]
  },
  {
   "cell_type": "markdown",
   "metadata": {},
   "source": [
    "# Visualization"
   ]
  },
  {
   "cell_type": "code",
   "execution_count": 7,
   "metadata": {},
   "outputs": [
    {
     "name": "stdout",
     "output_type": "stream",
     "text": [
      "huggingface/tokenizers: The current process just got forked, after parallelism has already been used. Disabling parallelism to avoid deadlocks...\n",
      "To disable this warning, you can either:\n",
      "\t- Avoid using `tokenizers` before the fork if possible\n",
      "\t- Explicitly set the environment variable TOKENIZERS_PARALLELISM=(true | false)\n"
     ]
    },
    {
     "name": "stderr",
     "output_type": "stream",
     "text": [
      "100%|██████████| 100/100 [03:58<00:00,  2.39s/it]\n"
     ]
    }
   ],
   "source": [
    "img = Image.open(\"../assets/cat1.png\")\n",
    "input_image = processor(images=img, return_tensors=\"pt\")[\"pixel_values\"]\n",
    "\n",
    "instruction = \"Put a toy in the cat's mouth.\"\n",
    "encoded_inst = tokenizer.encode_plus(\n",
    "    instruction,  # Sentence to encode.\n",
    "    add_special_tokens=True,  # Add '[CLS]' and '[SEP]'\n",
    "    max_length=max_len + 10,  # Pad & truncate all sentences.\n",
    "    pad_to_max_length=True,\n",
    "    padding=\"max_length\",\n",
    "    return_tensors=\"pt\",  # Return pytorch tensors.\n",
    ")\n",
    "\n",
    "input_image = input_image.to(device)\n",
    "instruction = encoded_inst[\"input_ids\"].to(device)\n",
    "\n",
    "model.visualization(input_image, instruction)"
   ]
  },
  {
   "cell_type": "markdown",
   "metadata": {},
   "source": [
    "# Run the below code for plotting metrics"
   ]
  },
  {
   "cell_type": "code",
   "execution_count": 8,
   "metadata": {},
   "outputs": [
    {
     "data": {
      "text/html": [
       "<div>\n",
       "<style scoped>\n",
       "    .dataframe tbody tr th:only-of-type {\n",
       "        vertical-align: middle;\n",
       "    }\n",
       "\n",
       "    .dataframe tbody tr th {\n",
       "        vertical-align: top;\n",
       "    }\n",
       "\n",
       "    .dataframe thead th {\n",
       "        text-align: right;\n",
       "    }\n",
       "</style>\n",
       "<table border=\"1\" class=\"dataframe\">\n",
       "  <thead>\n",
       "    <tr style=\"text-align: right;\">\n",
       "      <th></th>\n",
       "      <th>avg_training_loss</th>\n",
       "      <th>avg_val_loss</th>\n",
       "      <th>avg_cos</th>\n",
       "    </tr>\n",
       "    <tr>\n",
       "      <th>epoch</th>\n",
       "      <th></th>\n",
       "      <th></th>\n",
       "      <th></th>\n",
       "    </tr>\n",
       "  </thead>\n",
       "  <tbody>\n",
       "    <tr>\n",
       "      <th>1</th>\n",
       "      <td>0.08</td>\n",
       "      <td>0.06</td>\n",
       "      <td>0.42</td>\n",
       "    </tr>\n",
       "  </tbody>\n",
       "</table>\n",
       "</div>"
      ],
      "text/plain": [
       "       avg_training_loss  avg_val_loss  avg_cos\n",
       "epoch                                          \n",
       "1                   0.08          0.06     0.42"
      ]
     },
     "execution_count": 8,
     "metadata": {},
     "output_type": "execute_result"
    }
   ],
   "source": [
    "import pandas as pd\n",
    "\n",
    "pd.set_option(\"display.precision\", 2)\n",
    "df_stats = pd.DataFrame(data=training_stats)\n",
    "df_stats = df_stats.set_index(\"epoch\")\n",
    "df_stats"
   ]
  },
  {
   "cell_type": "code",
   "execution_count": 9,
   "metadata": {},
   "outputs": [
    {
     "data": {
      "image/png": "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",
      "text/plain": [
       "<Figure size 1200x600 with 1 Axes>"
      ]
     },
     "metadata": {},
     "output_type": "display_data"
    }
   ],
   "source": [
    "import matplotlib.pyplot as plt\n",
    "\n",
    "%matplotlib inline\n",
    "\n",
    "import seaborn as sns\n",
    "\n",
    "\n",
    "# Use plot styling from seaborn.\n",
    "sns.set(style=\"darkgrid\")\n",
    "\n",
    "# Increase the plot size and font size.\n",
    "sns.set(font_scale=1.5)\n",
    "plt.rcParams[\"figure.figsize\"] = (12, 6)\n",
    "\n",
    "# Plot the learning curve.\n",
    "plt.plot(df_stats[\"avg_training_loss\"], \"b-o\", label=\"Training\")\n",
    "plt.plot(df_stats[\"avg_val_loss\"], \"g-o\", label=\"Validation\")\n",
    "plt.plot(df_stats[\"avg_cos\"], \"y-o\", label=\"Val Cosine Similarity\")\n",
    "\n",
    "# Label the plot.\n",
    "plt.title(\"Training & Validation Loss\")\n",
    "plt.xlabel(\"Epoch\")\n",
    "plt.ylabel(\"Loss\")\n",
    "plt.legend()\n",
    "plt.xticks(df_stats.index)\n",
    "\n",
    "plt.show()"
   ]
  },
  {
   "cell_type": "code",
   "execution_count": 10,
   "metadata": {},
   "outputs": [],
   "source": [
    "# uncomment below line for mps users.\n",
    "# torch.mps.empty_cache()"
   ]
  },
  {
   "cell_type": "code",
   "execution_count": null,
   "metadata": {},
   "outputs": [],
   "source": []
  }
 ],
 "metadata": {
  "accelerator": "GPU",
  "colab": {
   "gpuType": "T4",
   "provenance": []
  },
  "kernelspec": {
   "display_name": "Python 3",
   "name": "python3"
  },
  "language_info": {
   "codemirror_mode": {
    "name": "ipython",
    "version": 3
   },
   "file_extension": ".py",
   "mimetype": "text/x-python",
   "name": "python",
   "nbconvert_exporter": "python",
   "pygments_lexer": "ipython3",
   "version": "3.11.6"
  }
 },
 "nbformat": 4,
 "nbformat_minor": 0
}
